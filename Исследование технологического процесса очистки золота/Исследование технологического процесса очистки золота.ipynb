{
 "cells": [
  {
   "cell_type": "markdown",
   "id": "3261c9b0-360f-4293-8a0e-e0012a7d87b4",
   "metadata": {},
   "source": [
    "<h1>Содержание<span class=\"tocSkip\"></span></h1>\n",
    "<div class=\"toc\"><ul class=\"toc-item\"><li><span><a href=\"#Подготовка-данных\" data-toc-modified-id=\"Подготовка-данных-1\"><span class=\"toc-item-num\">1&nbsp;&nbsp;</span>Подготовка данных</a></span></li><li><span><a href=\"#Анализ-данных\" data-toc-modified-id=\"Анализ-данных-2\"><span class=\"toc-item-num\">2&nbsp;&nbsp;</span>Анализ данных</a></span></li><li><span><a href=\"#Модель\" data-toc-modified-id=\"Модель-3\"><span class=\"toc-item-num\">3&nbsp;&nbsp;</span>Модель</a></span></li><li><span><a href=\"#Чек-лист-готовности-проекта\" data-toc-modified-id=\"Чек-лист-готовности-проекта-4\"><span class=\"toc-item-num\">4&nbsp;&nbsp;</span>Чек-лист готовности проекта</a></span></li></ul></div>"
   ]
  },
  {
   "cell_type": "markdown",
   "id": "e4b66228-e938-4ca1-9984-afc4b0116efc",
   "metadata": {},
   "source": [
    "# Восстановление золота из руды"
   ]
  },
  {
   "cell_type": "markdown",
   "id": "2796a4b4-a166-4c5b-9664-204f9e0083e1",
   "metadata": {
    "tags": []
   },
   "source": [
    "## Подготовка данных"
   ]
  },
  {
   "cell_type": "code",
   "execution_count": 1,
   "id": "6177334e-fc30-4c2a-b97f-ae4e8c77b42c",
   "metadata": {},
   "outputs": [],
   "source": [
    "import pandas as pd\n",
    "import numpy as np\n",
    "import matplotlib.pyplot as plt\n",
    "from sklearn.metrics import mean_absolute_error\n",
    "from sklearn.linear_model import LinearRegression\n",
    "from sklearn.tree import DecisionTreeRegressor\n",
    "import seaborn as sns\n",
    "from sklearn.model_selection import cross_val_score\n",
    "from sklearn.model_selection import GridSearchCV\n",
    "from sklearn.metrics import make_scorer"
   ]
  },
  {
   "cell_type": "code",
   "execution_count": 3,
   "id": "df1ab172-54a1-4e69-95a7-7e32676a5139",
   "metadata": {
    "tags": []
   },
   "outputs": [
    {
     "name": "stdout",
     "output_type": "stream",
     "text": [
      "<class 'pandas.core.frame.DataFrame'>\n",
      "RangeIndex: 19439 entries, 0 to 19438\n",
      "Data columns (total 87 columns):\n",
      " #   Column                                              Non-Null Count  Dtype  \n",
      "---  ------                                              --------------  -----  \n",
      " 0   date                                                19439 non-null  object \n",
      " 1   final.output.concentrate_ag                         19438 non-null  float64\n",
      " 2   final.output.concentrate_pb                         19438 non-null  float64\n",
      " 3   final.output.concentrate_sol                        19228 non-null  float64\n",
      " 4   final.output.concentrate_au                         19439 non-null  float64\n",
      " 5   final.output.recovery                               19439 non-null  float64\n",
      " 6   final.output.tail_ag                                19438 non-null  float64\n",
      " 7   final.output.tail_pb                                19338 non-null  float64\n",
      " 8   final.output.tail_sol                               19433 non-null  float64\n",
      " 9   final.output.tail_au                                19439 non-null  float64\n",
      " 10  primary_cleaner.input.sulfate                       19415 non-null  float64\n",
      " 11  primary_cleaner.input.depressant                    19402 non-null  float64\n",
      " 12  primary_cleaner.input.feed_size                     19439 non-null  float64\n",
      " 13  primary_cleaner.input.xanthate                      19335 non-null  float64\n",
      " 14  primary_cleaner.output.concentrate_ag               19439 non-null  float64\n",
      " 15  primary_cleaner.output.concentrate_pb               19323 non-null  float64\n",
      " 16  primary_cleaner.output.concentrate_sol              19069 non-null  float64\n",
      " 17  primary_cleaner.output.concentrate_au               19439 non-null  float64\n",
      " 18  primary_cleaner.output.tail_ag                      19435 non-null  float64\n",
      " 19  primary_cleaner.output.tail_pb                      19418 non-null  float64\n",
      " 20  primary_cleaner.output.tail_sol                     19377 non-null  float64\n",
      " 21  primary_cleaner.output.tail_au                      19439 non-null  float64\n",
      " 22  primary_cleaner.state.floatbank8_a_air              19435 non-null  float64\n",
      " 23  primary_cleaner.state.floatbank8_a_level            19438 non-null  float64\n",
      " 24  primary_cleaner.state.floatbank8_b_air              19435 non-null  float64\n",
      " 25  primary_cleaner.state.floatbank8_b_level            19438 non-null  float64\n",
      " 26  primary_cleaner.state.floatbank8_c_air              19437 non-null  float64\n",
      " 27  primary_cleaner.state.floatbank8_c_level            19438 non-null  float64\n",
      " 28  primary_cleaner.state.floatbank8_d_air              19436 non-null  float64\n",
      " 29  primary_cleaner.state.floatbank8_d_level            19438 non-null  float64\n",
      " 30  rougher.calculation.sulfate_to_au_concentrate       19437 non-null  float64\n",
      " 31  rougher.calculation.floatbank10_sulfate_to_au_feed  19437 non-null  float64\n",
      " 32  rougher.calculation.floatbank11_sulfate_to_au_feed  19437 non-null  float64\n",
      " 33  rougher.calculation.au_pb_ratio                     19439 non-null  float64\n",
      " 34  rougher.input.feed_ag                               19439 non-null  float64\n",
      " 35  rougher.input.feed_pb                               19339 non-null  float64\n",
      " 36  rougher.input.feed_rate                             19428 non-null  float64\n",
      " 37  rougher.input.feed_size                             19294 non-null  float64\n",
      " 38  rougher.input.feed_sol                              19340 non-null  float64\n",
      " 39  rougher.input.feed_au                               19439 non-null  float64\n",
      " 40  rougher.input.floatbank10_sulfate                   19405 non-null  float64\n",
      " 41  rougher.input.floatbank10_xanthate                  19431 non-null  float64\n",
      " 42  rougher.input.floatbank11_sulfate                   19395 non-null  float64\n",
      " 43  rougher.input.floatbank11_xanthate                  18986 non-null  float64\n",
      " 44  rougher.output.concentrate_ag                       19439 non-null  float64\n",
      " 45  rougher.output.concentrate_pb                       19439 non-null  float64\n",
      " 46  rougher.output.concentrate_sol                      19416 non-null  float64\n",
      " 47  rougher.output.concentrate_au                       19439 non-null  float64\n",
      " 48  rougher.output.recovery                             19439 non-null  float64\n",
      " 49  rougher.output.tail_ag                              19438 non-null  float64\n",
      " 50  rougher.output.tail_pb                              19439 non-null  float64\n",
      " 51  rougher.output.tail_sol                             19439 non-null  float64\n",
      " 52  rougher.output.tail_au                              19439 non-null  float64\n",
      " 53  rougher.state.floatbank10_a_air                     19438 non-null  float64\n",
      " 54  rougher.state.floatbank10_a_level                   19438 non-null  float64\n",
      " 55  rougher.state.floatbank10_b_air                     19438 non-null  float64\n",
      " 56  rougher.state.floatbank10_b_level                   19438 non-null  float64\n",
      " 57  rougher.state.floatbank10_c_air                     19438 non-null  float64\n",
      " 58  rougher.state.floatbank10_c_level                   19438 non-null  float64\n",
      " 59  rougher.state.floatbank10_d_air                     19439 non-null  float64\n",
      " 60  rougher.state.floatbank10_d_level                   19439 non-null  float64\n",
      " 61  rougher.state.floatbank10_e_air                     19003 non-null  float64\n",
      " 62  rougher.state.floatbank10_e_level                   19439 non-null  float64\n",
      " 63  rougher.state.floatbank10_f_air                     19439 non-null  float64\n",
      " 64  rougher.state.floatbank10_f_level                   19439 non-null  float64\n",
      " 65  secondary_cleaner.output.tail_ag                    19437 non-null  float64\n",
      " 66  secondary_cleaner.output.tail_pb                    19427 non-null  float64\n",
      " 67  secondary_cleaner.output.tail_sol                   17691 non-null  float64\n",
      " 68  secondary_cleaner.output.tail_au                    19439 non-null  float64\n",
      " 69  secondary_cleaner.state.floatbank2_a_air            19219 non-null  float64\n",
      " 70  secondary_cleaner.state.floatbank2_a_level          19438 non-null  float64\n",
      " 71  secondary_cleaner.state.floatbank2_b_air            19416 non-null  float64\n",
      " 72  secondary_cleaner.state.floatbank2_b_level          19438 non-null  float64\n",
      " 73  secondary_cleaner.state.floatbank3_a_air            19426 non-null  float64\n",
      " 74  secondary_cleaner.state.floatbank3_a_level          19438 non-null  float64\n",
      " 75  secondary_cleaner.state.floatbank3_b_air            19438 non-null  float64\n",
      " 76  secondary_cleaner.state.floatbank3_b_level          19438 non-null  float64\n",
      " 77  secondary_cleaner.state.floatbank4_a_air            19433 non-null  float64\n",
      " 78  secondary_cleaner.state.floatbank4_a_level          19438 non-null  float64\n",
      " 79  secondary_cleaner.state.floatbank4_b_air            19438 non-null  float64\n",
      " 80  secondary_cleaner.state.floatbank4_b_level          19438 non-null  float64\n",
      " 81  secondary_cleaner.state.floatbank5_a_air            19438 non-null  float64\n",
      " 82  secondary_cleaner.state.floatbank5_a_level          19438 non-null  float64\n",
      " 83  secondary_cleaner.state.floatbank5_b_air            19438 non-null  float64\n",
      " 84  secondary_cleaner.state.floatbank5_b_level          19438 non-null  float64\n",
      " 85  secondary_cleaner.state.floatbank6_a_air            19437 non-null  float64\n",
      " 86  secondary_cleaner.state.floatbank6_a_level          19438 non-null  float64\n",
      "dtypes: float64(86), object(1)\n",
      "memory usage: 12.9+ MB\n"
     ]
    }
   ],
   "source": [
    "data_full.info()"
   ]
  },
  {
   "cell_type": "code",
   "execution_count": 5,
   "id": "50ad0e75-7554-4042-84c2-6a325ba67a8a",
   "metadata": {},
   "outputs": [
    {
     "name": "stdout",
     "output_type": "stream",
     "text": [
      "<class 'pandas.core.frame.DataFrame'>\n",
      "RangeIndex: 14149 entries, 0 to 14148\n",
      "Data columns (total 87 columns):\n",
      " #   Column                                              Non-Null Count  Dtype  \n",
      "---  ------                                              --------------  -----  \n",
      " 0   date                                                14149 non-null  object \n",
      " 1   final.output.concentrate_ag                         14148 non-null  float64\n",
      " 2   final.output.concentrate_pb                         14148 non-null  float64\n",
      " 3   final.output.concentrate_sol                        13938 non-null  float64\n",
      " 4   final.output.concentrate_au                         14149 non-null  float64\n",
      " 5   final.output.recovery                               14149 non-null  float64\n",
      " 6   final.output.tail_ag                                14149 non-null  float64\n",
      " 7   final.output.tail_pb                                14049 non-null  float64\n",
      " 8   final.output.tail_sol                               14144 non-null  float64\n",
      " 9   final.output.tail_au                                14149 non-null  float64\n",
      " 10  primary_cleaner.input.sulfate                       14129 non-null  float64\n",
      " 11  primary_cleaner.input.depressant                    14117 non-null  float64\n",
      " 12  primary_cleaner.input.feed_size                     14149 non-null  float64\n",
      " 13  primary_cleaner.input.xanthate                      14049 non-null  float64\n",
      " 14  primary_cleaner.output.concentrate_ag               14149 non-null  float64\n",
      " 15  primary_cleaner.output.concentrate_pb               14063 non-null  float64\n",
      " 16  primary_cleaner.output.concentrate_sol              13863 non-null  float64\n",
      " 17  primary_cleaner.output.concentrate_au               14149 non-null  float64\n",
      " 18  primary_cleaner.output.tail_ag                      14148 non-null  float64\n",
      " 19  primary_cleaner.output.tail_pb                      14134 non-null  float64\n",
      " 20  primary_cleaner.output.tail_sol                     14103 non-null  float64\n",
      " 21  primary_cleaner.output.tail_au                      14149 non-null  float64\n",
      " 22  primary_cleaner.state.floatbank8_a_air              14145 non-null  float64\n",
      " 23  primary_cleaner.state.floatbank8_a_level            14148 non-null  float64\n",
      " 24  primary_cleaner.state.floatbank8_b_air              14145 non-null  float64\n",
      " 25  primary_cleaner.state.floatbank8_b_level            14148 non-null  float64\n",
      " 26  primary_cleaner.state.floatbank8_c_air              14147 non-null  float64\n",
      " 27  primary_cleaner.state.floatbank8_c_level            14148 non-null  float64\n",
      " 28  primary_cleaner.state.floatbank8_d_air              14146 non-null  float64\n",
      " 29  primary_cleaner.state.floatbank8_d_level            14148 non-null  float64\n",
      " 30  rougher.calculation.sulfate_to_au_concentrate       14148 non-null  float64\n",
      " 31  rougher.calculation.floatbank10_sulfate_to_au_feed  14148 non-null  float64\n",
      " 32  rougher.calculation.floatbank11_sulfate_to_au_feed  14148 non-null  float64\n",
      " 33  rougher.calculation.au_pb_ratio                     14149 non-null  float64\n",
      " 34  rougher.input.feed_ag                               14149 non-null  float64\n",
      " 35  rougher.input.feed_pb                               14049 non-null  float64\n",
      " 36  rougher.input.feed_rate                             14141 non-null  float64\n",
      " 37  rougher.input.feed_size                             14005 non-null  float64\n",
      " 38  rougher.input.feed_sol                              14071 non-null  float64\n",
      " 39  rougher.input.feed_au                               14149 non-null  float64\n",
      " 40  rougher.input.floatbank10_sulfate                   14120 non-null  float64\n",
      " 41  rougher.input.floatbank10_xanthate                  14141 non-null  float64\n",
      " 42  rougher.input.floatbank11_sulfate                   14113 non-null  float64\n",
      " 43  rougher.input.floatbank11_xanthate                  13721 non-null  float64\n",
      " 44  rougher.output.concentrate_ag                       14149 non-null  float64\n",
      " 45  rougher.output.concentrate_pb                       14149 non-null  float64\n",
      " 46  rougher.output.concentrate_sol                      14127 non-null  float64\n",
      " 47  rougher.output.concentrate_au                       14149 non-null  float64\n",
      " 48  rougher.output.recovery                             14149 non-null  float64\n",
      " 49  rougher.output.tail_ag                              14148 non-null  float64\n",
      " 50  rougher.output.tail_pb                              14149 non-null  float64\n",
      " 51  rougher.output.tail_sol                             14149 non-null  float64\n",
      " 52  rougher.output.tail_au                              14149 non-null  float64\n",
      " 53  rougher.state.floatbank10_a_air                     14148 non-null  float64\n",
      " 54  rougher.state.floatbank10_a_level                   14148 non-null  float64\n",
      " 55  rougher.state.floatbank10_b_air                     14148 non-null  float64\n",
      " 56  rougher.state.floatbank10_b_level                   14148 non-null  float64\n",
      " 57  rougher.state.floatbank10_c_air                     14148 non-null  float64\n",
      " 58  rougher.state.floatbank10_c_level                   14148 non-null  float64\n",
      " 59  rougher.state.floatbank10_d_air                     14149 non-null  float64\n",
      " 60  rougher.state.floatbank10_d_level                   14149 non-null  float64\n",
      " 61  rougher.state.floatbank10_e_air                     13713 non-null  float64\n",
      " 62  rougher.state.floatbank10_e_level                   14149 non-null  float64\n",
      " 63  rougher.state.floatbank10_f_air                     14149 non-null  float64\n",
      " 64  rougher.state.floatbank10_f_level                   14149 non-null  float64\n",
      " 65  secondary_cleaner.output.tail_ag                    14147 non-null  float64\n",
      " 66  secondary_cleaner.output.tail_pb                    14139 non-null  float64\n",
      " 67  secondary_cleaner.output.tail_sol                   12544 non-null  float64\n",
      " 68  secondary_cleaner.output.tail_au                    14149 non-null  float64\n",
      " 69  secondary_cleaner.state.floatbank2_a_air            13932 non-null  float64\n",
      " 70  secondary_cleaner.state.floatbank2_a_level          14148 non-null  float64\n",
      " 71  secondary_cleaner.state.floatbank2_b_air            14128 non-null  float64\n",
      " 72  secondary_cleaner.state.floatbank2_b_level          14148 non-null  float64\n",
      " 73  secondary_cleaner.state.floatbank3_a_air            14145 non-null  float64\n",
      " 74  secondary_cleaner.state.floatbank3_a_level          14148 non-null  float64\n",
      " 75  secondary_cleaner.state.floatbank3_b_air            14148 non-null  float64\n",
      " 76  secondary_cleaner.state.floatbank3_b_level          14148 non-null  float64\n",
      " 77  secondary_cleaner.state.floatbank4_a_air            14143 non-null  float64\n",
      " 78  secondary_cleaner.state.floatbank4_a_level          14148 non-null  float64\n",
      " 79  secondary_cleaner.state.floatbank4_b_air            14148 non-null  float64\n",
      " 80  secondary_cleaner.state.floatbank4_b_level          14148 non-null  float64\n",
      " 81  secondary_cleaner.state.floatbank5_a_air            14148 non-null  float64\n",
      " 82  secondary_cleaner.state.floatbank5_a_level          14148 non-null  float64\n",
      " 83  secondary_cleaner.state.floatbank5_b_air            14148 non-null  float64\n",
      " 84  secondary_cleaner.state.floatbank5_b_level          14148 non-null  float64\n",
      " 85  secondary_cleaner.state.floatbank6_a_air            14147 non-null  float64\n",
      " 86  secondary_cleaner.state.floatbank6_a_level          14148 non-null  float64\n",
      "dtypes: float64(86), object(1)\n",
      "memory usage: 9.4+ MB\n"
     ]
    }
   ],
   "source": [
    "data_train.info()"
   ]
  },
  {
   "cell_type": "code",
   "execution_count": 7,
   "id": "af71def8-03b5-4276-90ea-fa5566f2c723",
   "metadata": {
    "tags": []
   },
   "outputs": [
    {
     "name": "stdout",
     "output_type": "stream",
     "text": [
      "<class 'pandas.core.frame.DataFrame'>\n",
      "RangeIndex: 5290 entries, 0 to 5289\n",
      "Data columns (total 53 columns):\n",
      " #   Column                                      Non-Null Count  Dtype  \n",
      "---  ------                                      --------------  -----  \n",
      " 0   date                                        5290 non-null   object \n",
      " 1   primary_cleaner.input.sulfate               5286 non-null   float64\n",
      " 2   primary_cleaner.input.depressant            5285 non-null   float64\n",
      " 3   primary_cleaner.input.feed_size             5290 non-null   float64\n",
      " 4   primary_cleaner.input.xanthate              5286 non-null   float64\n",
      " 5   primary_cleaner.state.floatbank8_a_air      5290 non-null   float64\n",
      " 6   primary_cleaner.state.floatbank8_a_level    5290 non-null   float64\n",
      " 7   primary_cleaner.state.floatbank8_b_air      5290 non-null   float64\n",
      " 8   primary_cleaner.state.floatbank8_b_level    5290 non-null   float64\n",
      " 9   primary_cleaner.state.floatbank8_c_air      5290 non-null   float64\n",
      " 10  primary_cleaner.state.floatbank8_c_level    5290 non-null   float64\n",
      " 11  primary_cleaner.state.floatbank8_d_air      5290 non-null   float64\n",
      " 12  primary_cleaner.state.floatbank8_d_level    5290 non-null   float64\n",
      " 13  rougher.input.feed_ag                       5290 non-null   float64\n",
      " 14  rougher.input.feed_pb                       5290 non-null   float64\n",
      " 15  rougher.input.feed_rate                     5287 non-null   float64\n",
      " 16  rougher.input.feed_size                     5289 non-null   float64\n",
      " 17  rougher.input.feed_sol                      5269 non-null   float64\n",
      " 18  rougher.input.feed_au                       5290 non-null   float64\n",
      " 19  rougher.input.floatbank10_sulfate           5285 non-null   float64\n",
      " 20  rougher.input.floatbank10_xanthate          5290 non-null   float64\n",
      " 21  rougher.input.floatbank11_sulfate           5282 non-null   float64\n",
      " 22  rougher.input.floatbank11_xanthate          5265 non-null   float64\n",
      " 23  rougher.state.floatbank10_a_air             5290 non-null   float64\n",
      " 24  rougher.state.floatbank10_a_level           5290 non-null   float64\n",
      " 25  rougher.state.floatbank10_b_air             5290 non-null   float64\n",
      " 26  rougher.state.floatbank10_b_level           5290 non-null   float64\n",
      " 27  rougher.state.floatbank10_c_air             5290 non-null   float64\n",
      " 28  rougher.state.floatbank10_c_level           5290 non-null   float64\n",
      " 29  rougher.state.floatbank10_d_air             5290 non-null   float64\n",
      " 30  rougher.state.floatbank10_d_level           5290 non-null   float64\n",
      " 31  rougher.state.floatbank10_e_air             5290 non-null   float64\n",
      " 32  rougher.state.floatbank10_e_level           5290 non-null   float64\n",
      " 33  rougher.state.floatbank10_f_air             5290 non-null   float64\n",
      " 34  rougher.state.floatbank10_f_level           5290 non-null   float64\n",
      " 35  secondary_cleaner.state.floatbank2_a_air    5287 non-null   float64\n",
      " 36  secondary_cleaner.state.floatbank2_a_level  5290 non-null   float64\n",
      " 37  secondary_cleaner.state.floatbank2_b_air    5288 non-null   float64\n",
      " 38  secondary_cleaner.state.floatbank2_b_level  5290 non-null   float64\n",
      " 39  secondary_cleaner.state.floatbank3_a_air    5281 non-null   float64\n",
      " 40  secondary_cleaner.state.floatbank3_a_level  5290 non-null   float64\n",
      " 41  secondary_cleaner.state.floatbank3_b_air    5290 non-null   float64\n",
      " 42  secondary_cleaner.state.floatbank3_b_level  5290 non-null   float64\n",
      " 43  secondary_cleaner.state.floatbank4_a_air    5290 non-null   float64\n",
      " 44  secondary_cleaner.state.floatbank4_a_level  5290 non-null   float64\n",
      " 45  secondary_cleaner.state.floatbank4_b_air    5290 non-null   float64\n",
      " 46  secondary_cleaner.state.floatbank4_b_level  5290 non-null   float64\n",
      " 47  secondary_cleaner.state.floatbank5_a_air    5290 non-null   float64\n",
      " 48  secondary_cleaner.state.floatbank5_a_level  5290 non-null   float64\n",
      " 49  secondary_cleaner.state.floatbank5_b_air    5290 non-null   float64\n",
      " 50  secondary_cleaner.state.floatbank5_b_level  5290 non-null   float64\n",
      " 51  secondary_cleaner.state.floatbank6_a_air    5290 non-null   float64\n",
      " 52  secondary_cleaner.state.floatbank6_a_level  5290 non-null   float64\n",
      "dtypes: float64(52), object(1)\n",
      "memory usage: 2.1+ MB\n"
     ]
    }
   ],
   "source": [
    "data_test.info()"
   ]
  },
  {
   "cell_type": "code",
   "execution_count": 8,
   "id": "ba234a18-1b52-47e2-9b1d-a3cd303108e7",
   "metadata": {},
   "outputs": [],
   "source": [
    "#проверка правильности расчета rougher.output.recovery\n",
    "rougher_output_recovery_check = (\n",
    "    (data_train['rougher.output.concentrate_au']*\n",
    "    (data_train['rougher.input.feed_au'] - data_train['rougher.output.tail_au']))/\n",
    "    (data_train['rougher.input.feed_au']*\n",
    "    (data_train['rougher.output.concentrate_au'] - data_train['rougher.output.tail_au']))*100\n",
    ")"
   ]
  },
  {
   "cell_type": "code",
   "execution_count": 9,
   "id": "2af4ce2e-67a1-4229-925a-6102db7e3c6d",
   "metadata": {},
   "outputs": [
    {
     "data": {
      "text/plain": [
       "9.73512347450521e-15"
      ]
     },
     "execution_count": 9,
     "metadata": {},
     "output_type": "execute_result"
    }
   ],
   "source": [
    "mean_absolute_error(rougher_output_recovery_check, data_train['rougher.output.recovery'])"
   ]
  },
  {
   "cell_type": "code",
   "execution_count": 10,
   "id": "619cf7b2-cc26-4279-a9cb-8a7c466aa3d1",
   "metadata": {},
   "outputs": [
    {
     "data": {
      "text/plain": [
       "(19439, 87)"
      ]
     },
     "execution_count": 10,
     "metadata": {},
     "output_type": "execute_result"
    }
   ],
   "source": [
    "data_full.shape"
   ]
  },
  {
   "cell_type": "code",
   "execution_count": 11,
   "id": "bc31005a-81b5-4142-8249-bcfd3872026d",
   "metadata": {},
   "outputs": [
    {
     "data": {
      "text/plain": [
       "(5290, 53)"
      ]
     },
     "execution_count": 11,
     "metadata": {},
     "output_type": "execute_result"
    }
   ],
   "source": [
    "data_test.shape"
   ]
  },
  {
   "cell_type": "code",
   "execution_count": 12,
   "id": "4303f44d-e13f-4af3-b97f-0d5f51dea8bf",
   "metadata": {
    "tags": []
   },
   "outputs": [
    {
     "data": {
      "text/plain": [
       "Index(['final.output.concentrate_ag', 'final.output.concentrate_pb',\n",
       "       'final.output.concentrate_sol', 'final.output.concentrate_au',\n",
       "       'final.output.recovery', 'final.output.tail_ag', 'final.output.tail_pb',\n",
       "       'final.output.tail_sol', 'final.output.tail_au',\n",
       "       'primary_cleaner.output.concentrate_ag',\n",
       "       'primary_cleaner.output.concentrate_pb',\n",
       "       'primary_cleaner.output.concentrate_sol',\n",
       "       'primary_cleaner.output.concentrate_au',\n",
       "       'primary_cleaner.output.tail_ag', 'primary_cleaner.output.tail_pb',\n",
       "       'primary_cleaner.output.tail_sol', 'primary_cleaner.output.tail_au',\n",
       "       'rougher.calculation.sulfate_to_au_concentrate',\n",
       "       'rougher.calculation.floatbank10_sulfate_to_au_feed',\n",
       "       'rougher.calculation.floatbank11_sulfate_to_au_feed',\n",
       "       'rougher.calculation.au_pb_ratio', 'rougher.output.concentrate_ag',\n",
       "       'rougher.output.concentrate_pb', 'rougher.output.concentrate_sol',\n",
       "       'rougher.output.concentrate_au', 'rougher.output.recovery',\n",
       "       'rougher.output.tail_ag', 'rougher.output.tail_pb',\n",
       "       'rougher.output.tail_sol', 'rougher.output.tail_au',\n",
       "       'secondary_cleaner.output.tail_ag', 'secondary_cleaner.output.tail_pb',\n",
       "       'secondary_cleaner.output.tail_sol',\n",
       "       'secondary_cleaner.output.tail_au'],\n",
       "      dtype='object')"
      ]
     },
     "execution_count": 12,
     "metadata": {},
     "output_type": "execute_result"
    }
   ],
   "source": [
    "#список отсутствующих столбцов в тестовой выборке\n",
    "data_full_col = data_full.columns\n",
    "data_full_col[data_full_col.isin(data_test.columns) == False]"
   ]
  },
  {
   "cell_type": "code",
   "execution_count": 13,
   "id": "2ad010c3-1a92-4493-8b2f-eebf6b002f78",
   "metadata": {
    "tags": []
   },
   "outputs": [],
   "source": [
    "data_full.fillna(method='ffill', inplace=True)"
   ]
  },
  {
   "cell_type": "code",
   "execution_count": 14,
   "id": "084e7488-4053-478f-a4e8-03702d9260ff",
   "metadata": {
    "tags": []
   },
   "outputs": [
    {
     "name": "stdout",
     "output_type": "stream",
     "text": [
      "<class 'pandas.core.frame.DataFrame'>\n",
      "RangeIndex: 19439 entries, 0 to 19438\n",
      "Data columns (total 87 columns):\n",
      " #   Column                                              Non-Null Count  Dtype  \n",
      "---  ------                                              --------------  -----  \n",
      " 0   date                                                19439 non-null  object \n",
      " 1   final.output.concentrate_ag                         19439 non-null  float64\n",
      " 2   final.output.concentrate_pb                         19439 non-null  float64\n",
      " 3   final.output.concentrate_sol                        19439 non-null  float64\n",
      " 4   final.output.concentrate_au                         19439 non-null  float64\n",
      " 5   final.output.recovery                               19439 non-null  float64\n",
      " 6   final.output.tail_ag                                19439 non-null  float64\n",
      " 7   final.output.tail_pb                                19439 non-null  float64\n",
      " 8   final.output.tail_sol                               19439 non-null  float64\n",
      " 9   final.output.tail_au                                19439 non-null  float64\n",
      " 10  primary_cleaner.input.sulfate                       19439 non-null  float64\n",
      " 11  primary_cleaner.input.depressant                    19439 non-null  float64\n",
      " 12  primary_cleaner.input.feed_size                     19439 non-null  float64\n",
      " 13  primary_cleaner.input.xanthate                      19439 non-null  float64\n",
      " 14  primary_cleaner.output.concentrate_ag               19439 non-null  float64\n",
      " 15  primary_cleaner.output.concentrate_pb               19439 non-null  float64\n",
      " 16  primary_cleaner.output.concentrate_sol              19439 non-null  float64\n",
      " 17  primary_cleaner.output.concentrate_au               19439 non-null  float64\n",
      " 18  primary_cleaner.output.tail_ag                      19439 non-null  float64\n",
      " 19  primary_cleaner.output.tail_pb                      19439 non-null  float64\n",
      " 20  primary_cleaner.output.tail_sol                     19439 non-null  float64\n",
      " 21  primary_cleaner.output.tail_au                      19439 non-null  float64\n",
      " 22  primary_cleaner.state.floatbank8_a_air              19439 non-null  float64\n",
      " 23  primary_cleaner.state.floatbank8_a_level            19439 non-null  float64\n",
      " 24  primary_cleaner.state.floatbank8_b_air              19439 non-null  float64\n",
      " 25  primary_cleaner.state.floatbank8_b_level            19439 non-null  float64\n",
      " 26  primary_cleaner.state.floatbank8_c_air              19439 non-null  float64\n",
      " 27  primary_cleaner.state.floatbank8_c_level            19439 non-null  float64\n",
      " 28  primary_cleaner.state.floatbank8_d_air              19439 non-null  float64\n",
      " 29  primary_cleaner.state.floatbank8_d_level            19439 non-null  float64\n",
      " 30  rougher.calculation.sulfate_to_au_concentrate       19439 non-null  float64\n",
      " 31  rougher.calculation.floatbank10_sulfate_to_au_feed  19439 non-null  float64\n",
      " 32  rougher.calculation.floatbank11_sulfate_to_au_feed  19439 non-null  float64\n",
      " 33  rougher.calculation.au_pb_ratio                     19439 non-null  float64\n",
      " 34  rougher.input.feed_ag                               19439 non-null  float64\n",
      " 35  rougher.input.feed_pb                               19439 non-null  float64\n",
      " 36  rougher.input.feed_rate                             19439 non-null  float64\n",
      " 37  rougher.input.feed_size                             19439 non-null  float64\n",
      " 38  rougher.input.feed_sol                              19439 non-null  float64\n",
      " 39  rougher.input.feed_au                               19439 non-null  float64\n",
      " 40  rougher.input.floatbank10_sulfate                   19439 non-null  float64\n",
      " 41  rougher.input.floatbank10_xanthate                  19439 non-null  float64\n",
      " 42  rougher.input.floatbank11_sulfate                   19439 non-null  float64\n",
      " 43  rougher.input.floatbank11_xanthate                  19439 non-null  float64\n",
      " 44  rougher.output.concentrate_ag                       19439 non-null  float64\n",
      " 45  rougher.output.concentrate_pb                       19439 non-null  float64\n",
      " 46  rougher.output.concentrate_sol                      19439 non-null  float64\n",
      " 47  rougher.output.concentrate_au                       19439 non-null  float64\n",
      " 48  rougher.output.recovery                             19439 non-null  float64\n",
      " 49  rougher.output.tail_ag                              19439 non-null  float64\n",
      " 50  rougher.output.tail_pb                              19439 non-null  float64\n",
      " 51  rougher.output.tail_sol                             19439 non-null  float64\n",
      " 52  rougher.output.tail_au                              19439 non-null  float64\n",
      " 53  rougher.state.floatbank10_a_air                     19439 non-null  float64\n",
      " 54  rougher.state.floatbank10_a_level                   19439 non-null  float64\n",
      " 55  rougher.state.floatbank10_b_air                     19439 non-null  float64\n",
      " 56  rougher.state.floatbank10_b_level                   19439 non-null  float64\n",
      " 57  rougher.state.floatbank10_c_air                     19439 non-null  float64\n",
      " 58  rougher.state.floatbank10_c_level                   19439 non-null  float64\n",
      " 59  rougher.state.floatbank10_d_air                     19439 non-null  float64\n",
      " 60  rougher.state.floatbank10_d_level                   19439 non-null  float64\n",
      " 61  rougher.state.floatbank10_e_air                     19439 non-null  float64\n",
      " 62  rougher.state.floatbank10_e_level                   19439 non-null  float64\n",
      " 63  rougher.state.floatbank10_f_air                     19439 non-null  float64\n",
      " 64  rougher.state.floatbank10_f_level                   19439 non-null  float64\n",
      " 65  secondary_cleaner.output.tail_ag                    19439 non-null  float64\n",
      " 66  secondary_cleaner.output.tail_pb                    19439 non-null  float64\n",
      " 67  secondary_cleaner.output.tail_sol                   19439 non-null  float64\n",
      " 68  secondary_cleaner.output.tail_au                    19439 non-null  float64\n",
      " 69  secondary_cleaner.state.floatbank2_a_air            19439 non-null  float64\n",
      " 70  secondary_cleaner.state.floatbank2_a_level          19439 non-null  float64\n",
      " 71  secondary_cleaner.state.floatbank2_b_air            19439 non-null  float64\n",
      " 72  secondary_cleaner.state.floatbank2_b_level          19439 non-null  float64\n",
      " 73  secondary_cleaner.state.floatbank3_a_air            19439 non-null  float64\n",
      " 74  secondary_cleaner.state.floatbank3_a_level          19439 non-null  float64\n",
      " 75  secondary_cleaner.state.floatbank3_b_air            19439 non-null  float64\n",
      " 76  secondary_cleaner.state.floatbank3_b_level          19439 non-null  float64\n",
      " 77  secondary_cleaner.state.floatbank4_a_air            19439 non-null  float64\n",
      " 78  secondary_cleaner.state.floatbank4_a_level          19439 non-null  float64\n",
      " 79  secondary_cleaner.state.floatbank4_b_air            19439 non-null  float64\n",
      " 80  secondary_cleaner.state.floatbank4_b_level          19439 non-null  float64\n",
      " 81  secondary_cleaner.state.floatbank5_a_air            19439 non-null  float64\n",
      " 82  secondary_cleaner.state.floatbank5_a_level          19439 non-null  float64\n",
      " 83  secondary_cleaner.state.floatbank5_b_air            19439 non-null  float64\n",
      " 84  secondary_cleaner.state.floatbank5_b_level          19439 non-null  float64\n",
      " 85  secondary_cleaner.state.floatbank6_a_air            19439 non-null  float64\n",
      " 86  secondary_cleaner.state.floatbank6_a_level          19439 non-null  float64\n",
      "dtypes: float64(86), object(1)\n",
      "memory usage: 12.9+ MB\n"
     ]
    }
   ],
   "source": [
    "data_full.info()"
   ]
  },
  {
   "cell_type": "code",
   "execution_count": 15,
   "id": "0012352f-1067-4123-a19d-9ed4c6aa3ce8",
   "metadata": {},
   "outputs": [],
   "source": [
    "data_train.fillna(method='ffill', inplace=True)"
   ]
  },
  {
   "cell_type": "code",
   "execution_count": 16,
   "id": "0c26670d-e7af-4759-9fe5-c13e3354c199",
   "metadata": {
    "tags": []
   },
   "outputs": [
    {
     "name": "stdout",
     "output_type": "stream",
     "text": [
      "<class 'pandas.core.frame.DataFrame'>\n",
      "RangeIndex: 14149 entries, 0 to 14148\n",
      "Data columns (total 87 columns):\n",
      " #   Column                                              Non-Null Count  Dtype  \n",
      "---  ------                                              --------------  -----  \n",
      " 0   date                                                14149 non-null  object \n",
      " 1   final.output.concentrate_ag                         14149 non-null  float64\n",
      " 2   final.output.concentrate_pb                         14149 non-null  float64\n",
      " 3   final.output.concentrate_sol                        14149 non-null  float64\n",
      " 4   final.output.concentrate_au                         14149 non-null  float64\n",
      " 5   final.output.recovery                               14149 non-null  float64\n",
      " 6   final.output.tail_ag                                14149 non-null  float64\n",
      " 7   final.output.tail_pb                                14149 non-null  float64\n",
      " 8   final.output.tail_sol                               14149 non-null  float64\n",
      " 9   final.output.tail_au                                14149 non-null  float64\n",
      " 10  primary_cleaner.input.sulfate                       14149 non-null  float64\n",
      " 11  primary_cleaner.input.depressant                    14149 non-null  float64\n",
      " 12  primary_cleaner.input.feed_size                     14149 non-null  float64\n",
      " 13  primary_cleaner.input.xanthate                      14149 non-null  float64\n",
      " 14  primary_cleaner.output.concentrate_ag               14149 non-null  float64\n",
      " 15  primary_cleaner.output.concentrate_pb               14149 non-null  float64\n",
      " 16  primary_cleaner.output.concentrate_sol              14149 non-null  float64\n",
      " 17  primary_cleaner.output.concentrate_au               14149 non-null  float64\n",
      " 18  primary_cleaner.output.tail_ag                      14149 non-null  float64\n",
      " 19  primary_cleaner.output.tail_pb                      14149 non-null  float64\n",
      " 20  primary_cleaner.output.tail_sol                     14149 non-null  float64\n",
      " 21  primary_cleaner.output.tail_au                      14149 non-null  float64\n",
      " 22  primary_cleaner.state.floatbank8_a_air              14149 non-null  float64\n",
      " 23  primary_cleaner.state.floatbank8_a_level            14149 non-null  float64\n",
      " 24  primary_cleaner.state.floatbank8_b_air              14149 non-null  float64\n",
      " 25  primary_cleaner.state.floatbank8_b_level            14149 non-null  float64\n",
      " 26  primary_cleaner.state.floatbank8_c_air              14149 non-null  float64\n",
      " 27  primary_cleaner.state.floatbank8_c_level            14149 non-null  float64\n",
      " 28  primary_cleaner.state.floatbank8_d_air              14149 non-null  float64\n",
      " 29  primary_cleaner.state.floatbank8_d_level            14149 non-null  float64\n",
      " 30  rougher.calculation.sulfate_to_au_concentrate       14149 non-null  float64\n",
      " 31  rougher.calculation.floatbank10_sulfate_to_au_feed  14149 non-null  float64\n",
      " 32  rougher.calculation.floatbank11_sulfate_to_au_feed  14149 non-null  float64\n",
      " 33  rougher.calculation.au_pb_ratio                     14149 non-null  float64\n",
      " 34  rougher.input.feed_ag                               14149 non-null  float64\n",
      " 35  rougher.input.feed_pb                               14149 non-null  float64\n",
      " 36  rougher.input.feed_rate                             14149 non-null  float64\n",
      " 37  rougher.input.feed_size                             14149 non-null  float64\n",
      " 38  rougher.input.feed_sol                              14149 non-null  float64\n",
      " 39  rougher.input.feed_au                               14149 non-null  float64\n",
      " 40  rougher.input.floatbank10_sulfate                   14149 non-null  float64\n",
      " 41  rougher.input.floatbank10_xanthate                  14149 non-null  float64\n",
      " 42  rougher.input.floatbank11_sulfate                   14149 non-null  float64\n",
      " 43  rougher.input.floatbank11_xanthate                  14149 non-null  float64\n",
      " 44  rougher.output.concentrate_ag                       14149 non-null  float64\n",
      " 45  rougher.output.concentrate_pb                       14149 non-null  float64\n",
      " 46  rougher.output.concentrate_sol                      14149 non-null  float64\n",
      " 47  rougher.output.concentrate_au                       14149 non-null  float64\n",
      " 48  rougher.output.recovery                             14149 non-null  float64\n",
      " 49  rougher.output.tail_ag                              14149 non-null  float64\n",
      " 50  rougher.output.tail_pb                              14149 non-null  float64\n",
      " 51  rougher.output.tail_sol                             14149 non-null  float64\n",
      " 52  rougher.output.tail_au                              14149 non-null  float64\n",
      " 53  rougher.state.floatbank10_a_air                     14149 non-null  float64\n",
      " 54  rougher.state.floatbank10_a_level                   14149 non-null  float64\n",
      " 55  rougher.state.floatbank10_b_air                     14149 non-null  float64\n",
      " 56  rougher.state.floatbank10_b_level                   14149 non-null  float64\n",
      " 57  rougher.state.floatbank10_c_air                     14149 non-null  float64\n",
      " 58  rougher.state.floatbank10_c_level                   14149 non-null  float64\n",
      " 59  rougher.state.floatbank10_d_air                     14149 non-null  float64\n",
      " 60  rougher.state.floatbank10_d_level                   14149 non-null  float64\n",
      " 61  rougher.state.floatbank10_e_air                     14149 non-null  float64\n",
      " 62  rougher.state.floatbank10_e_level                   14149 non-null  float64\n",
      " 63  rougher.state.floatbank10_f_air                     14149 non-null  float64\n",
      " 64  rougher.state.floatbank10_f_level                   14149 non-null  float64\n",
      " 65  secondary_cleaner.output.tail_ag                    14149 non-null  float64\n",
      " 66  secondary_cleaner.output.tail_pb                    14149 non-null  float64\n",
      " 67  secondary_cleaner.output.tail_sol                   14149 non-null  float64\n",
      " 68  secondary_cleaner.output.tail_au                    14149 non-null  float64\n",
      " 69  secondary_cleaner.state.floatbank2_a_air            14149 non-null  float64\n",
      " 70  secondary_cleaner.state.floatbank2_a_level          14149 non-null  float64\n",
      " 71  secondary_cleaner.state.floatbank2_b_air            14149 non-null  float64\n",
      " 72  secondary_cleaner.state.floatbank2_b_level          14149 non-null  float64\n",
      " 73  secondary_cleaner.state.floatbank3_a_air            14149 non-null  float64\n",
      " 74  secondary_cleaner.state.floatbank3_a_level          14149 non-null  float64\n",
      " 75  secondary_cleaner.state.floatbank3_b_air            14149 non-null  float64\n",
      " 76  secondary_cleaner.state.floatbank3_b_level          14149 non-null  float64\n",
      " 77  secondary_cleaner.state.floatbank4_a_air            14149 non-null  float64\n",
      " 78  secondary_cleaner.state.floatbank4_a_level          14149 non-null  float64\n",
      " 79  secondary_cleaner.state.floatbank4_b_air            14149 non-null  float64\n",
      " 80  secondary_cleaner.state.floatbank4_b_level          14149 non-null  float64\n",
      " 81  secondary_cleaner.state.floatbank5_a_air            14149 non-null  float64\n",
      " 82  secondary_cleaner.state.floatbank5_a_level          14149 non-null  float64\n",
      " 83  secondary_cleaner.state.floatbank5_b_air            14149 non-null  float64\n",
      " 84  secondary_cleaner.state.floatbank5_b_level          14149 non-null  float64\n",
      " 85  secondary_cleaner.state.floatbank6_a_air            14149 non-null  float64\n",
      " 86  secondary_cleaner.state.floatbank6_a_level          14149 non-null  float64\n",
      "dtypes: float64(86), object(1)\n",
      "memory usage: 9.4+ MB\n"
     ]
    }
   ],
   "source": [
    "data_train.info()"
   ]
  },
  {
   "cell_type": "code",
   "execution_count": 17,
   "id": "ea81c555-33ab-4f84-9cd3-10347a1d3df8",
   "metadata": {},
   "outputs": [],
   "source": [
    "data_test.fillna(method='ffill', inplace=True)"
   ]
  },
  {
   "cell_type": "code",
   "execution_count": 18,
   "id": "a54c0f39-189c-4e51-ab4a-de4c4138510c",
   "metadata": {
    "tags": []
   },
   "outputs": [
    {
     "name": "stdout",
     "output_type": "stream",
     "text": [
      "<class 'pandas.core.frame.DataFrame'>\n",
      "RangeIndex: 5290 entries, 0 to 5289\n",
      "Data columns (total 53 columns):\n",
      " #   Column                                      Non-Null Count  Dtype  \n",
      "---  ------                                      --------------  -----  \n",
      " 0   date                                        5290 non-null   object \n",
      " 1   primary_cleaner.input.sulfate               5290 non-null   float64\n",
      " 2   primary_cleaner.input.depressant            5290 non-null   float64\n",
      " 3   primary_cleaner.input.feed_size             5290 non-null   float64\n",
      " 4   primary_cleaner.input.xanthate              5290 non-null   float64\n",
      " 5   primary_cleaner.state.floatbank8_a_air      5290 non-null   float64\n",
      " 6   primary_cleaner.state.floatbank8_a_level    5290 non-null   float64\n",
      " 7   primary_cleaner.state.floatbank8_b_air      5290 non-null   float64\n",
      " 8   primary_cleaner.state.floatbank8_b_level    5290 non-null   float64\n",
      " 9   primary_cleaner.state.floatbank8_c_air      5290 non-null   float64\n",
      " 10  primary_cleaner.state.floatbank8_c_level    5290 non-null   float64\n",
      " 11  primary_cleaner.state.floatbank8_d_air      5290 non-null   float64\n",
      " 12  primary_cleaner.state.floatbank8_d_level    5290 non-null   float64\n",
      " 13  rougher.input.feed_ag                       5290 non-null   float64\n",
      " 14  rougher.input.feed_pb                       5290 non-null   float64\n",
      " 15  rougher.input.feed_rate                     5290 non-null   float64\n",
      " 16  rougher.input.feed_size                     5290 non-null   float64\n",
      " 17  rougher.input.feed_sol                      5290 non-null   float64\n",
      " 18  rougher.input.feed_au                       5290 non-null   float64\n",
      " 19  rougher.input.floatbank10_sulfate           5290 non-null   float64\n",
      " 20  rougher.input.floatbank10_xanthate          5290 non-null   float64\n",
      " 21  rougher.input.floatbank11_sulfate           5290 non-null   float64\n",
      " 22  rougher.input.floatbank11_xanthate          5290 non-null   float64\n",
      " 23  rougher.state.floatbank10_a_air             5290 non-null   float64\n",
      " 24  rougher.state.floatbank10_a_level           5290 non-null   float64\n",
      " 25  rougher.state.floatbank10_b_air             5290 non-null   float64\n",
      " 26  rougher.state.floatbank10_b_level           5290 non-null   float64\n",
      " 27  rougher.state.floatbank10_c_air             5290 non-null   float64\n",
      " 28  rougher.state.floatbank10_c_level           5290 non-null   float64\n",
      " 29  rougher.state.floatbank10_d_air             5290 non-null   float64\n",
      " 30  rougher.state.floatbank10_d_level           5290 non-null   float64\n",
      " 31  rougher.state.floatbank10_e_air             5290 non-null   float64\n",
      " 32  rougher.state.floatbank10_e_level           5290 non-null   float64\n",
      " 33  rougher.state.floatbank10_f_air             5290 non-null   float64\n",
      " 34  rougher.state.floatbank10_f_level           5290 non-null   float64\n",
      " 35  secondary_cleaner.state.floatbank2_a_air    5290 non-null   float64\n",
      " 36  secondary_cleaner.state.floatbank2_a_level  5290 non-null   float64\n",
      " 37  secondary_cleaner.state.floatbank2_b_air    5290 non-null   float64\n",
      " 38  secondary_cleaner.state.floatbank2_b_level  5290 non-null   float64\n",
      " 39  secondary_cleaner.state.floatbank3_a_air    5290 non-null   float64\n",
      " 40  secondary_cleaner.state.floatbank3_a_level  5290 non-null   float64\n",
      " 41  secondary_cleaner.state.floatbank3_b_air    5290 non-null   float64\n",
      " 42  secondary_cleaner.state.floatbank3_b_level  5290 non-null   float64\n",
      " 43  secondary_cleaner.state.floatbank4_a_air    5290 non-null   float64\n",
      " 44  secondary_cleaner.state.floatbank4_a_level  5290 non-null   float64\n",
      " 45  secondary_cleaner.state.floatbank4_b_air    5290 non-null   float64\n",
      " 46  secondary_cleaner.state.floatbank4_b_level  5290 non-null   float64\n",
      " 47  secondary_cleaner.state.floatbank5_a_air    5290 non-null   float64\n",
      " 48  secondary_cleaner.state.floatbank5_a_level  5290 non-null   float64\n",
      " 49  secondary_cleaner.state.floatbank5_b_air    5290 non-null   float64\n",
      " 50  secondary_cleaner.state.floatbank5_b_level  5290 non-null   float64\n",
      " 51  secondary_cleaner.state.floatbank6_a_air    5290 non-null   float64\n",
      " 52  secondary_cleaner.state.floatbank6_a_level  5290 non-null   float64\n",
      "dtypes: float64(52), object(1)\n",
      "memory usage: 2.1+ MB\n"
     ]
    }
   ],
   "source": [
    "data_test.info()"
   ]
  },
  {
   "cell_type": "markdown",
   "id": "2e8f4592-4bfa-4a12-ad17-84e5ed93af7c",
   "metadata": {
    "tags": []
   },
   "source": [
    "### Вывод:\n",
    "- были загружены данные, сохранены в таблицах data_full,data_train,data_test\n",
    "- была рассчитана эффективность обогащения на обучающей выборке для признака rougher.output.recovery\n",
    "- было рассчитано значение средней абсолютной ошибки 9.73512347450521e-15\n",
    "- в тестовой выборке отсутвуют выходные параметры, описывающие концентрацию хим веществ (pb,au,ag,sol) на разных этапах (final,primary_cleaner, rougher,secondary_cleaner) и отвальных хвостах\n",
    "- в данных имеются пропуски, пропуски были заполнены соседними значениями, так как значения параметров снимаются в определенные интервалы времени, и значения будут близкими"
   ]
  },
  {
   "cell_type": "markdown",
   "id": "b984f5b4-9da3-4b1d-b8d1-2a197097d8ba",
   "metadata": {},
   "source": [
    "## Анализ данных"
   ]
  },
  {
   "cell_type": "markdown",
   "id": "8bc3dc0a-3d7b-42c9-8bf4-6a2531c7c7c6",
   "metadata": {},
   "source": [
    "### Концентрация металлов (Au, Ag, Pb) на различных этапах очистки"
   ]
  },
  {
   "cell_type": "code",
   "execution_count": 19,
   "id": "39980d2e-74fd-4563-a985-073de0eef26a",
   "metadata": {},
   "outputs": [
    {
     "data": {
      "text/plain": [
       "<AxesSubplot:>"
      ]
     },
     "execution_count": 19,
     "metadata": {},
     "output_type": "execute_result"
    },
    {
     "data": {
      "image/png": "[encoded data removed]",
      "text/plain": [
       "<Figure size 1080x720 with 1 Axes>"
      ]
     },
     "metadata": {
      "needs_background": "light"
     },
     "output_type": "display_data"
    }
   ],
   "source": [
    "(\n",
    "    data_full[['rougher.input.feed_au',\n",
    "               'rougher.output.concentrate_au',\n",
    "               'primary_cleaner.output.concentrate_au',\n",
    "               'final.output.concentrate_au']].\n",
    "    boxplot(figsize = (15,10))\n",
    ")"
   ]
  },
  {
   "cell_type": "code",
   "execution_count": 20,
   "id": "1bdcda23-32fe-4e38-b3a3-8b806eb42e5e",
   "metadata": {},
   "outputs": [
    {
     "data": {
      "text/plain": [
       "<AxesSubplot:>"
      ]
     },
     "execution_count": 20,
     "metadata": {},
     "output_type": "execute_result"
    },
    {
     "data": {
      "image/png": "[encoded data removed]",
      "text/plain": [
       "<Figure size 1080x720 with 1 Axes>"
      ]
     },
     "metadata": {
      "needs_background": "light"
     },
     "output_type": "display_data"
    }
   ],
   "source": [
    "(\n",
    "    data_full[['rougher.input.feed_ag',\n",
    "               'rougher.output.concentrate_ag',\n",
    "               'primary_cleaner.output.concentrate_ag',\n",
    "               'final.output.concentrate_ag']].\n",
    "    boxplot(figsize = (15,10))\n",
    ")"
   ]
  },
  {
   "cell_type": "code",
   "execution_count": 21,
   "id": "66bd48e0-1299-4365-9e67-7750e45526b3",
   "metadata": {},
   "outputs": [
    {
     "data": {
      "text/plain": [
       "<AxesSubplot:>"
      ]
     },
     "execution_count": 21,
     "metadata": {},
     "output_type": "execute_result"
    },
    {
     "data": {
      "image/png": "[encoded data removed]",
      "text/plain": [
       "<Figure size 1080x720 with 1 Axes>"
      ]
     },
     "metadata": {
      "needs_background": "light"
     },
     "output_type": "display_data"
    }
   ],
   "source": [
    "(\n",
    "    data_full[['rougher.input.feed_pb',\n",
    "               'rougher.output.concentrate_pb',\n",
    "               'primary_cleaner.output.concentrate_pb',\n",
    "               'final.output.concentrate_pb']].\n",
    "    boxplot(figsize = (15,10))\n",
    ")"
   ]
  },
  {
   "cell_type": "markdown",
   "id": "c52d14f3-6e76-4414-a5cb-7fb9b18460fd",
   "metadata": {},
   "source": [
    "#### Вывод:\n",
    " - концентрация золота увеличивается с каждым этапом (20, 32, 45). Разброс увеличивается на этапе primary и снижается на final. Имеются выбросы\n",
    " - концентрация серебра снижается с каждым этапом очистки (12,8,5). Разброс уменьшается. Имеются выбросы\n",
    " - концентрация свинца увеличивается от этапа rougher к primary (7.5 ,10 ,10). Разброс увеличивается на этапе primary и снижается на final. Имеются выбросы"
   ]
  },
  {
   "cell_type": "markdown",
   "id": "59ca7d26-f6a8-44ca-9fd1-24f8d6bcbcaf",
   "metadata": {},
   "source": [
    "### Распределения размеров гранул сырья на обучающей и тестовой выборках"
   ]
  },
  {
   "cell_type": "code",
   "execution_count": 22,
   "id": "0cb2dae9-b2df-488c-a053-fada4dd5be6e",
   "metadata": {},
   "outputs": [
    {
     "data": {
      "text/plain": [
       "count    5290.000000\n",
       "mean        9.334682\n",
       "std         1.619521\n",
       "min         0.568632\n",
       "25%         8.207814\n",
       "50%         9.593766\n",
       "75%        10.463538\n",
       "max        13.731330\n",
       "Name: rougher.input.feed_au, dtype: float64"
      ]
     },
     "execution_count": 22,
     "metadata": {},
     "output_type": "execute_result"
    }
   ],
   "source": [
    "#статистика тестовой выборки\n",
    "data_test['rougher.input.feed_au'].describe()"
   ]
  },
  {
   "cell_type": "code",
   "execution_count": 23,
   "id": "0e8ec118-2572-430c-9486-2416d557688c",
   "metadata": {},
   "outputs": [
    {
     "data": {
      "image/png": "[encoded data removed]",
      "text/plain": [
       "<Figure size 360x360 with 1 Axes>"
      ]
     },
     "metadata": {
      "needs_background": "light"
     },
     "output_type": "display_data"
    }
   ],
   "source": [
    "sns.displot(data_test['rougher.input.feed_au']);"
   ]
  },
  {
   "cell_type": "code",
   "execution_count": 24,
   "id": "45032b7c-b844-46b7-a868-25d21b04be77",
   "metadata": {},
   "outputs": [
    {
     "data": {
      "text/plain": [
       "count    14149.000000\n",
       "mean         7.866577\n",
       "std          1.919506\n",
       "min          0.010000\n",
       "25%          6.596217\n",
       "50%          7.649138\n",
       "75%          9.066976\n",
       "max         13.126043\n",
       "Name: rougher.input.feed_au, dtype: float64"
      ]
     },
     "execution_count": 24,
     "metadata": {},
     "output_type": "execute_result"
    }
   ],
   "source": [
    "#статистика обучающей выборки\n",
    "data_train['rougher.input.feed_au'].describe()"
   ]
  },
  {
   "cell_type": "code",
   "execution_count": 25,
   "id": "275c1755-424a-4e22-b176-3d4a6f29d258",
   "metadata": {},
   "outputs": [
    {
     "data": {
      "image/png": "[encoded data removed]",
      "text/plain": [
       "<Figure size 360x360 with 1 Axes>"
      ]
     },
     "metadata": {
      "needs_background": "light"
     },
     "output_type": "display_data"
    }
   ],
   "source": [
    "sns.displot(data_train['rougher.input.feed_au']);"
   ]
  },
  {
   "cell_type": "markdown",
   "id": "59c03995-fd99-4ddf-9092-b319c15906a5",
   "metadata": {
    "tags": []
   },
   "source": [
    "#### Вывод:\n",
    "- были построены распределения золота в исходном сырье для тестовой и обучающей выборок\n",
    "- среднее значения на тестовой выборке - 9.3, стандартное отклонение - 1.6, межквартильный размах - 2.3, нормальное распределение.\n",
    "- среднее значения на обучающей выборке - 7.9, стандартное отклонение - 1.9, межквартильный размах - 2.5, нормальное распределение\n",
    "- средние двух выборок различаются на 1,4, что меньше стандартного отклонения"
   ]
  },
  {
   "cell_type": "markdown",
   "id": "b2231ea8-d64d-4896-84e0-82d5f7cef752",
   "metadata": {},
   "source": [
    "### Суммарная концентрация всех веществ на разных стадиях: в сырье, в черновом и финальном концентратах"
   ]
  },
  {
   "cell_type": "code",
   "execution_count": 26,
   "id": "b45e0e4f-f483-4319-827d-4949ec14f80f",
   "metadata": {},
   "outputs": [],
   "source": [
    "#Функция для построения гистограмм\n",
    "def hist(data,columns):\n",
    "    for column in columns:\n",
    "        print(column)\n",
    "        data[column].hist(legend=True)\n",
    "        plt.show()\n",
    "        print()"
   ]
  },
  {
   "cell_type": "code",
   "execution_count": 27,
   "id": "6c028734-01c3-4bbc-94da-497ffd3892cc",
   "metadata": {},
   "outputs": [],
   "source": [
    "new_data = pd.DataFrame()"
   ]
  },
  {
   "cell_type": "code",
   "execution_count": 28,
   "id": "6dfc721b-9642-4535-9c01-553cb28829fc",
   "metadata": {},
   "outputs": [],
   "source": [
    "#суммарная концентрация в исходном сырье\n",
    "new_data['rougher.input.feed_total'] = (\n",
    "    data_full['rougher.input.feed_ag']+\n",
    "    data_full['rougher.input.feed_au']+\n",
    "    data_full['rougher.input.feed_pb']+\n",
    "    data_full['rougher.input.feed_sol']\n",
    ")"
   ]
  },
  {
   "cell_type": "code",
   "execution_count": 29,
   "id": "42f4a043-1cfd-47b4-9c27-fe2b31c8d0d7",
   "metadata": {},
   "outputs": [],
   "source": [
    "#суммарная концентрация на этапе rougher\n",
    "new_data['rougher.output.concentrate_total'] = (\n",
    "    data_full['rougher.output.concentrate_ag']+\n",
    "    data_full['rougher.output.concentrate_au']+\n",
    "    data_full['rougher.output.concentrate_pb']+\n",
    "    data_full['rougher.output.concentrate_sol']\n",
    ")"
   ]
  },
  {
   "cell_type": "code",
   "execution_count": 30,
   "id": "25ffe5cd-a65a-44fe-bac1-3a5c8c9ba397",
   "metadata": {},
   "outputs": [],
   "source": [
    "#суммарная концентрация на этапе primary\n",
    "new_data['primary_cleaner.output.concentrate_total'] = (\n",
    "    data_full['primary_cleaner.output.concentrate_ag']+\n",
    "    data_full['primary_cleaner.output.concentrate_au']+\n",
    "    data_full['primary_cleaner.output.concentrate_pb']+\n",
    "    data_full['primary_cleaner.output.concentrate_sol']\n",
    ")"
   ]
  },
  {
   "cell_type": "code",
   "execution_count": 31,
   "id": "679400d9-725c-412c-a1df-81135e5b0a41",
   "metadata": {},
   "outputs": [],
   "source": [
    "#суммарная концентрация на этапе final\n",
    "new_data['final.output.concentrate_total'] = (\n",
    "    data_full['final.output.concentrate_ag']+\n",
    "    data_full['final.output.concentrate_au']+\n",
    "    data_full['final.output.concentrate_pb']+\n",
    "    data_full['final.output.concentrate_sol']\n",
    ")"
   ]
  },
  {
   "cell_type": "code",
   "execution_count": 32,
   "id": "e8dede10-264f-4d46-981e-34bfc02a7cbc",
   "metadata": {},
   "outputs": [
    {
     "data": {
      "text/html": [
       "<div>\n",
       "<style scoped>\n",
       "    .dataframe tbody tr th:only-of-type {\n",
       "        vertical-align: middle;\n",
       "    }\n",
       "\n",
       "    .dataframe tbody tr th {\n",
       "        vertical-align: top;\n",
       "    }\n",
       "\n",
       "    .dataframe thead th {\n",
       "        text-align: right;\n",
       "    }\n",
       "</style>\n",
       "<table border=\"1\" class=\"dataframe\">\n",
       "  <thead>\n",
       "    <tr style=\"text-align: right;\">\n",
       "      <th></th>\n",
       "      <th>rougher.input.feed_total</th>\n",
       "      <th>rougher.output.concentrate_total</th>\n",
       "      <th>primary_cleaner.output.concentrate_total</th>\n",
       "      <th>final.output.concentrate_total</th>\n",
       "    </tr>\n",
       "  </thead>\n",
       "  <tbody>\n",
       "    <tr>\n",
       "      <th>count</th>\n",
       "      <td>19439.000000</td>\n",
       "      <td>19439.000000</td>\n",
       "      <td>19439.000000</td>\n",
       "      <td>19439.000000</td>\n",
       "    </tr>\n",
       "    <tr>\n",
       "      <th>mean</th>\n",
       "      <td>57.320789</td>\n",
       "      <td>68.170865</td>\n",
       "      <td>60.764731</td>\n",
       "      <td>68.653624</td>\n",
       "    </tr>\n",
       "    <tr>\n",
       "      <th>std</th>\n",
       "      <td>7.212680</td>\n",
       "      <td>12.491279</td>\n",
       "      <td>10.017271</td>\n",
       "      <td>7.427536</td>\n",
       "    </tr>\n",
       "    <tr>\n",
       "      <th>min</th>\n",
       "      <td>0.040000</td>\n",
       "      <td>0.000000</td>\n",
       "      <td>0.000000</td>\n",
       "      <td>0.000000</td>\n",
       "    </tr>\n",
       "    <tr>\n",
       "      <th>25%</th>\n",
       "      <td>53.557679</td>\n",
       "      <td>66.012495</td>\n",
       "      <td>58.929364</td>\n",
       "      <td>67.932362</td>\n",
       "    </tr>\n",
       "    <tr>\n",
       "      <th>50%</th>\n",
       "      <td>57.594391</td>\n",
       "      <td>70.181495</td>\n",
       "      <td>62.497674</td>\n",
       "      <td>69.598444</td>\n",
       "    </tr>\n",
       "    <tr>\n",
       "      <th>75%</th>\n",
       "      <td>61.953459</td>\n",
       "      <td>74.356904</td>\n",
       "      <td>65.667336</td>\n",
       "      <td>71.368472</td>\n",
       "    </tr>\n",
       "    <tr>\n",
       "      <th>max</th>\n",
       "      <td>76.978947</td>\n",
       "      <td>88.140119</td>\n",
       "      <td>80.749343</td>\n",
       "      <td>80.210644</td>\n",
       "    </tr>\n",
       "  </tbody>\n",
       "</table>\n",
       "</div>"
      ],
      "text/plain": [
       "       rougher.input.feed_total  rougher.output.concentrate_total  \\\n",
       "count              19439.000000                      19439.000000   \n",
       "mean                  57.320789                         68.170865   \n",
       "std                    7.212680                         12.491279   \n",
       "min                    0.040000                          0.000000   \n",
       "25%                   53.557679                         66.012495   \n",
       "50%                   57.594391                         70.181495   \n",
       "75%                   61.953459                         74.356904   \n",
       "max                   76.978947                         88.140119   \n",
       "\n",
       "       primary_cleaner.output.concentrate_total  \\\n",
       "count                              19439.000000   \n",
       "mean                                  60.764731   \n",
       "std                                   10.017271   \n",
       "min                                    0.000000   \n",
       "25%                                   58.929364   \n",
       "50%                                   62.497674   \n",
       "75%                                   65.667336   \n",
       "max                                   80.749343   \n",
       "\n",
       "       final.output.concentrate_total  \n",
       "count                    19439.000000  \n",
       "mean                        68.653624  \n",
       "std                          7.427536  \n",
       "min                          0.000000  \n",
       "25%                         67.932362  \n",
       "50%                         69.598444  \n",
       "75%                         71.368472  \n",
       "max                         80.210644  "
      ]
     },
     "execution_count": 32,
     "metadata": {},
     "output_type": "execute_result"
    }
   ],
   "source": [
    "new_data.describe()"
   ]
  },
  {
   "cell_type": "code",
   "execution_count": 33,
   "id": "f5e66297-7e9d-4d44-9d5f-ba256653036c",
   "metadata": {},
   "outputs": [
    {
     "name": "stdout",
     "output_type": "stream",
     "text": [
      "rougher.input.feed_total\n"
     ]
    },
    {
     "data": {
      "image/png": "[encoded data removed]",
      "text/plain": [
       "<Figure size 432x288 with 1 Axes>"
      ]
     },
     "metadata": {
      "needs_background": "light"
     },
     "output_type": "display_data"
    },
    {
     "name": "stdout",
     "output_type": "stream",
     "text": [
      "\n",
      "rougher.output.concentrate_total\n"
     ]
    },
    {
     "data": {
      "image/png": "[encoded data removed]",
      "text/plain": [
       "<Figure size 432x288 with 1 Axes>"
      ]
     },
     "metadata": {
      "needs_background": "light"
     },
     "output_type": "display_data"
    },
    {
     "name": "stdout",
     "output_type": "stream",
     "text": [
      "\n",
      "primary_cleaner.output.concentrate_total\n"
     ]
    },
    {
     "data": {
      "image/png": "[encoded data removed]",
      "text/plain": [
       "<Figure size 432x288 with 1 Axes>"
      ]
     },
     "metadata": {
      "needs_background": "light"
     },
     "output_type": "display_data"
    },
    {
     "name": "stdout",
     "output_type": "stream",
     "text": [
      "\n",
      "final.output.concentrate_total\n"
     ]
    },
    {
     "data": {
      "image/png": "[encoded data removed]",
      "text/plain": [
       "<Figure size 432x288 with 1 Axes>"
      ]
     },
     "metadata": {
      "needs_background": "light"
     },
     "output_type": "display_data"
    },
    {
     "name": "stdout",
     "output_type": "stream",
     "text": [
      "\n"
     ]
    }
   ],
   "source": [
    "hist(new_data,new_data.columns)"
   ]
  },
  {
   "cell_type": "code",
   "execution_count": 34,
   "id": "52d0a53b-1686-412d-aad3-2d6290fcf3ec",
   "metadata": {},
   "outputs": [],
   "source": [
    "#расчет суммарной концентрации в data_train input_feed\n",
    "data_train['rougher_input_feed_total'] = (\n",
    "    data_train['rougher.input.feed_ag']+\n",
    "    data_train['rougher.input.feed_au']+\n",
    "    data_train['rougher.input.feed_pb']+\n",
    "    data_train['rougher.input.feed_sol']\n",
    ")"
   ]
  },
  {
   "cell_type": "code",
   "execution_count": 35,
   "id": "3aeeea03-80d3-4cc2-b5ef-6f5d72e1f773",
   "metadata": {},
   "outputs": [
    {
     "data": {
      "text/html": [
       "<div>\n",
       "<style scoped>\n",
       "    .dataframe tbody tr th:only-of-type {\n",
       "        vertical-align: middle;\n",
       "    }\n",
       "\n",
       "    .dataframe tbody tr th {\n",
       "        vertical-align: top;\n",
       "    }\n",
       "\n",
       "    .dataframe thead th {\n",
       "        text-align: right;\n",
       "    }\n",
       "</style>\n",
       "<table border=\"1\" class=\"dataframe\">\n",
       "  <thead>\n",
       "    <tr style=\"text-align: right;\">\n",
       "      <th></th>\n",
       "      <th>date</th>\n",
       "      <th>final.output.concentrate_ag</th>\n",
       "      <th>final.output.concentrate_pb</th>\n",
       "      <th>final.output.concentrate_sol</th>\n",
       "      <th>final.output.concentrate_au</th>\n",
       "      <th>final.output.recovery</th>\n",
       "      <th>final.output.tail_ag</th>\n",
       "      <th>final.output.tail_pb</th>\n",
       "      <th>final.output.tail_sol</th>\n",
       "      <th>final.output.tail_au</th>\n",
       "      <th>...</th>\n",
       "      <th>secondary_cleaner.state.floatbank4_a_level</th>\n",
       "      <th>secondary_cleaner.state.floatbank4_b_air</th>\n",
       "      <th>secondary_cleaner.state.floatbank4_b_level</th>\n",
       "      <th>secondary_cleaner.state.floatbank5_a_air</th>\n",
       "      <th>secondary_cleaner.state.floatbank5_a_level</th>\n",
       "      <th>secondary_cleaner.state.floatbank5_b_air</th>\n",
       "      <th>secondary_cleaner.state.floatbank5_b_level</th>\n",
       "      <th>secondary_cleaner.state.floatbank6_a_air</th>\n",
       "      <th>secondary_cleaner.state.floatbank6_a_level</th>\n",
       "      <th>rougher_input_feed_total</th>\n",
       "    </tr>\n",
       "  </thead>\n",
       "  <tbody>\n",
       "  </tbody>\n",
       "</table>\n",
       "<p>0 rows × 88 columns</p>\n",
       "</div>"
      ],
      "text/plain": [
       "Empty DataFrame\n",
       "Columns: [date, final.output.concentrate_ag, final.output.concentrate_pb, final.output.concentrate_sol, final.output.concentrate_au, final.output.recovery, final.output.tail_ag, final.output.tail_pb, final.output.tail_sol, final.output.tail_au, primary_cleaner.input.sulfate, primary_cleaner.input.depressant, primary_cleaner.input.feed_size, primary_cleaner.input.xanthate, primary_cleaner.output.concentrate_ag, primary_cleaner.output.concentrate_pb, primary_cleaner.output.concentrate_sol, primary_cleaner.output.concentrate_au, primary_cleaner.output.tail_ag, primary_cleaner.output.tail_pb, primary_cleaner.output.tail_sol, primary_cleaner.output.tail_au, primary_cleaner.state.floatbank8_a_air, primary_cleaner.state.floatbank8_a_level, primary_cleaner.state.floatbank8_b_air, primary_cleaner.state.floatbank8_b_level, primary_cleaner.state.floatbank8_c_air, primary_cleaner.state.floatbank8_c_level, primary_cleaner.state.floatbank8_d_air, primary_cleaner.state.floatbank8_d_level, rougher.calculation.sulfate_to_au_concentrate, rougher.calculation.floatbank10_sulfate_to_au_feed, rougher.calculation.floatbank11_sulfate_to_au_feed, rougher.calculation.au_pb_ratio, rougher.input.feed_ag, rougher.input.feed_pb, rougher.input.feed_rate, rougher.input.feed_size, rougher.input.feed_sol, rougher.input.feed_au, rougher.input.floatbank10_sulfate, rougher.input.floatbank10_xanthate, rougher.input.floatbank11_sulfate, rougher.input.floatbank11_xanthate, rougher.output.concentrate_ag, rougher.output.concentrate_pb, rougher.output.concentrate_sol, rougher.output.concentrate_au, rougher.output.recovery, rougher.output.tail_ag, rougher.output.tail_pb, rougher.output.tail_sol, rougher.output.tail_au, rougher.state.floatbank10_a_air, rougher.state.floatbank10_a_level, rougher.state.floatbank10_b_air, rougher.state.floatbank10_b_level, rougher.state.floatbank10_c_air, rougher.state.floatbank10_c_level, rougher.state.floatbank10_d_air, rougher.state.floatbank10_d_level, rougher.state.floatbank10_e_air, rougher.state.floatbank10_e_level, rougher.state.floatbank10_f_air, rougher.state.floatbank10_f_level, secondary_cleaner.output.tail_ag, secondary_cleaner.output.tail_pb, secondary_cleaner.output.tail_sol, secondary_cleaner.output.tail_au, secondary_cleaner.state.floatbank2_a_air, secondary_cleaner.state.floatbank2_a_level, secondary_cleaner.state.floatbank2_b_air, secondary_cleaner.state.floatbank2_b_level, secondary_cleaner.state.floatbank3_a_air, secondary_cleaner.state.floatbank3_a_level, secondary_cleaner.state.floatbank3_b_air, secondary_cleaner.state.floatbank3_b_level, secondary_cleaner.state.floatbank4_a_air, secondary_cleaner.state.floatbank4_a_level, secondary_cleaner.state.floatbank4_b_air, secondary_cleaner.state.floatbank4_b_level, secondary_cleaner.state.floatbank5_a_air, secondary_cleaner.state.floatbank5_a_level, secondary_cleaner.state.floatbank5_b_air, secondary_cleaner.state.floatbank5_b_level, secondary_cleaner.state.floatbank6_a_air, secondary_cleaner.state.floatbank6_a_level, rougher_input_feed_total]\n",
       "Index: []\n",
       "\n",
       "[0 rows x 88 columns]"
      ]
     },
     "execution_count": 35,
     "metadata": {},
     "output_type": "execute_result"
    }
   ],
   "source": [
    "data_train.query('rougher_input_feed_total == 0')"
   ]
  },
  {
   "cell_type": "code",
   "execution_count": 36,
   "id": "8070f11a-78f4-47b1-876c-9ff78bc9e145",
   "metadata": {},
   "outputs": [],
   "source": [
    "#расчет суммарной концентрации в data_train rougher_output\n",
    "data_train['rougher_output_concentrate_total'] = (\n",
    "    data_train['rougher.output.concentrate_ag']+\n",
    "    data_train['rougher.output.concentrate_au']+\n",
    "    data_train['rougher.output.concentrate_pb']+\n",
    "    data_train['rougher.output.concentrate_sol']\n",
    ")\n",
    "data_train = data_train.query('rougher_output_concentrate_total != 0')"
   ]
  },
  {
   "cell_type": "code",
   "execution_count": 37,
   "id": "bcca27e5-4cb9-47ad-b439-80592efe3c3f",
   "metadata": {},
   "outputs": [],
   "source": [
    "#расчет суммарной концентрации в data_train primary_cleaner\n",
    "data_train['primary_cleaner_output_concentrate_total'] = (\n",
    "    data_train['primary_cleaner.output.concentrate_ag']+\n",
    "    data_train['primary_cleaner.output.concentrate_au']+\n",
    "    data_train['primary_cleaner.output.concentrate_pb']+\n",
    "    data_train['primary_cleaner.output.concentrate_sol']\n",
    ")"
   ]
  },
  {
   "cell_type": "code",
   "execution_count": 38,
   "id": "546e7280-c723-45f5-be69-7c9cd7aa7807",
   "metadata": {},
   "outputs": [],
   "source": [
    "data_train = data_train.query('primary_cleaner_output_concentrate_total != 0')"
   ]
  },
  {
   "cell_type": "code",
   "execution_count": 39,
   "id": "a4553aad-013f-49f4-b9c4-e075dd683b2e",
   "metadata": {},
   "outputs": [],
   "source": [
    "#расчет суммарной концентрации в data_train final.output\n",
    "data_train['final_output_concentrate_total'] = (\n",
    "    data_train['final.output.concentrate_ag']+\n",
    "    data_train['final.output.concentrate_au']+\n",
    "    data_train['final.output.concentrate_pb']+\n",
    "    data_train['final.output.concentrate_sol']\n",
    ")"
   ]
  },
  {
   "cell_type": "code",
   "execution_count": 40,
   "id": "3e6d5fed-08c9-4e05-86fa-813d9f415693",
   "metadata": {},
   "outputs": [],
   "source": [
    "data_train = data_train.query('final_output_concentrate_total != 0')"
   ]
  },
  {
   "cell_type": "markdown",
   "id": "14bebbbd-f43f-4630-b2d9-60f9d615a83e",
   "metadata": {},
   "source": [
    "#### Вывод:\n",
    "- были построены гистограммы суммарной концентрации веществ на 3 этапах очистки.\n",
    "- сСредне значение концентрации веществ на первом и третьем этапах равны 68, на втором - 60. Концентрация вещест не снизилась от первого ктретьему этапу, так как уменьшается концентрация других веществ и увеличивается концентрация золота (как видели в пункте 2.1).\n",
    "- с каждым этапом очистки cтандартное отклоение уменьшаются, разброс становится меньше\n",
    "- среди значений имеются наблюдения с 0 концентрацией веществ на всех 3 этапах, следовательно попадается пустая порода"
   ]
  },
  {
   "cell_type": "markdown",
   "id": "9074f087-643e-4f29-a865-f33c37b96d85",
   "metadata": {},
   "source": [
    "### Функция для вычисления sMAPE"
   ]
  },
  {
   "cell_type": "code",
   "execution_count": 41,
   "id": "2819eb4e-f942-4782-8177-51f8788df5c5",
   "metadata": {},
   "outputs": [],
   "source": [
    "def SMAPE(y_true, y_pred):\n",
    "    error = np.abs(y_true - y_pred)\n",
    "    scale = (np.abs(y_true) + np.abs(y_pred)) / 2 + 0.000000001\n",
    "    result = (error / scale).mean()\n",
    "    return result"
   ]
  },
  {
   "cell_type": "code",
   "execution_count": 42,
   "id": "b3c8b647-0a6c-4a09-b0d2-165f1ac6f850",
   "metadata": {},
   "outputs": [],
   "source": [
    "def final_SMAPE(s1,s2):\n",
    "    return 0.25*s1+0.75*s2"
   ]
  },
  {
   "cell_type": "markdown",
   "id": "ff27bf4f-a7d1-41d4-815f-32a26ae9328d",
   "metadata": {
    "tags": []
   },
   "source": [
    "### Построение модели для пердсказания rougher.output.recovery"
   ]
  },
  {
   "cell_type": "code",
   "execution_count": 43,
   "id": "eab1e755-283d-4c4c-904c-d8df4c7ae5ed",
   "metadata": {
    "tags": []
   },
   "outputs": [],
   "source": [
    "#features\n",
    "x_train_rougher = (\n",
    "    data_train[\n",
    "        [\n",
    "             'rougher.input.feed_ag',\n",
    "       'rougher.input.feed_pb', 'rougher.input.feed_rate',\n",
    "       'rougher.input.feed_size', 'rougher.input.feed_sol',\n",
    "       'rougher.input.feed_au', 'rougher.input.floatbank10_sulfate',\n",
    "       'rougher.input.floatbank10_xanthate',\n",
    "       'rougher.input.floatbank11_sulfate',\n",
    "       'rougher.input.floatbank11_xanthate', 'rougher.state.floatbank10_a_air',\n",
    "       'rougher.state.floatbank10_a_level', 'rougher.state.floatbank10_b_air',\n",
    "       'rougher.state.floatbank10_b_level', 'rougher.state.floatbank10_c_air',\n",
    "       'rougher.state.floatbank10_c_level', 'rougher.state.floatbank10_d_air',\n",
    "       'rougher.state.floatbank10_d_level', 'rougher.state.floatbank10_e_air',\n",
    "       'rougher.state.floatbank10_e_level', 'rougher.state.floatbank10_f_air',\n",
    "       'rougher.state.floatbank10_f_level'\n",
    "        ]\n",
    "    ]\n",
    ")"
   ]
  },
  {
   "cell_type": "code",
   "execution_count": 44,
   "id": "dd786fd7-d257-4981-8f4a-1a954996d729",
   "metadata": {
    "tags": []
   },
   "outputs": [],
   "source": [
    "#target\n",
    "y_train_rougher = data_train['rougher.output.recovery']"
   ]
  },
  {
   "cell_type": "code",
   "execution_count": 45,
   "id": "e4da9da5-67f2-4312-8b9c-5e9a9d7db953",
   "metadata": {
    "jupyter": {
     "source_hidden": true
    },
    "tags": []
   },
   "outputs": [],
   "source": [
    "#features тестовой выборки\n",
    "x_test_rougher = (\n",
    "    data_test[\n",
    "        [\n",
    "            'rougher.input.feed_ag',\n",
    "       'rougher.input.feed_pb', 'rougher.input.feed_rate',\n",
    "       'rougher.input.feed_size', 'rougher.input.feed_sol',\n",
    "       'rougher.input.feed_au', 'rougher.input.floatbank10_sulfate',\n",
    "       'rougher.input.floatbank10_xanthate',\n",
    "       'rougher.input.floatbank11_sulfate',\n",
    "       'rougher.input.floatbank11_xanthate', 'rougher.state.floatbank10_a_air',\n",
    "       'rougher.state.floatbank10_a_level', 'rougher.state.floatbank10_b_air',\n",
    "       'rougher.state.floatbank10_b_level', 'rougher.state.floatbank10_c_air',\n",
    "       'rougher.state.floatbank10_c_level', 'rougher.state.floatbank10_d_air',\n",
    "       'rougher.state.floatbank10_d_level', 'rougher.state.floatbank10_e_air',\n",
    "       'rougher.state.floatbank10_e_level', 'rougher.state.floatbank10_f_air',\n",
    "       'rougher.state.floatbank10_f_level'\n",
    "        ]\n",
    "    ]\n",
    ")"
   ]
  },
  {
   "cell_type": "code",
   "execution_count": 46,
   "id": "da95bec0-4f9f-43a7-98cd-c2298d7e5d9e",
   "metadata": {
    "jupyter": {
     "source_hidden": true
    },
    "tags": []
   },
   "outputs": [],
   "source": [
    "#target тестовой выборки\n",
    "y_test_rougher = pd.DataFrame()\n",
    "y_test_rougher['rougher.output.recovery'] = (\n",
    "    data_test['date'].map(data_full.set_index('date')['rougher.output.recovery'])\n",
    ")"
   ]
  },
  {
   "cell_type": "code",
   "execution_count": 47,
   "id": "7738b23f-a848-4438-a146-9f55d509680d",
   "metadata": {},
   "outputs": [],
   "source": [
    "scorer = make_scorer(SMAPE,greater_is_better=False)"
   ]
  },
  {
   "cell_type": "code",
   "execution_count": 48,
   "id": "fe762827-4469-458d-adda-e1348fde2d3e",
   "metadata": {},
   "outputs": [],
   "source": [
    "model_tree = DecisionTreeRegressor(random_state=135)"
   ]
  },
  {
   "cell_type": "code",
   "execution_count": 49,
   "id": "daa236e6-7716-44c1-be7d-4f5c06fc8d14",
   "metadata": {},
   "outputs": [],
   "source": [
    "parameters = {'max_depth': range (10,25, 5),\n",
    "              'min_samples_leaf': range (1,11),\n",
    "              'min_samples_split': range (2,8),\n",
    "              'max_features': ['auto', 'sqrt'],\n",
    "              \n",
    "              }"
   ]
  },
  {
   "cell_type": "code",
   "execution_count": 50,
   "id": "49aa09c8-cb4b-460d-a35a-0e60d37df47f",
   "metadata": {},
   "outputs": [],
   "source": [
    "grid = GridSearchCV(model_tree, \n",
    "                    param_grid=parameters, \n",
    "                    scoring=scorer\n",
    "                   )"
   ]
  },
  {
   "cell_type": "code",
   "execution_count": 51,
   "id": "792e317a-23af-4631-991c-046b6945bc47",
   "metadata": {
    "tags": []
   },
   "outputs": [
    {
     "data": {
      "text/plain": [
       "GridSearchCV(estimator=DecisionTreeRegressor(random_state=135),\n",
       "             param_grid={'max_depth': range(10, 25, 5),\n",
       "                         'max_features': ['auto', 'sqrt'],\n",
       "                         'min_samples_leaf': range(1, 11),\n",
       "                         'min_samples_split': range(2, 8)},\n",
       "             scoring=make_scorer(SMAPE, greater_is_better=False))"
      ]
     },
     "execution_count": 51,
     "metadata": {},
     "output_type": "execute_result"
    }
   ],
   "source": [
    "grid.fit(x_train_rougher,y_train_rougher)"
   ]
  },
  {
   "cell_type": "code",
   "execution_count": 52,
   "id": "d1670be9-a774-4c15-8d5c-384417792857",
   "metadata": {},
   "outputs": [
    {
     "data": {
      "text/plain": [
       "{'max_depth': 10,\n",
       " 'max_features': 'sqrt',\n",
       " 'min_samples_leaf': 9,\n",
       " 'min_samples_split': 2}"
      ]
     },
     "execution_count": 52,
     "metadata": {},
     "output_type": "execute_result"
    }
   ],
   "source": [
    "grid.best_params_"
   ]
  },
  {
   "cell_type": "code",
   "execution_count": 53,
   "id": "f86d64ca",
   "metadata": {},
   "outputs": [
    {
     "data": {
      "text/plain": [
       "-0.07529640349034408"
      ]
     },
     "execution_count": 53,
     "metadata": {},
     "output_type": "execute_result"
    }
   ],
   "source": [
    "grid.best_score_"
   ]
  },
  {
   "cell_type": "code",
   "execution_count": 54,
   "id": "a0406091",
   "metadata": {},
   "outputs": [
    {
     "data": {
      "text/plain": [
       "make_scorer(SMAPE, greater_is_better=False)"
      ]
     },
     "execution_count": 54,
     "metadata": {},
     "output_type": "execute_result"
    }
   ],
   "source": [
    "grid.scorer_"
   ]
  },
  {
   "cell_type": "code",
   "execution_count": 55,
   "id": "c3bd1aa6-a59a-427b-bbcc-8210d71073b0",
   "metadata": {},
   "outputs": [],
   "source": [
    "#лин регрессия\n",
    "model_reg_r = LinearRegression()"
   ]
  },
  {
   "cell_type": "code",
   "execution_count": 56,
   "id": "19f39ff9-8afa-40a9-85fd-41fd4ed5390a",
   "metadata": {},
   "outputs": [],
   "source": [
    "scores = cross_val_score(model_reg_r, x_train_rougher, y_train_rougher, cv=10, scoring = scorer)"
   ]
  },
  {
   "cell_type": "code",
   "execution_count": 57,
   "id": "bf16fabe-83e2-428d-a254-71986af55156",
   "metadata": {},
   "outputs": [
    {
     "data": {
      "text/plain": [
       "-0.06097989018311255"
      ]
     },
     "execution_count": 57,
     "metadata": {},
     "output_type": "execute_result"
    }
   ],
   "source": [
    "scores.mean()"
   ]
  },
  {
   "cell_type": "code",
   "execution_count": 58,
   "id": "16810d91",
   "metadata": {},
   "outputs": [],
   "source": [
    "#выбрана модель лин регрессии, так как значение SMAPE ниже\n",
    "model_reg_r.fit(x_train_rougher, y_train_rougher)\n",
    "prediction = model_reg_r.predict(x_test_rougher)"
   ]
  },
  {
   "cell_type": "code",
   "execution_count": 59,
   "id": "06b64469",
   "metadata": {},
   "outputs": [
    {
     "data": {
      "text/plain": [
       "0.10180093923090276"
      ]
     },
     "execution_count": 59,
     "metadata": {},
     "output_type": "execute_result"
    }
   ],
   "source": [
    "SMAPE(np.array(y_test_rougher), np.array(prediction))"
   ]
  },
  {
   "cell_type": "code",
   "execution_count": 60,
   "id": "a8391369",
   "metadata": {},
   "outputs": [],
   "source": [
    "check = [y_test_rougher.median() for i in range(len(y_test_rougher))]"
   ]
  },
  {
   "cell_type": "code",
   "execution_count": 61,
   "id": "0c375e75",
   "metadata": {},
   "outputs": [
    {
     "data": {
      "text/plain": [
       "0.0805710123830404"
      ]
     },
     "execution_count": 61,
     "metadata": {},
     "output_type": "execute_result"
    }
   ],
   "source": [
    "SMAPE(np.array(y_test_rougher), np.array(check))"
   ]
  },
  {
   "cell_type": "markdown",
   "id": "c65f2381-4ba2-4162-a71b-1cc9410c0ab9",
   "metadata": {},
   "source": [
    "#### Вывод:\n",
    "- были построены модели случайного леса и лин регрессии\n",
    "- для прогнозирования rougher.output.recovery была выбрана модель лин регрессии, так как при оценке SMAPE она дает лучший результат - 0,06\n",
    "- sMAPE для тестовой выборки составил 0,1"
   ]
  },
  {
   "cell_type": "markdown",
   "id": "71cafc3e-793d-4d12-9ad9-cb65799c8cf6",
   "metadata": {},
   "source": [
    "### Построение модели для предсказания final.output.recovery."
   ]
  },
  {
   "cell_type": "code",
   "execution_count": 62,
   "id": "7d8d59ee-b7dc-47f4-baf8-5b47cce890ef",
   "metadata": {
    "tags": []
   },
   "outputs": [],
   "source": [
    "# обучающая выборка\n",
    "x_train_final = (\n",
    "    data_train[\n",
    "        [\n",
    "             'secondary_cleaner.state.floatbank2_a_air',\n",
    "       'secondary_cleaner.state.floatbank2_a_level',\n",
    "       'secondary_cleaner.state.floatbank2_b_air',\n",
    "       'secondary_cleaner.state.floatbank2_b_level',\n",
    "       'secondary_cleaner.state.floatbank3_a_air',\n",
    "       'secondary_cleaner.state.floatbank3_a_level',\n",
    "       'secondary_cleaner.state.floatbank3_b_air',\n",
    "       'secondary_cleaner.state.floatbank3_b_level',\n",
    "       'secondary_cleaner.state.floatbank4_a_air',\n",
    "       'secondary_cleaner.state.floatbank4_a_level',\n",
    "       'secondary_cleaner.state.floatbank4_b_air',\n",
    "       'secondary_cleaner.state.floatbank4_b_level',\n",
    "       'secondary_cleaner.state.floatbank5_a_air',\n",
    "       'secondary_cleaner.state.floatbank5_a_level',\n",
    "       'secondary_cleaner.state.floatbank5_b_air',\n",
    "       'secondary_cleaner.state.floatbank5_b_level',\n",
    "       'secondary_cleaner.state.floatbank6_a_air',\n",
    "       'secondary_cleaner.state.floatbank6_a_level'\n",
    "        ]\n",
    "    ]\n",
    ")"
   ]
  },
  {
   "cell_type": "code",
   "execution_count": 63,
   "id": "07fcae24-8c2b-4477-8414-6bddade1667d",
   "metadata": {
    "tags": []
   },
   "outputs": [],
   "source": [
    "#target\n",
    "y_train_final  = data_train['final.output.recovery']"
   ]
  },
  {
   "cell_type": "code",
   "execution_count": 64,
   "id": "a8c612cd-d10a-444e-8118-17aa7c60f02c",
   "metadata": {
    "tags": []
   },
   "outputs": [],
   "source": [
    "#features тестовой выборки\n",
    "x_test_final = (\n",
    "    data_test[\n",
    "        [\n",
    "             'secondary_cleaner.state.floatbank2_a_air',\n",
    "       'secondary_cleaner.state.floatbank2_a_level',\n",
    "       'secondary_cleaner.state.floatbank2_b_air',\n",
    "       'secondary_cleaner.state.floatbank2_b_level',\n",
    "       'secondary_cleaner.state.floatbank3_a_air',\n",
    "       'secondary_cleaner.state.floatbank3_a_level',\n",
    "       'secondary_cleaner.state.floatbank3_b_air',\n",
    "       'secondary_cleaner.state.floatbank3_b_level',\n",
    "       'secondary_cleaner.state.floatbank4_a_air',\n",
    "       'secondary_cleaner.state.floatbank4_a_level',\n",
    "       'secondary_cleaner.state.floatbank4_b_air',\n",
    "       'secondary_cleaner.state.floatbank4_b_level',\n",
    "       'secondary_cleaner.state.floatbank5_a_air',\n",
    "       'secondary_cleaner.state.floatbank5_a_level',\n",
    "       'secondary_cleaner.state.floatbank5_b_air',\n",
    "       'secondary_cleaner.state.floatbank5_b_level',\n",
    "       'secondary_cleaner.state.floatbank6_a_air',\n",
    "       'secondary_cleaner.state.floatbank6_a_level'\n",
    "        ]\n",
    "    ]\n",
    ")"
   ]
  },
  {
   "cell_type": "code",
   "execution_count": 65,
   "id": "1e43e129-088c-4ea8-873b-5ad15105315e",
   "metadata": {
    "tags": []
   },
   "outputs": [],
   "source": [
    "#target тестовой выборки\n",
    "y_test_final = pd.DataFrame()\n",
    "y_test_final['final.output.recovery'] = (\n",
    "    data_test['date'].map(data_full.set_index('date')['final.output.recovery'])\n",
    ")"
   ]
  },
  {
   "cell_type": "code",
   "execution_count": 82,
   "id": "1ee7855a",
   "metadata": {},
   "outputs": [
    {
     "data": {
      "text/html": [
       "<div>\n",
       "<style scoped>\n",
       "    .dataframe tbody tr th:only-of-type {\n",
       "        vertical-align: middle;\n",
       "    }\n",
       "\n",
       "    .dataframe tbody tr th {\n",
       "        vertical-align: top;\n",
       "    }\n",
       "\n",
       "    .dataframe thead th {\n",
       "        text-align: right;\n",
       "    }\n",
       "</style>\n",
       "<table border=\"1\" class=\"dataframe\">\n",
       "  <thead>\n",
       "    <tr style=\"text-align: right;\">\n",
       "      <th></th>\n",
       "      <th>final.output.recovery</th>\n",
       "    </tr>\n",
       "  </thead>\n",
       "  <tbody>\n",
       "    <tr>\n",
       "      <th>count</th>\n",
       "      <td>5290.000000</td>\n",
       "    </tr>\n",
       "    <tr>\n",
       "      <th>mean</th>\n",
       "      <td>68.471462</td>\n",
       "    </tr>\n",
       "    <tr>\n",
       "      <th>std</th>\n",
       "      <td>9.513871</td>\n",
       "    </tr>\n",
       "    <tr>\n",
       "      <th>min</th>\n",
       "      <td>0.000000</td>\n",
       "    </tr>\n",
       "    <tr>\n",
       "      <th>25%</th>\n",
       "      <td>65.508598</td>\n",
       "    </tr>\n",
       "    <tr>\n",
       "      <th>50%</th>\n",
       "      <td>69.815413</td>\n",
       "    </tr>\n",
       "    <tr>\n",
       "      <th>75%</th>\n",
       "      <td>73.288544</td>\n",
       "    </tr>\n",
       "    <tr>\n",
       "      <th>max</th>\n",
       "      <td>100.000000</td>\n",
       "    </tr>\n",
       "  </tbody>\n",
       "</table>\n",
       "</div>"
      ],
      "text/plain": [
       "       final.output.recovery\n",
       "count            5290.000000\n",
       "mean               68.471462\n",
       "std                 9.513871\n",
       "min                 0.000000\n",
       "25%                65.508598\n",
       "50%                69.815413\n",
       "75%                73.288544\n",
       "max               100.000000"
      ]
     },
     "execution_count": 82,
     "metadata": {},
     "output_type": "execute_result"
    }
   ],
   "source": [
    "y_test_final.describe()"
   ]
  },
  {
   "cell_type": "code",
   "execution_count": 84,
   "id": "fba47061",
   "metadata": {},
   "outputs": [
    {
     "data": {
      "text/html": [
       "<div>\n",
       "<style scoped>\n",
       "    .dataframe tbody tr th:only-of-type {\n",
       "        vertical-align: middle;\n",
       "    }\n",
       "\n",
       "    .dataframe tbody tr th {\n",
       "        vertical-align: top;\n",
       "    }\n",
       "\n",
       "    .dataframe thead th {\n",
       "        text-align: right;\n",
       "    }\n",
       "</style>\n",
       "<table border=\"1\" class=\"dataframe\">\n",
       "  <thead>\n",
       "    <tr style=\"text-align: right;\">\n",
       "      <th></th>\n",
       "      <th>primary_cleaner.input.sulfate</th>\n",
       "      <th>primary_cleaner.input.depressant</th>\n",
       "      <th>primary_cleaner.input.feed_size</th>\n",
       "      <th>primary_cleaner.input.xanthate</th>\n",
       "      <th>primary_cleaner.state.floatbank8_a_air</th>\n",
       "      <th>primary_cleaner.state.floatbank8_a_level</th>\n",
       "      <th>primary_cleaner.state.floatbank8_b_air</th>\n",
       "      <th>primary_cleaner.state.floatbank8_b_level</th>\n",
       "      <th>primary_cleaner.state.floatbank8_c_air</th>\n",
       "      <th>primary_cleaner.state.floatbank8_c_level</th>\n",
       "      <th>...</th>\n",
       "      <th>secondary_cleaner.state.floatbank4_b_air</th>\n",
       "      <th>secondary_cleaner.state.floatbank4_b_level</th>\n",
       "      <th>secondary_cleaner.state.floatbank5_a_air</th>\n",
       "      <th>secondary_cleaner.state.floatbank5_a_level</th>\n",
       "      <th>secondary_cleaner.state.floatbank5_b_air</th>\n",
       "      <th>secondary_cleaner.state.floatbank5_b_level</th>\n",
       "      <th>secondary_cleaner.state.floatbank6_a_air</th>\n",
       "      <th>secondary_cleaner.state.floatbank6_a_level</th>\n",
       "      <th>rougher.output.recovery</th>\n",
       "      <th>final.output.recovery</th>\n",
       "    </tr>\n",
       "  </thead>\n",
       "  <tbody>\n",
       "    <tr>\n",
       "      <th>count</th>\n",
       "      <td>5290.000000</td>\n",
       "      <td>5290.000000</td>\n",
       "      <td>5290.000000</td>\n",
       "      <td>5290.000000</td>\n",
       "      <td>5.290000e+03</td>\n",
       "      <td>5290.000000</td>\n",
       "      <td>5.290000e+03</td>\n",
       "      <td>5290.000000</td>\n",
       "      <td>5.290000e+03</td>\n",
       "      <td>5290.000000</td>\n",
       "      <td>...</td>\n",
       "      <td>5.290000e+03</td>\n",
       "      <td>5290.000000</td>\n",
       "      <td>5290.000000</td>\n",
       "      <td>5290.000000</td>\n",
       "      <td>5290.000000</td>\n",
       "      <td>5290.000000</td>\n",
       "      <td>5290.000000</td>\n",
       "      <td>5290.000000</td>\n",
       "      <td>5290.000000</td>\n",
       "      <td>5290.000000</td>\n",
       "    </tr>\n",
       "    <tr>\n",
       "      <th>mean</th>\n",
       "      <td>174.842478</td>\n",
       "      <td>8.684695</td>\n",
       "      <td>7.266339</td>\n",
       "      <td>1.383430</td>\n",
       "      <td>1.539494e+03</td>\n",
       "      <td>-497.665883</td>\n",
       "      <td>1.545174e+03</td>\n",
       "      <td>-500.273098</td>\n",
       "      <td>1.527272e+03</td>\n",
       "      <td>-498.330680</td>\n",
       "      <td>...</td>\n",
       "      <td>1.373544e+01</td>\n",
       "      <td>-463.349858</td>\n",
       "      <td>12.804186</td>\n",
       "      <td>-501.329122</td>\n",
       "      <td>9.881145</td>\n",
       "      <td>-495.663398</td>\n",
       "      <td>17.304935</td>\n",
       "      <td>-501.793193</td>\n",
       "      <td>84.997810</td>\n",
       "      <td>68.471462</td>\n",
       "    </tr>\n",
       "    <tr>\n",
       "      <th>std</th>\n",
       "      <td>43.023252</td>\n",
       "      <td>3.073753</td>\n",
       "      <td>0.610219</td>\n",
       "      <td>0.643548</td>\n",
       "      <td>1.167979e+02</td>\n",
       "      <td>19.952431</td>\n",
       "      <td>1.222246e+02</td>\n",
       "      <td>32.968307</td>\n",
       "      <td>1.225380e+02</td>\n",
       "      <td>21.964876</td>\n",
       "      <td>...</td>\n",
       "      <td>3.430484e+00</td>\n",
       "      <td>86.189107</td>\n",
       "      <td>3.026591</td>\n",
       "      <td>17.951495</td>\n",
       "      <td>2.868205</td>\n",
       "      <td>34.535007</td>\n",
       "      <td>4.536544</td>\n",
       "      <td>39.044215</td>\n",
       "      <td>13.077651</td>\n",
       "      <td>9.513871</td>\n",
       "    </tr>\n",
       "    <tr>\n",
       "      <th>min</th>\n",
       "      <td>2.566156</td>\n",
       "      <td>0.003839</td>\n",
       "      <td>5.650000</td>\n",
       "      <td>0.004984</td>\n",
       "      <td>5.445860e-32</td>\n",
       "      <td>-795.316337</td>\n",
       "      <td>6.647490e-32</td>\n",
       "      <td>-799.997015</td>\n",
       "      <td>4.033736e-32</td>\n",
       "      <td>-799.960571</td>\n",
       "      <td>...</td>\n",
       "      <td>2.489718e-17</td>\n",
       "      <td>-800.836914</td>\n",
       "      <td>0.069227</td>\n",
       "      <td>-797.323986</td>\n",
       "      <td>0.528083</td>\n",
       "      <td>-800.220337</td>\n",
       "      <td>-0.079426</td>\n",
       "      <td>-809.741464</td>\n",
       "      <td>0.000000</td>\n",
       "      <td>0.000000</td>\n",
       "    </tr>\n",
       "    <tr>\n",
       "      <th>25%</th>\n",
       "      <td>147.121401</td>\n",
       "      <td>6.489556</td>\n",
       "      <td>6.890000</td>\n",
       "      <td>0.907390</td>\n",
       "      <td>1.498936e+03</td>\n",
       "      <td>-500.357298</td>\n",
       "      <td>1.498971e+03</td>\n",
       "      <td>-500.703002</td>\n",
       "      <td>1.473230e+03</td>\n",
       "      <td>-501.018117</td>\n",
       "      <td>...</td>\n",
       "      <td>1.202862e+01</td>\n",
       "      <td>-500.323028</td>\n",
       "      <td>10.914838</td>\n",
       "      <td>-500.726841</td>\n",
       "      <td>8.036719</td>\n",
       "      <td>-500.194668</td>\n",
       "      <td>13.997317</td>\n",
       "      <td>-500.690984</td>\n",
       "      <td>84.509308</td>\n",
       "      <td>65.508598</td>\n",
       "    </tr>\n",
       "    <tr>\n",
       "      <th>50%</th>\n",
       "      <td>177.828489</td>\n",
       "      <td>8.052131</td>\n",
       "      <td>7.250000</td>\n",
       "      <td>1.197586</td>\n",
       "      <td>1.585129e+03</td>\n",
       "      <td>-499.969164</td>\n",
       "      <td>1.595622e+03</td>\n",
       "      <td>-500.028514</td>\n",
       "      <td>1.549595e+03</td>\n",
       "      <td>-500.017711</td>\n",
       "      <td>...</td>\n",
       "      <td>1.496486e+01</td>\n",
       "      <td>-499.576513</td>\n",
       "      <td>12.954182</td>\n",
       "      <td>-499.990332</td>\n",
       "      <td>10.004301</td>\n",
       "      <td>-499.990535</td>\n",
       "      <td>16.014935</td>\n",
       "      <td>-500.007126</td>\n",
       "      <td>87.388553</td>\n",
       "      <td>69.815413</td>\n",
       "    </tr>\n",
       "    <tr>\n",
       "      <th>75%</th>\n",
       "      <td>208.125438</td>\n",
       "      <td>10.028043</td>\n",
       "      <td>7.600000</td>\n",
       "      <td>1.797819</td>\n",
       "      <td>1.602077e+03</td>\n",
       "      <td>-499.568951</td>\n",
       "      <td>1.602324e+03</td>\n",
       "      <td>-499.293257</td>\n",
       "      <td>1.601144e+03</td>\n",
       "      <td>-498.994130</td>\n",
       "      <td>...</td>\n",
       "      <td>1.596213e+01</td>\n",
       "      <td>-400.933805</td>\n",
       "      <td>15.097528</td>\n",
       "      <td>-499.283191</td>\n",
       "      <td>11.997467</td>\n",
       "      <td>-499.719913</td>\n",
       "      <td>21.020013</td>\n",
       "      <td>-499.373018</td>\n",
       "      <td>89.734185</td>\n",
       "      <td>73.288544</td>\n",
       "    </tr>\n",
       "    <tr>\n",
       "      <th>max</th>\n",
       "      <td>265.983123</td>\n",
       "      <td>40.000000</td>\n",
       "      <td>15.500000</td>\n",
       "      <td>4.102454</td>\n",
       "      <td>2.103104e+03</td>\n",
       "      <td>-57.195404</td>\n",
       "      <td>1.813084e+03</td>\n",
       "      <td>-142.527229</td>\n",
       "      <td>1.715054e+03</td>\n",
       "      <td>-150.937035</td>\n",
       "      <td>...</td>\n",
       "      <td>3.126971e+01</td>\n",
       "      <td>-6.506986</td>\n",
       "      <td>25.258848</td>\n",
       "      <td>-244.483566</td>\n",
       "      <td>14.086866</td>\n",
       "      <td>-137.740004</td>\n",
       "      <td>26.705889</td>\n",
       "      <td>-123.307487</td>\n",
       "      <td>99.169699</td>\n",
       "      <td>100.000000</td>\n",
       "    </tr>\n",
       "  </tbody>\n",
       "</table>\n",
       "<p>8 rows × 54 columns</p>\n",
       "</div>"
      ],
      "text/plain": [
       "       primary_cleaner.input.sulfate  primary_cleaner.input.depressant  \\\n",
       "count                    5290.000000                       5290.000000   \n",
       "mean                      174.842478                          8.684695   \n",
       "std                        43.023252                          3.073753   \n",
       "min                         2.566156                          0.003839   \n",
       "25%                       147.121401                          6.489556   \n",
       "50%                       177.828489                          8.052131   \n",
       "75%                       208.125438                         10.028043   \n",
       "max                       265.983123                         40.000000   \n",
       "\n",
       "       primary_cleaner.input.feed_size  primary_cleaner.input.xanthate  \\\n",
       "count                      5290.000000                     5290.000000   \n",
       "mean                          7.266339                        1.383430   \n",
       "std                           0.610219                        0.643548   \n",
       "min                           5.650000                        0.004984   \n",
       "25%                           6.890000                        0.907390   \n",
       "50%                           7.250000                        1.197586   \n",
       "75%                           7.600000                        1.797819   \n",
       "max                          15.500000                        4.102454   \n",
       "\n",
       "       primary_cleaner.state.floatbank8_a_air  \\\n",
       "count                            5.290000e+03   \n",
       "mean                             1.539494e+03   \n",
       "std                              1.167979e+02   \n",
       "min                              5.445860e-32   \n",
       "25%                              1.498936e+03   \n",
       "50%                              1.585129e+03   \n",
       "75%                              1.602077e+03   \n",
       "max                              2.103104e+03   \n",
       "\n",
       "       primary_cleaner.state.floatbank8_a_level  \\\n",
       "count                               5290.000000   \n",
       "mean                                -497.665883   \n",
       "std                                   19.952431   \n",
       "min                                 -795.316337   \n",
       "25%                                 -500.357298   \n",
       "50%                                 -499.969164   \n",
       "75%                                 -499.568951   \n",
       "max                                  -57.195404   \n",
       "\n",
       "       primary_cleaner.state.floatbank8_b_air  \\\n",
       "count                            5.290000e+03   \n",
       "mean                             1.545174e+03   \n",
       "std                              1.222246e+02   \n",
       "min                              6.647490e-32   \n",
       "25%                              1.498971e+03   \n",
       "50%                              1.595622e+03   \n",
       "75%                              1.602324e+03   \n",
       "max                              1.813084e+03   \n",
       "\n",
       "       primary_cleaner.state.floatbank8_b_level  \\\n",
       "count                               5290.000000   \n",
       "mean                                -500.273098   \n",
       "std                                   32.968307   \n",
       "min                                 -799.997015   \n",
       "25%                                 -500.703002   \n",
       "50%                                 -500.028514   \n",
       "75%                                 -499.293257   \n",
       "max                                 -142.527229   \n",
       "\n",
       "       primary_cleaner.state.floatbank8_c_air  \\\n",
       "count                            5.290000e+03   \n",
       "mean                             1.527272e+03   \n",
       "std                              1.225380e+02   \n",
       "min                              4.033736e-32   \n",
       "25%                              1.473230e+03   \n",
       "50%                              1.549595e+03   \n",
       "75%                              1.601144e+03   \n",
       "max                              1.715054e+03   \n",
       "\n",
       "       primary_cleaner.state.floatbank8_c_level  ...  \\\n",
       "count                               5290.000000  ...   \n",
       "mean                                -498.330680  ...   \n",
       "std                                   21.964876  ...   \n",
       "min                                 -799.960571  ...   \n",
       "25%                                 -501.018117  ...   \n",
       "50%                                 -500.017711  ...   \n",
       "75%                                 -498.994130  ...   \n",
       "max                                 -150.937035  ...   \n",
       "\n",
       "       secondary_cleaner.state.floatbank4_b_air  \\\n",
       "count                              5.290000e+03   \n",
       "mean                               1.373544e+01   \n",
       "std                                3.430484e+00   \n",
       "min                                2.489718e-17   \n",
       "25%                                1.202862e+01   \n",
       "50%                                1.496486e+01   \n",
       "75%                                1.596213e+01   \n",
       "max                                3.126971e+01   \n",
       "\n",
       "       secondary_cleaner.state.floatbank4_b_level  \\\n",
       "count                                 5290.000000   \n",
       "mean                                  -463.349858   \n",
       "std                                     86.189107   \n",
       "min                                   -800.836914   \n",
       "25%                                   -500.323028   \n",
       "50%                                   -499.576513   \n",
       "75%                                   -400.933805   \n",
       "max                                     -6.506986   \n",
       "\n",
       "       secondary_cleaner.state.floatbank5_a_air  \\\n",
       "count                               5290.000000   \n",
       "mean                                  12.804186   \n",
       "std                                    3.026591   \n",
       "min                                    0.069227   \n",
       "25%                                   10.914838   \n",
       "50%                                   12.954182   \n",
       "75%                                   15.097528   \n",
       "max                                   25.258848   \n",
       "\n",
       "       secondary_cleaner.state.floatbank5_a_level  \\\n",
       "count                                 5290.000000   \n",
       "mean                                  -501.329122   \n",
       "std                                     17.951495   \n",
       "min                                   -797.323986   \n",
       "25%                                   -500.726841   \n",
       "50%                                   -499.990332   \n",
       "75%                                   -499.283191   \n",
       "max                                   -244.483566   \n",
       "\n",
       "       secondary_cleaner.state.floatbank5_b_air  \\\n",
       "count                               5290.000000   \n",
       "mean                                   9.881145   \n",
       "std                                    2.868205   \n",
       "min                                    0.528083   \n",
       "25%                                    8.036719   \n",
       "50%                                   10.004301   \n",
       "75%                                   11.997467   \n",
       "max                                   14.086866   \n",
       "\n",
       "       secondary_cleaner.state.floatbank5_b_level  \\\n",
       "count                                 5290.000000   \n",
       "mean                                  -495.663398   \n",
       "std                                     34.535007   \n",
       "min                                   -800.220337   \n",
       "25%                                   -500.194668   \n",
       "50%                                   -499.990535   \n",
       "75%                                   -499.719913   \n",
       "max                                   -137.740004   \n",
       "\n",
       "       secondary_cleaner.state.floatbank6_a_air  \\\n",
       "count                               5290.000000   \n",
       "mean                                  17.304935   \n",
       "std                                    4.536544   \n",
       "min                                   -0.079426   \n",
       "25%                                   13.997317   \n",
       "50%                                   16.014935   \n",
       "75%                                   21.020013   \n",
       "max                                   26.705889   \n",
       "\n",
       "       secondary_cleaner.state.floatbank6_a_level  rougher.output.recovery  \\\n",
       "count                                 5290.000000              5290.000000   \n",
       "mean                                  -501.793193                84.997810   \n",
       "std                                     39.044215                13.077651   \n",
       "min                                   -809.741464                 0.000000   \n",
       "25%                                   -500.690984                84.509308   \n",
       "50%                                   -500.007126                87.388553   \n",
       "75%                                   -499.373018                89.734185   \n",
       "max                                   -123.307487                99.169699   \n",
       "\n",
       "       final.output.recovery  \n",
       "count            5290.000000  \n",
       "mean               68.471462  \n",
       "std                 9.513871  \n",
       "min                 0.000000  \n",
       "25%                65.508598  \n",
       "50%                69.815413  \n",
       "75%                73.288544  \n",
       "max               100.000000  \n",
       "\n",
       "[8 rows x 54 columns]"
      ]
     },
     "execution_count": 84,
     "metadata": {},
     "output_type": "execute_result"
    }
   ],
   "source": [
    "test_final = data_test.merge(data_full[['rougher.output.recovery', 'final.output.recovery', 'date']],\n",
    "                         how = 'left', on= 'date')\n",
    "test_final.describe()"
   ]
  },
  {
   "cell_type": "code",
   "execution_count": 66,
   "id": "37591957-66da-44a6-9775-d77fb9811109",
   "metadata": {},
   "outputs": [],
   "source": [
    "#дерево регрессии\n",
    "model_tree_f = DecisionTreeRegressor(random_state=135)"
   ]
  },
  {
   "cell_type": "code",
   "execution_count": 67,
   "id": "7d134ada-302e-434c-a01b-c104aa72ce51",
   "metadata": {},
   "outputs": [],
   "source": [
    "grid = GridSearchCV(model_tree_f, \n",
    "                    param_grid=parameters, \n",
    "                    scoring=scorer\n",
    "                   )"
   ]
  },
  {
   "cell_type": "code",
   "execution_count": 68,
   "id": "67cc8717-a44c-4b48-912a-5884ec281c38",
   "metadata": {},
   "outputs": [
    {
     "data": {
      "text/plain": [
       "GridSearchCV(estimator=DecisionTreeRegressor(random_state=135),\n",
       "             param_grid={'max_depth': range(10, 25, 5),\n",
       "                         'max_features': ['auto', 'sqrt'],\n",
       "                         'min_samples_leaf': range(1, 11),\n",
       "                         'min_samples_split': range(2, 8)},\n",
       "             scoring=make_scorer(SMAPE, greater_is_better=False))"
      ]
     },
     "execution_count": 68,
     "metadata": {},
     "output_type": "execute_result"
    }
   ],
   "source": [
    "grid.fit(x_train_final,y_train_final)"
   ]
  },
  {
   "cell_type": "code",
   "execution_count": 69,
   "id": "7f0fd274-4705-4a81-9849-b0f44076e0ad",
   "metadata": {},
   "outputs": [
    {
     "data": {
      "text/plain": [
       "{'max_depth': 10,\n",
       " 'max_features': 'sqrt',\n",
       " 'min_samples_leaf': 2,\n",
       " 'min_samples_split': 5}"
      ]
     },
     "execution_count": 69,
     "metadata": {},
     "output_type": "execute_result"
    }
   ],
   "source": [
    "grid.best_params_"
   ]
  },
  {
   "cell_type": "code",
   "execution_count": 70,
   "id": "5bb7c448-6169-460a-af68-f4a851d737ab",
   "metadata": {},
   "outputs": [
    {
     "data": {
      "text/plain": [
       "-0.12553796094363548"
      ]
     },
     "execution_count": 70,
     "metadata": {},
     "output_type": "execute_result"
    }
   ],
   "source": [
    "grid.best_score_"
   ]
  },
  {
   "cell_type": "code",
   "execution_count": 71,
   "id": "8b97bed6-abf9-46d0-b624-32b658080257",
   "metadata": {},
   "outputs": [],
   "source": [
    "#лин регрессия\n",
    "model_reg_f = LinearRegression()"
   ]
  },
  {
   "cell_type": "code",
   "execution_count": 72,
   "id": "8179c1a4-50b4-4e87-af95-e7299dbca236",
   "metadata": {},
   "outputs": [],
   "source": [
    "scores = cross_val_score(model_reg_r, x_train_final, y_train_final, cv=10, scoring = scorer)"
   ]
  },
  {
   "cell_type": "code",
   "execution_count": 73,
   "id": "1451403e-be67-4e2f-ab8e-72651fe0ead4",
   "metadata": {},
   "outputs": [
    {
     "data": {
      "text/plain": [
       "-0.1019806959470716"
      ]
     },
     "execution_count": 73,
     "metadata": {},
     "output_type": "execute_result"
    }
   ],
   "source": [
    "scores.mean()"
   ]
  },
  {
   "cell_type": "code",
   "execution_count": 74,
   "id": "3b8324c9-861f-4af8-86b2-f2f4ad21abec",
   "metadata": {},
   "outputs": [],
   "source": [
    "#выбрана модель лин регрессии, так как значение SMAPE ниже\n",
    "model_reg_f.fit(x_train_final, y_train_final)\n",
    "prediction_final = model_reg_f.predict(x_test_final)"
   ]
  },
  {
   "cell_type": "code",
   "execution_count": 75,
   "id": "d17d6fd0-19c0-4b35-9e87-b42a531ef3f9",
   "metadata": {},
   "outputs": [
    {
     "data": {
      "text/plain": [
       "0.12608374077713586"
      ]
     },
     "execution_count": 75,
     "metadata": {},
     "output_type": "execute_result"
    }
   ],
   "source": [
    "SMAPE(np.array(y_test_final), np.array(prediction_final))"
   ]
  },
  {
   "cell_type": "code",
   "execution_count": 76,
   "id": "3b268e43-9a13-42e3-9764-809007463c1d",
   "metadata": {},
   "outputs": [],
   "source": [
    "check = [y_test_final.median() for i in range(len(y_test_final))]"
   ]
  },
  {
   "cell_type": "code",
   "execution_count": 77,
   "id": "caa5c211-ce68-48b2-afac-5d8bb17358bf",
   "metadata": {},
   "outputs": [
    {
     "data": {
      "text/plain": [
       "0.08443111800747578"
      ]
     },
     "execution_count": 77,
     "metadata": {},
     "output_type": "execute_result"
    }
   ],
   "source": [
    "SMAPE(np.array(check), np.array(prediction_final))"
   ]
  },
  {
   "cell_type": "markdown",
   "id": "c2119264-118d-4969-b19d-a11cce7a83cf",
   "metadata": {},
   "source": [
    "#### Вывод:\n",
    "- были построены модели случайного леса и лин регрессии\n",
    "- для прогнозирования final.output.recovery была выбрана модель лин регрессии, так как при оценке SMAPE она дает лучший результат - 0,1\n",
    "- sMAPE для тестовой выборки составил 0,12"
   ]
  },
  {
   "cell_type": "code",
   "execution_count": 78,
   "id": "bc2ed125-6ad3-4e0c-842d-b48810506ac7",
   "metadata": {},
   "outputs": [
    {
     "data": {
      "text/plain": [
       "0.12001304039057759"
      ]
     },
     "execution_count": 78,
     "metadata": {},
     "output_type": "execute_result"
    }
   ],
   "source": [
    "#финальное sMAPE\n",
    "final_SMAPE(SMAPE(np.array(y_test_rougher), np.array(prediction)),\n",
    "            SMAPE(np.array(y_test_final), np.array(prediction_final))\n",
    "           ) "
   ]
  },
  {
   "cell_type": "markdown",
   "id": "0158e387-2652-49cf-a64e-f67d5da3ede3",
   "metadata": {},
   "source": [
    "# Вывод:\n",
    "\n",
    "На этапе подготовки данных\n",
    "- были загружены данные, сохранены в таблицах data_full,data_train,data_test\n",
    "- была рассчитана эффективность обогащения на обучающей выборке для признака rougher.output.recovery\n",
    "- было рассчитано значение средней абсолютной ошибки 9.73512347450521e-15\n",
    "- в тестовой выборке отсутвуют выходные параметры, описывающие концентрацию хим веществ (pb,au,ag,sol) на разных этапах (final,primary_cleaner, rougher,secondary_cleaner) и отвальных хвостах\n",
    "- в данных имеются пропуски, пропуски были заполнены соседними значениями, так как значения параметров снимаются в определенные интервалы времени, и значения будут близкими\n",
    "\n",
    "В результате анализа концентрации веществ на каждом этапе было обнаружено:\n",
    " - концентрация золота увеличивается с каждым этапом (20, 32, 45). Разброс увеличивается на этапе primary и снижается на final. Имеются выбросы\n",
    " - концентрация серебра снижается с каждым этапом очистки (12,8,5). Разброс уменьшается. Имеются выбросы\n",
    " - концентрация свинца увеличивается от этапа rougher к primary (7.5 ,10 ,10). Разброс увеличивается на этапе primary и снижается на final. Имеются выбросы\n",
    " \n",
    " В результате сравнения гранул сырья на обучающей и тестовой выборке было обнаружено:\n",
    " - были построены распределения золота в исходном сырье для тестовой и обучающей выборок\n",
    "- среднее значения на тестовой выборке - 9.3, стандартное отклонение - 1.6, межквартильный размах - 2.3, нормальное распределение.\n",
    "- среднее значения на обучающей выборке - 7.9, стандартное отклонение - 1.9, межквартильный размах - 2.5, нормальное распределение\n",
    "- средние двух выборок различаются на 1,4, что меньше стандартного отклонения\n",
    "\n",
    "По результатам анализа суммарной концентрации вещест на разных этапах технологического процесса было обнаружено:\n",
    "- были построены гистограммы суммарной концентрации веществ на 3 этапах очистки.\n",
    "- сСредне значение концентрации веществ на первом и третьем этапах равны 68, на втором - 60. Концентрация вещест не снизилась от первого ктретьему этапу, так как уменьшается концентрация других веществ и увеличивается концентрация золота (как видели в пункте 2.1).\n",
    "- с каждым этапом очистки cтандартное отклоение уменьшаются, разброс становится меньше\n",
    "- среди значений имеются наблюдения с 0 концентрацией веществ на всех 3 этапах, следовательно попадается пустая порода\n",
    "\n",
    "На этапе обучения моделей:\n",
    "- для прогнозирования rougher.output.recovery была выбрана модель лин регрессии, так как при оценке SMAPE она дает лучший результат - 0,06\n",
    "- sMAPE для тестовой выборки составил 0,1\n",
    "- для прогнозирования final.output.recovery была выбрана модель лин регрессии, так как при оценке SMAPE она дает лучший результат - 0,1\n",
    "- sMAPE для тестовой выборки составил 0,12\n",
    "\n",
    "Был рассчитан итоговый sMAPE - 0,12"
   ]
  },
  {
   "cell_type": "code",
   "execution_count": null,
   "id": "e624ebd3",
   "metadata": {},
   "outputs": [],
   "source": []
  }
 ],
 "metadata": {
  "ExecuteTimeLog": [
   {
    "duration": 1380,
    "start_time": "2022-05-29T08:12:44.554Z"
   },
   {
    "duration": 343,
    "start_time": "2022-05-29T08:12:45.936Z"
   },
   {
    "duration": 18,
    "start_time": "2022-05-29T08:12:46.281Z"
   },
   {
    "duration": 227,
    "start_time": "2022-05-29T08:12:46.301Z"
   },
   {
    "duration": 14,
    "start_time": "2022-05-29T08:12:46.529Z"
   },
   {
    "duration": 67,
    "start_time": "2022-05-29T08:12:46.551Z"
   },
   {
    "duration": 11,
    "start_time": "2022-05-29T08:12:46.620Z"
   },
   {
    "duration": 5,
    "start_time": "2022-05-29T08:12:46.633Z"
   },
   {
    "duration": 14,
    "start_time": "2022-05-29T08:12:46.639Z"
   },
   {
    "duration": 5,
    "start_time": "2022-05-29T08:12:46.655Z"
   },
   {
    "duration": 7,
    "start_time": "2022-05-29T08:12:46.661Z"
   },
   {
    "duration": 10,
    "start_time": "2022-05-29T08:12:46.669Z"
   },
   {
    "duration": 13,
    "start_time": "2022-05-29T08:12:46.680Z"
   },
   {
    "duration": 20,
    "start_time": "2022-05-29T08:12:46.695Z"
   },
   {
    "duration": 5,
    "start_time": "2022-05-29T08:12:46.717Z"
   },
   {
    "duration": 32,
    "start_time": "2022-05-29T08:12:46.724Z"
   },
   {
    "duration": 4,
    "start_time": "2022-05-29T08:12:46.758Z"
   },
   {
    "duration": 14,
    "start_time": "2022-05-29T08:12:46.763Z"
   },
   {
    "duration": 217,
    "start_time": "2022-05-29T08:12:46.779Z"
   },
   {
    "duration": 200,
    "start_time": "2022-05-29T08:12:46.998Z"
   },
   {
    "duration": 208,
    "start_time": "2022-05-29T08:12:47.200Z"
   },
   {
    "duration": 9,
    "start_time": "2022-05-29T08:12:47.409Z"
   },
   {
    "duration": 383,
    "start_time": "2022-05-29T08:12:47.419Z"
   },
   {
    "duration": 8,
    "start_time": "2022-05-29T08:12:47.804Z"
   },
   {
    "duration": 402,
    "start_time": "2022-05-29T08:12:47.814Z"
   },
   {
    "duration": 3,
    "start_time": "2022-05-29T08:12:48.218Z"
   },
   {
    "duration": 7,
    "start_time": "2022-05-29T08:12:48.222Z"
   },
   {
    "duration": 20,
    "start_time": "2022-05-29T08:12:48.232Z"
   },
   {
    "duration": 4,
    "start_time": "2022-05-29T08:12:48.254Z"
   },
   {
    "duration": 8,
    "start_time": "2022-05-29T08:12:48.259Z"
   },
   {
    "duration": 22,
    "start_time": "2022-05-29T08:12:48.268Z"
   },
   {
    "duration": 515,
    "start_time": "2022-05-29T08:12:48.291Z"
   },
   {
    "duration": 3,
    "start_time": "2022-05-29T08:12:48.807Z"
   },
   {
    "duration": 10,
    "start_time": "2022-05-29T08:12:48.812Z"
   },
   {
    "duration": 6,
    "start_time": "2022-05-29T08:12:48.824Z"
   },
   {
    "duration": 18,
    "start_time": "2022-05-29T08:12:48.831Z"
   },
   {
    "duration": 34,
    "start_time": "2022-05-29T08:12:48.850Z"
   },
   {
    "duration": 3334,
    "start_time": "2022-05-29T08:12:48.885Z"
   },
   {
    "duration": 831,
    "start_time": "2022-05-29T08:12:52.221Z"
   },
   {
    "duration": 13,
    "start_time": "2022-05-29T08:12:53.053Z"
   },
   {
    "duration": 93,
    "start_time": "2022-05-29T08:12:53.068Z"
   },
   {
    "duration": 95,
    "start_time": "2022-05-29T08:12:53.164Z"
   },
   {
    "duration": 125,
    "start_time": "2022-05-29T08:12:53.261Z"
   },
   {
    "duration": 5,
    "start_time": "2022-05-29T08:12:53.387Z"
   },
   {
    "duration": 8,
    "start_time": "2022-05-29T08:12:53.393Z"
   },
   {
    "duration": 9,
    "start_time": "2022-05-29T08:12:53.402Z"
   },
   {
    "duration": 6,
    "start_time": "2022-05-29T08:12:53.412Z"
   },
   {
    "duration": 20,
    "start_time": "2022-05-29T08:12:53.419Z"
   },
   {
    "duration": 2819,
    "start_time": "2022-05-29T08:12:53.440Z"
   },
   {
    "duration": 805,
    "start_time": "2022-05-29T08:12:56.260Z"
   },
   {
    "duration": 188,
    "start_time": "2022-05-29T08:12:57.066Z"
   },
   {
    "duration": 98,
    "start_time": "2022-05-29T08:12:57.255Z"
   },
   {
    "duration": 98,
    "start_time": "2022-05-29T08:12:57.355Z"
   },
   {
    "duration": 56,
    "start_time": "2022-05-29T08:12:57.455Z"
   },
   {
    "duration": 121,
    "start_time": "2022-05-29T08:12:57.512Z"
   },
   {
    "duration": 3,
    "start_time": "2022-05-29T08:12:57.635Z"
   },
   {
    "duration": 12,
    "start_time": "2022-05-29T10:14:28.753Z"
   },
   {
    "duration": 105,
    "start_time": "2022-05-29T10:14:39.453Z"
   },
   {
    "duration": 104,
    "start_time": "2022-05-29T10:16:44.855Z"
   },
   {
    "duration": 6,
    "start_time": "2022-05-29T10:24:22.353Z"
   },
   {
    "duration": 13,
    "start_time": "2022-05-29T10:24:32.155Z"
   },
   {
    "duration": 1453,
    "start_time": "2022-05-31T10:52:09.295Z"
   },
   {
    "duration": 1966,
    "start_time": "2022-05-31T10:52:10.751Z"
   },
   {
    "duration": 21,
    "start_time": "2022-05-31T10:52:12.719Z"
   },
   {
    "duration": 1268,
    "start_time": "2022-05-31T10:52:12.743Z"
   },
   {
    "duration": 19,
    "start_time": "2022-05-31T10:52:14.014Z"
   },
   {
    "duration": 420,
    "start_time": "2022-05-31T10:52:14.035Z"
   },
   {
    "duration": 13,
    "start_time": "2022-05-31T10:52:14.457Z"
   },
   {
    "duration": 9,
    "start_time": "2022-05-31T10:52:14.472Z"
   },
   {
    "duration": 9,
    "start_time": "2022-05-31T10:52:14.483Z"
   },
   {
    "duration": 5,
    "start_time": "2022-05-31T10:52:14.494Z"
   },
   {
    "duration": 10,
    "start_time": "2022-05-31T10:52:14.501Z"
   },
   {
    "duration": 7,
    "start_time": "2022-05-31T10:52:14.513Z"
   },
   {
    "duration": 10,
    "start_time": "2022-05-31T10:52:14.522Z"
   },
   {
    "duration": 52,
    "start_time": "2022-05-31T10:52:14.533Z"
   },
   {
    "duration": 8,
    "start_time": "2022-05-31T10:52:14.587Z"
   },
   {
    "duration": 23,
    "start_time": "2022-05-31T10:52:14.596Z"
   },
   {
    "duration": 5,
    "start_time": "2022-05-31T10:52:14.622Z"
   },
   {
    "duration": 39,
    "start_time": "2022-05-31T10:52:14.628Z"
   },
   {
    "duration": 261,
    "start_time": "2022-05-31T10:52:14.669Z"
   },
   {
    "duration": 262,
    "start_time": "2022-05-31T10:52:14.932Z"
   },
   {
    "duration": 271,
    "start_time": "2022-05-31T10:52:15.196Z"
   },
   {
    "duration": 10,
    "start_time": "2022-05-31T10:52:15.469Z"
   },
   {
    "duration": 420,
    "start_time": "2022-05-31T10:52:15.481Z"
   },
   {
    "duration": 9,
    "start_time": "2022-05-31T10:52:15.903Z"
   },
   {
    "duration": 441,
    "start_time": "2022-05-31T10:52:15.913Z"
   },
   {
    "duration": 3,
    "start_time": "2022-05-31T10:52:16.356Z"
   },
   {
    "duration": 4,
    "start_time": "2022-05-31T10:52:16.364Z"
   },
   {
    "duration": 7,
    "start_time": "2022-05-31T10:52:16.372Z"
   },
   {
    "duration": 4,
    "start_time": "2022-05-31T10:52:16.380Z"
   },
   {
    "duration": 13,
    "start_time": "2022-05-31T10:52:16.386Z"
   },
   {
    "duration": 7,
    "start_time": "2022-05-31T10:52:16.400Z"
   },
   {
    "duration": 35,
    "start_time": "2022-05-31T10:52:16.409Z"
   },
   {
    "duration": 787,
    "start_time": "2022-05-31T10:52:16.445Z"
   },
   {
    "duration": 5,
    "start_time": "2022-05-31T10:52:17.234Z"
   },
   {
    "duration": 45,
    "start_time": "2022-05-31T10:52:17.241Z"
   },
   {
    "duration": 33,
    "start_time": "2022-05-31T10:52:17.288Z"
   },
   {
    "duration": 7,
    "start_time": "2022-05-31T10:52:17.323Z"
   },
   {
    "duration": 50,
    "start_time": "2022-05-31T10:52:17.332Z"
   },
   {
    "duration": 7,
    "start_time": "2022-05-31T10:52:17.384Z"
   },
   {
    "duration": 27,
    "start_time": "2022-05-31T10:52:17.392Z"
   },
   {
    "duration": 5,
    "start_time": "2022-05-31T10:52:17.422Z"
   },
   {
    "duration": 14,
    "start_time": "2022-05-31T10:52:17.429Z"
   },
   {
    "duration": 21,
    "start_time": "2022-05-31T10:52:17.445Z"
   },
   {
    "duration": 6,
    "start_time": "2022-05-31T10:52:17.468Z"
   },
   {
    "duration": 8,
    "start_time": "2022-05-31T10:52:17.476Z"
   },
   {
    "duration": 28,
    "start_time": "2022-05-31T10:52:17.486Z"
   },
   {
    "duration": 4,
    "start_time": "2022-05-31T10:52:17.515Z"
   },
   {
    "duration": 8,
    "start_time": "2022-05-31T10:52:17.521Z"
   },
   {
    "duration": 7,
    "start_time": "2022-05-31T10:52:17.531Z"
   },
   {
    "duration": 7,
    "start_time": "2022-05-31T10:52:17.540Z"
   },
   {
    "duration": 97952,
    "start_time": "2022-05-31T10:52:17.565Z"
   },
   {
    "duration": 4,
    "start_time": "2022-05-31T10:53:55.519Z"
   },
   {
    "duration": 3659,
    "start_time": "2022-05-31T10:53:55.525Z"
   },
   {
    "duration": 480,
    "start_time": "2022-05-31T10:53:59.186Z"
   },
   {
    "duration": 103,
    "start_time": "2022-05-31T10:53:59.668Z"
   },
   {
    "duration": 191,
    "start_time": "2022-05-31T10:53:59.776Z"
   },
   {
    "duration": 206,
    "start_time": "2022-05-31T10:53:59.970Z"
   },
   {
    "duration": 84,
    "start_time": "2022-05-31T10:54:00.178Z"
   },
   {
    "duration": 17,
    "start_time": "2022-05-31T10:54:00.264Z"
   },
   {
    "duration": 41,
    "start_time": "2022-05-31T10:54:00.283Z"
   },
   {
    "duration": 23,
    "start_time": "2022-05-31T10:54:00.326Z"
   },
   {
    "duration": 40,
    "start_time": "2022-05-31T10:54:00.351Z"
   },
   {
    "duration": 3139,
    "start_time": "2022-05-31T10:54:00.393Z"
   },
   {
    "duration": 732,
    "start_time": "2022-05-31T10:54:03.534Z"
   },
   {
    "duration": 100,
    "start_time": "2022-05-31T10:54:04.269Z"
   },
   {
    "duration": 102,
    "start_time": "2022-05-31T10:54:04.371Z"
   },
   {
    "duration": 3,
    "start_time": "2022-05-31T10:54:04.566Z"
   },
   {
    "duration": 57,
    "start_time": "2022-05-31T10:54:04.571Z"
   },
   {
    "duration": 125,
    "start_time": "2022-05-31T10:54:04.630Z"
   },
   {
    "duration": 11,
    "start_time": "2022-05-31T10:54:04.757Z"
   },
   {
    "duration": 4,
    "start_time": "2022-05-31T13:21:13.628Z"
   },
   {
    "duration": 31,
    "start_time": "2022-05-31T13:21:13.634Z"
   },
   {
    "duration": 17,
    "start_time": "2022-05-31T13:21:13.667Z"
   },
   {
    "duration": 19,
    "start_time": "2022-05-31T13:21:13.686Z"
   },
   {
    "duration": 0,
    "start_time": "2022-05-31T13:24:52.567Z"
   },
   {
    "duration": 0,
    "start_time": "2022-05-31T13:24:52.569Z"
   },
   {
    "duration": 0,
    "start_time": "2022-05-31T13:24:52.570Z"
   },
   {
    "duration": 0,
    "start_time": "2022-05-31T13:24:52.572Z"
   },
   {
    "duration": 0,
    "start_time": "2022-05-31T13:24:52.574Z"
   },
   {
    "duration": 0,
    "start_time": "2022-05-31T13:24:52.575Z"
   },
   {
    "duration": 0,
    "start_time": "2022-05-31T13:24:52.576Z"
   },
   {
    "duration": 0,
    "start_time": "2022-05-31T13:24:52.578Z"
   },
   {
    "duration": 0,
    "start_time": "2022-05-31T13:24:52.582Z"
   },
   {
    "duration": 0,
    "start_time": "2022-05-31T13:24:52.584Z"
   },
   {
    "duration": 0,
    "start_time": "2022-05-31T13:24:52.585Z"
   },
   {
    "duration": 0,
    "start_time": "2022-05-31T13:24:52.586Z"
   },
   {
    "duration": 0,
    "start_time": "2022-05-31T13:24:52.588Z"
   },
   {
    "duration": 0,
    "start_time": "2022-05-31T13:24:52.589Z"
   },
   {
    "duration": 0,
    "start_time": "2022-05-31T13:24:52.664Z"
   },
   {
    "duration": 0,
    "start_time": "2022-05-31T13:24:52.666Z"
   },
   {
    "duration": 0,
    "start_time": "2022-05-31T13:24:52.667Z"
   },
   {
    "duration": 0,
    "start_time": "2022-05-31T13:24:52.669Z"
   },
   {
    "duration": 0,
    "start_time": "2022-05-31T13:24:52.671Z"
   },
   {
    "duration": 0,
    "start_time": "2022-05-31T13:24:52.672Z"
   },
   {
    "duration": 0,
    "start_time": "2022-05-31T13:24:52.674Z"
   },
   {
    "duration": 0,
    "start_time": "2022-05-31T13:24:52.675Z"
   },
   {
    "duration": 0,
    "start_time": "2022-05-31T13:24:52.676Z"
   },
   {
    "duration": 0,
    "start_time": "2022-05-31T13:24:52.677Z"
   },
   {
    "duration": 0,
    "start_time": "2022-05-31T13:24:52.678Z"
   },
   {
    "duration": 0,
    "start_time": "2022-05-31T13:24:52.679Z"
   },
   {
    "duration": 0,
    "start_time": "2022-05-31T13:24:52.680Z"
   },
   {
    "duration": 0,
    "start_time": "2022-05-31T13:24:52.681Z"
   },
   {
    "duration": 0,
    "start_time": "2022-05-31T13:24:52.683Z"
   },
   {
    "duration": 0,
    "start_time": "2022-05-31T13:24:52.684Z"
   },
   {
    "duration": 4,
    "start_time": "2022-05-31T13:25:27.636Z"
   },
   {
    "duration": 24,
    "start_time": "2022-05-31T13:25:27.644Z"
   },
   {
    "duration": 10,
    "start_time": "2022-05-31T13:25:27.670Z"
   },
   {
    "duration": 11,
    "start_time": "2022-05-31T13:25:27.682Z"
   },
   {
    "duration": 12,
    "start_time": "2022-05-31T13:25:27.695Z"
   },
   {
    "duration": 14,
    "start_time": "2022-05-31T13:25:27.764Z"
   },
   {
    "duration": 10,
    "start_time": "2022-05-31T13:25:27.780Z"
   },
   {
    "duration": 14,
    "start_time": "2022-05-31T13:25:27.792Z"
   },
   {
    "duration": 4,
    "start_time": "2022-05-31T13:25:28.451Z"
   },
   {
    "duration": 10,
    "start_time": "2022-05-31T13:25:28.457Z"
   },
   {
    "duration": 200124,
    "start_time": "2022-05-31T13:25:28.468Z"
   },
   {
    "duration": 5,
    "start_time": "2022-05-31T13:28:48.594Z"
   },
   {
    "duration": 7376,
    "start_time": "2022-05-31T13:28:48.601Z"
   },
   {
    "duration": 587,
    "start_time": "2022-05-31T13:28:55.979Z"
   },
   {
    "duration": 99,
    "start_time": "2022-05-31T13:28:56.574Z"
   },
   {
    "duration": 99,
    "start_time": "2022-05-31T13:28:56.676Z"
   },
   {
    "duration": 7,
    "start_time": "2022-05-31T13:28:56.867Z"
   },
   {
    "duration": 899,
    "start_time": "2022-05-31T13:28:56.875Z"
   },
   {
    "duration": 6,
    "start_time": "2022-05-31T13:28:57.776Z"
   },
   {
    "duration": 8,
    "start_time": "2022-05-31T13:28:57.783Z"
   },
   {
    "duration": 8,
    "start_time": "2022-05-31T13:28:57.792Z"
   },
   {
    "duration": 70,
    "start_time": "2022-05-31T13:28:57.803Z"
   },
   {
    "duration": 6403,
    "start_time": "2022-05-31T13:28:57.875Z"
   },
   {
    "duration": 590,
    "start_time": "2022-05-31T13:29:04.279Z"
   },
   {
    "duration": 99,
    "start_time": "2022-05-31T13:29:04.871Z"
   },
   {
    "duration": 106,
    "start_time": "2022-05-31T13:29:04.972Z"
   },
   {
    "duration": 185,
    "start_time": "2022-05-31T13:29:05.080Z"
   },
   {
    "duration": 746,
    "start_time": "2022-05-31T13:29:05.267Z"
   },
   {
    "duration": 1614,
    "start_time": "2022-05-31T13:29:06.065Z"
   },
   {
    "duration": 4,
    "start_time": "2022-05-31T13:29:07.681Z"
   },
   {
    "duration": 4,
    "start_time": "2022-05-31T14:34:30.444Z"
   },
   {
    "duration": 25,
    "start_time": "2022-05-31T14:34:30.465Z"
   },
   {
    "duration": 27,
    "start_time": "2022-05-31T14:34:30.493Z"
   },
   {
    "duration": 43,
    "start_time": "2022-05-31T14:34:30.523Z"
   },
   {
    "duration": 5,
    "start_time": "2022-05-31T14:34:30.670Z"
   },
   {
    "duration": 25,
    "start_time": "2022-05-31T14:34:30.688Z"
   },
   {
    "duration": 72,
    "start_time": "2022-05-31T14:34:30.716Z"
   },
   {
    "duration": 33,
    "start_time": "2022-05-31T14:34:30.791Z"
   },
   {
    "duration": 4,
    "start_time": "2022-05-31T14:34:32.069Z"
   },
   {
    "duration": 34,
    "start_time": "2022-05-31T14:34:32.075Z"
   },
   {
    "duration": 8,
    "start_time": "2022-05-31T16:57:38.056Z"
   },
   {
    "duration": 3,
    "start_time": "2022-05-31T16:57:39.356Z"
   },
   {
    "duration": 1472,
    "start_time": "2022-05-31T16:57:48.024Z"
   },
   {
    "duration": 1747,
    "start_time": "2022-05-31T16:57:49.498Z"
   },
   {
    "duration": 19,
    "start_time": "2022-05-31T16:57:51.246Z"
   },
   {
    "duration": 842,
    "start_time": "2022-05-31T16:57:51.267Z"
   },
   {
    "duration": 17,
    "start_time": "2022-05-31T16:57:52.111Z"
   },
   {
    "duration": 345,
    "start_time": "2022-05-31T16:57:52.129Z"
   },
   {
    "duration": 13,
    "start_time": "2022-05-31T16:57:52.476Z"
   },
   {
    "duration": 7,
    "start_time": "2022-05-31T16:57:52.490Z"
   },
   {
    "duration": 7,
    "start_time": "2022-05-31T16:57:52.498Z"
   },
   {
    "duration": 4,
    "start_time": "2022-05-31T16:57:52.508Z"
   },
   {
    "duration": 6,
    "start_time": "2022-05-31T16:57:52.513Z"
   },
   {
    "duration": 8,
    "start_time": "2022-05-31T16:57:52.520Z"
   },
   {
    "duration": 11,
    "start_time": "2022-05-31T16:57:52.530Z"
   },
   {
    "duration": 18,
    "start_time": "2022-05-31T16:57:52.543Z"
   },
   {
    "duration": 6,
    "start_time": "2022-05-31T16:57:52.563Z"
   },
   {
    "duration": 44,
    "start_time": "2022-05-31T16:57:52.571Z"
   },
   {
    "duration": 6,
    "start_time": "2022-05-31T16:57:52.617Z"
   },
   {
    "duration": 19,
    "start_time": "2022-05-31T16:57:52.625Z"
   },
   {
    "duration": 276,
    "start_time": "2022-05-31T16:57:52.646Z"
   },
   {
    "duration": 250,
    "start_time": "2022-05-31T16:57:52.924Z"
   },
   {
    "duration": 257,
    "start_time": "2022-05-31T16:57:53.176Z"
   },
   {
    "duration": 9,
    "start_time": "2022-05-31T16:57:53.435Z"
   },
   {
    "duration": 439,
    "start_time": "2022-05-31T16:57:53.445Z"
   },
   {
    "duration": 17,
    "start_time": "2022-05-31T16:57:53.885Z"
   },
   {
    "duration": 377,
    "start_time": "2022-05-31T16:57:53.904Z"
   },
   {
    "duration": 3,
    "start_time": "2022-05-31T16:57:54.283Z"
   },
   {
    "duration": 13,
    "start_time": "2022-05-31T16:57:54.287Z"
   },
   {
    "duration": 8,
    "start_time": "2022-05-31T16:57:54.304Z"
   },
   {
    "duration": 7,
    "start_time": "2022-05-31T16:57:54.313Z"
   },
   {
    "duration": 14,
    "start_time": "2022-05-31T16:57:54.321Z"
   },
   {
    "duration": 13,
    "start_time": "2022-05-31T16:57:54.337Z"
   },
   {
    "duration": 27,
    "start_time": "2022-05-31T16:57:54.352Z"
   },
   {
    "duration": 733,
    "start_time": "2022-05-31T16:57:54.380Z"
   },
   {
    "duration": 4,
    "start_time": "2022-05-31T16:57:55.114Z"
   },
   {
    "duration": 35,
    "start_time": "2022-05-31T16:57:55.120Z"
   },
   {
    "duration": 42,
    "start_time": "2022-05-31T16:57:55.157Z"
   },
   {
    "duration": 5,
    "start_time": "2022-05-31T16:57:55.201Z"
   },
   {
    "duration": 28,
    "start_time": "2022-05-31T16:57:55.208Z"
   },
   {
    "duration": 6,
    "start_time": "2022-05-31T16:57:55.238Z"
   },
   {
    "duration": 40,
    "start_time": "2022-05-31T16:57:55.246Z"
   },
   {
    "duration": 11,
    "start_time": "2022-05-31T16:57:55.288Z"
   },
   {
    "duration": 13,
    "start_time": "2022-05-31T16:57:55.301Z"
   },
   {
    "duration": 17,
    "start_time": "2022-05-31T16:57:55.315Z"
   },
   {
    "duration": 14,
    "start_time": "2022-05-31T16:57:55.334Z"
   },
   {
    "duration": 25,
    "start_time": "2022-05-31T16:57:55.350Z"
   },
   {
    "duration": 33,
    "start_time": "2022-05-31T16:57:55.377Z"
   },
   {
    "duration": 3,
    "start_time": "2022-05-31T16:57:55.411Z"
   },
   {
    "duration": 24,
    "start_time": "2022-05-31T16:57:55.416Z"
   },
   {
    "duration": 12,
    "start_time": "2022-05-31T16:57:55.441Z"
   },
   {
    "duration": 10,
    "start_time": "2022-05-31T16:57:55.455Z"
   },
   {
    "duration": 71528,
    "start_time": "2022-05-31T16:57:55.467Z"
   },
   {
    "duration": 0,
    "start_time": "2022-05-31T16:59:06.997Z"
   },
   {
    "duration": 0,
    "start_time": "2022-05-31T16:59:06.998Z"
   },
   {
    "duration": 0,
    "start_time": "2022-05-31T16:59:06.999Z"
   },
   {
    "duration": 0,
    "start_time": "2022-05-31T16:59:07.000Z"
   },
   {
    "duration": 0,
    "start_time": "2022-05-31T16:59:07.001Z"
   },
   {
    "duration": 0,
    "start_time": "2022-05-31T16:59:07.002Z"
   },
   {
    "duration": 0,
    "start_time": "2022-05-31T16:59:07.003Z"
   },
   {
    "duration": 0,
    "start_time": "2022-05-31T16:59:07.003Z"
   },
   {
    "duration": 0,
    "start_time": "2022-05-31T16:59:07.005Z"
   },
   {
    "duration": 0,
    "start_time": "2022-05-31T16:59:07.006Z"
   },
   {
    "duration": 0,
    "start_time": "2022-05-31T16:59:07.006Z"
   },
   {
    "duration": 0,
    "start_time": "2022-05-31T16:59:07.007Z"
   },
   {
    "duration": 0,
    "start_time": "2022-05-31T16:59:07.008Z"
   },
   {
    "duration": 0,
    "start_time": "2022-05-31T16:59:07.009Z"
   },
   {
    "duration": 0,
    "start_time": "2022-05-31T16:59:07.010Z"
   },
   {
    "duration": 0,
    "start_time": "2022-05-31T16:59:07.011Z"
   },
   {
    "duration": 0,
    "start_time": "2022-05-31T16:59:07.012Z"
   },
   {
    "duration": 0,
    "start_time": "2022-05-31T16:59:07.014Z"
   },
   {
    "duration": 0,
    "start_time": "2022-05-31T16:59:07.014Z"
   },
   {
    "duration": 0,
    "start_time": "2022-05-31T16:59:07.015Z"
   },
   {
    "duration": 3,
    "start_time": "2022-05-31T16:59:11.726Z"
   },
   {
    "duration": 3,
    "start_time": "2022-05-31T16:59:13.240Z"
   },
   {
    "duration": 3,
    "start_time": "2022-05-31T16:59:14.301Z"
   },
   {
    "duration": 2,
    "start_time": "2022-05-31T16:59:15.091Z"
   },
   {
    "duration": 1332,
    "start_time": "2022-05-31T17:00:56.065Z"
   },
   {
    "duration": 361,
    "start_time": "2022-05-31T17:00:57.400Z"
   },
   {
    "duration": 18,
    "start_time": "2022-05-31T17:00:57.763Z"
   },
   {
    "duration": 260,
    "start_time": "2022-05-31T17:00:57.783Z"
   },
   {
    "duration": 16,
    "start_time": "2022-05-31T17:00:58.044Z"
   },
   {
    "duration": 86,
    "start_time": "2022-05-31T17:00:58.061Z"
   },
   {
    "duration": 14,
    "start_time": "2022-05-31T17:00:58.149Z"
   },
   {
    "duration": 7,
    "start_time": "2022-05-31T17:00:58.165Z"
   },
   {
    "duration": 29,
    "start_time": "2022-05-31T17:00:58.173Z"
   },
   {
    "duration": 4,
    "start_time": "2022-05-31T17:00:58.205Z"
   },
   {
    "duration": 6,
    "start_time": "2022-05-31T17:00:58.211Z"
   },
   {
    "duration": 6,
    "start_time": "2022-05-31T17:00:58.219Z"
   },
   {
    "duration": 16,
    "start_time": "2022-05-31T17:00:58.227Z"
   },
   {
    "duration": 19,
    "start_time": "2022-05-31T17:00:58.245Z"
   },
   {
    "duration": 36,
    "start_time": "2022-05-31T17:00:58.266Z"
   },
   {
    "duration": 20,
    "start_time": "2022-05-31T17:00:58.304Z"
   },
   {
    "duration": 4,
    "start_time": "2022-05-31T17:00:58.326Z"
   },
   {
    "duration": 16,
    "start_time": "2022-05-31T17:00:58.332Z"
   },
   {
    "duration": 269,
    "start_time": "2022-05-31T17:00:58.349Z"
   },
   {
    "duration": 264,
    "start_time": "2022-05-31T17:00:58.619Z"
   },
   {
    "duration": 256,
    "start_time": "2022-05-31T17:00:58.884Z"
   },
   {
    "duration": 9,
    "start_time": "2022-05-31T17:00:59.141Z"
   },
   {
    "duration": 400,
    "start_time": "2022-05-31T17:00:59.151Z"
   },
   {
    "duration": 9,
    "start_time": "2022-05-31T17:00:59.553Z"
   },
   {
    "duration": 410,
    "start_time": "2022-05-31T17:00:59.563Z"
   },
   {
    "duration": 3,
    "start_time": "2022-05-31T17:00:59.974Z"
   },
   {
    "duration": 14,
    "start_time": "2022-05-31T17:00:59.979Z"
   },
   {
    "duration": 9,
    "start_time": "2022-05-31T17:00:59.998Z"
   },
   {
    "duration": 21,
    "start_time": "2022-05-31T17:01:00.008Z"
   },
   {
    "duration": 35,
    "start_time": "2022-05-31T17:01:00.031Z"
   },
   {
    "duration": 17,
    "start_time": "2022-05-31T17:01:00.068Z"
   },
   {
    "duration": 49,
    "start_time": "2022-05-31T17:01:00.087Z"
   },
   {
    "duration": 788,
    "start_time": "2022-05-31T17:01:00.138Z"
   },
   {
    "duration": 5,
    "start_time": "2022-05-31T17:01:00.928Z"
   },
   {
    "duration": 58,
    "start_time": "2022-05-31T17:01:00.935Z"
   },
   {
    "duration": 29,
    "start_time": "2022-05-31T17:01:00.995Z"
   },
   {
    "duration": 7,
    "start_time": "2022-05-31T17:01:01.026Z"
   },
   {
    "duration": 63,
    "start_time": "2022-05-31T17:01:01.035Z"
   },
   {
    "duration": 34,
    "start_time": "2022-05-31T17:01:01.100Z"
   },
   {
    "duration": 116,
    "start_time": "2022-05-31T17:01:01.136Z"
   },
   {
    "duration": 20,
    "start_time": "2022-05-31T17:01:01.254Z"
   },
   {
    "duration": 24,
    "start_time": "2022-05-31T17:01:01.276Z"
   },
   {
    "duration": 22,
    "start_time": "2022-05-31T17:01:01.302Z"
   },
   {
    "duration": 18,
    "start_time": "2022-05-31T17:01:01.325Z"
   },
   {
    "duration": 29,
    "start_time": "2022-05-31T17:01:01.344Z"
   },
   {
    "duration": 26,
    "start_time": "2022-05-31T17:01:01.375Z"
   },
   {
    "duration": 23,
    "start_time": "2022-05-31T17:01:01.402Z"
   },
   {
    "duration": 17,
    "start_time": "2022-05-31T17:01:01.426Z"
   },
   {
    "duration": 11,
    "start_time": "2022-05-31T17:01:01.445Z"
   },
   {
    "duration": 19,
    "start_time": "2022-05-31T17:01:01.458Z"
   },
   {
    "duration": 95938,
    "start_time": "2022-05-31T17:01:01.479Z"
   },
   {
    "duration": 4,
    "start_time": "2022-05-31T17:02:37.419Z"
   },
   {
    "duration": 3407,
    "start_time": "2022-05-31T17:02:37.424Z"
   },
   {
    "duration": 967,
    "start_time": "2022-05-31T17:02:40.833Z"
   },
   {
    "duration": 17,
    "start_time": "2022-05-31T17:02:41.802Z"
   },
   {
    "duration": 193,
    "start_time": "2022-05-31T17:02:41.821Z"
   },
   {
    "duration": 85,
    "start_time": "2022-05-31T17:02:42.016Z"
   },
   {
    "duration": 488,
    "start_time": "2022-05-31T17:02:42.103Z"
   },
   {
    "duration": 6,
    "start_time": "2022-05-31T17:02:42.593Z"
   },
   {
    "duration": 7,
    "start_time": "2022-05-31T17:02:42.601Z"
   },
   {
    "duration": 8,
    "start_time": "2022-05-31T17:02:42.610Z"
   },
   {
    "duration": 33,
    "start_time": "2022-05-31T17:02:42.620Z"
   },
   {
    "duration": 3061,
    "start_time": "2022-05-31T17:02:42.655Z"
   },
   {
    "duration": 585,
    "start_time": "2022-05-31T17:02:45.718Z"
   },
   {
    "duration": 105,
    "start_time": "2022-05-31T17:02:46.305Z"
   },
   {
    "duration": 188,
    "start_time": "2022-05-31T17:02:46.412Z"
   },
   {
    "duration": 98,
    "start_time": "2022-05-31T17:02:46.602Z"
   },
   {
    "duration": 390,
    "start_time": "2022-05-31T17:02:46.702Z"
   },
   {
    "duration": 755,
    "start_time": "2022-05-31T17:02:47.093Z"
   },
   {
    "duration": 3,
    "start_time": "2022-05-31T17:02:47.850Z"
   },
   {
    "duration": 4,
    "start_time": "2022-05-31T17:09:40.631Z"
   },
   {
    "duration": 6,
    "start_time": "2022-05-31T17:39:39.423Z"
   },
   {
    "duration": 114,
    "start_time": "2022-05-31T17:40:15.144Z"
   },
   {
    "duration": 3,
    "start_time": "2022-05-31T17:40:54.683Z"
   },
   {
    "duration": 10,
    "start_time": "2022-05-31T17:40:55.615Z"
   },
   {
    "duration": 3,
    "start_time": "2022-05-31T17:41:14.378Z"
   },
   {
    "duration": 10,
    "start_time": "2022-05-31T17:41:15.089Z"
   },
   {
    "duration": 10,
    "start_time": "2022-05-31T17:41:22.619Z"
   },
   {
    "duration": 6,
    "start_time": "2022-05-31T17:42:46.081Z"
   },
   {
    "duration": 9,
    "start_time": "2022-05-31T17:42:48.139Z"
   },
   {
    "duration": 11,
    "start_time": "2022-05-31T17:43:03.243Z"
   },
   {
    "duration": 2,
    "start_time": "2022-05-31T17:44:58.503Z"
   },
   {
    "duration": 14,
    "start_time": "2022-05-31T17:45:01.253Z"
   },
   {
    "duration": 7,
    "start_time": "2022-05-31T17:45:03.094Z"
   },
   {
    "duration": 10,
    "start_time": "2022-05-31T17:45:06.738Z"
   },
   {
    "duration": 3,
    "start_time": "2022-05-31T17:45:27.176Z"
   },
   {
    "duration": 3,
    "start_time": "2022-05-31T17:45:27.902Z"
   },
   {
    "duration": 9,
    "start_time": "2022-05-31T17:45:28.642Z"
   },
   {
    "duration": 4,
    "start_time": "2022-05-31T17:45:47.102Z"
   },
   {
    "duration": 4,
    "start_time": "2022-05-31T17:46:06.683Z"
   },
   {
    "duration": 10,
    "start_time": "2022-05-31T17:46:09.805Z"
   },
   {
    "duration": 13,
    "start_time": "2022-05-31T17:46:35.995Z"
   },
   {
    "duration": 3,
    "start_time": "2022-05-31T17:46:55.304Z"
   },
   {
    "duration": 4,
    "start_time": "2022-05-31T17:47:00.345Z"
   },
   {
    "duration": 11,
    "start_time": "2022-05-31T17:47:02.773Z"
   },
   {
    "duration": 3,
    "start_time": "2022-05-31T17:50:30.515Z"
   },
   {
    "duration": 3,
    "start_time": "2022-05-31T17:50:30.979Z"
   },
   {
    "duration": 10,
    "start_time": "2022-05-31T17:50:45.131Z"
   },
   {
    "duration": 3,
    "start_time": "2022-05-31T17:51:04.925Z"
   },
   {
    "duration": 3,
    "start_time": "2022-05-31T17:51:17.648Z"
   },
   {
    "duration": 12,
    "start_time": "2022-05-31T17:51:18.744Z"
   },
   {
    "duration": 2,
    "start_time": "2022-05-31T17:56:04.929Z"
   },
   {
    "duration": 4,
    "start_time": "2022-05-31T17:56:10.403Z"
   },
   {
    "duration": 10,
    "start_time": "2022-05-31T17:56:12.908Z"
   },
   {
    "duration": 10,
    "start_time": "2022-05-31T17:57:03.705Z"
   },
   {
    "duration": 6,
    "start_time": "2022-05-31T17:57:08.630Z"
   },
   {
    "duration": 9,
    "start_time": "2022-05-31T17:57:09.319Z"
   },
   {
    "duration": 3,
    "start_time": "2022-05-31T17:57:24.941Z"
   },
   {
    "duration": 11,
    "start_time": "2022-05-31T17:57:38.933Z"
   },
   {
    "duration": 3,
    "start_time": "2022-05-31T17:59:23.155Z"
   },
   {
    "duration": 8,
    "start_time": "2022-05-31T17:59:36.467Z"
   },
   {
    "duration": 9,
    "start_time": "2022-05-31T18:01:27.605Z"
   },
   {
    "duration": 16,
    "start_time": "2022-05-31T18:01:33.443Z"
   },
   {
    "duration": 7,
    "start_time": "2022-05-31T18:01:59.600Z"
   },
   {
    "duration": 5,
    "start_time": "2022-05-31T18:02:28.249Z"
   },
   {
    "duration": 450,
    "start_time": "2022-05-31T18:02:43.436Z"
   },
   {
    "duration": 4,
    "start_time": "2022-05-31T18:04:48.365Z"
   },
   {
    "duration": 44,
    "start_time": "2022-05-31T18:07:23.183Z"
   },
   {
    "duration": 16,
    "start_time": "2022-05-31T18:07:30.634Z"
   },
   {
    "duration": 444,
    "start_time": "2022-05-31T18:07:51.959Z"
   },
   {
    "duration": 1446,
    "start_time": "2022-05-31T18:08:10.693Z"
   },
   {
    "duration": 382,
    "start_time": "2022-05-31T18:08:12.141Z"
   },
   {
    "duration": 21,
    "start_time": "2022-05-31T18:08:12.525Z"
   },
   {
    "duration": 285,
    "start_time": "2022-05-31T18:08:12.549Z"
   },
   {
    "duration": 16,
    "start_time": "2022-05-31T18:08:12.836Z"
   },
   {
    "duration": 87,
    "start_time": "2022-05-31T18:08:12.854Z"
   },
   {
    "duration": 13,
    "start_time": "2022-05-31T18:08:12.942Z"
   },
   {
    "duration": 6,
    "start_time": "2022-05-31T18:08:12.956Z"
   },
   {
    "duration": 13,
    "start_time": "2022-05-31T18:08:12.964Z"
   },
   {
    "duration": 20,
    "start_time": "2022-05-31T18:08:12.980Z"
   },
   {
    "duration": 10,
    "start_time": "2022-05-31T18:08:13.002Z"
   },
   {
    "duration": 11,
    "start_time": "2022-05-31T18:08:13.013Z"
   },
   {
    "duration": 13,
    "start_time": "2022-05-31T18:08:13.025Z"
   },
   {
    "duration": 27,
    "start_time": "2022-05-31T18:08:13.040Z"
   },
   {
    "duration": 7,
    "start_time": "2022-05-31T18:08:13.069Z"
   },
   {
    "duration": 38,
    "start_time": "2022-05-31T18:08:13.078Z"
   },
   {
    "duration": 5,
    "start_time": "2022-05-31T18:08:13.119Z"
   },
   {
    "duration": 26,
    "start_time": "2022-05-31T18:08:13.126Z"
   },
   {
    "duration": 269,
    "start_time": "2022-05-31T18:08:13.154Z"
   },
   {
    "duration": 249,
    "start_time": "2022-05-31T18:08:13.425Z"
   },
   {
    "duration": 261,
    "start_time": "2022-05-31T18:08:13.675Z"
   },
   {
    "duration": 10,
    "start_time": "2022-05-31T18:08:13.938Z"
   },
   {
    "duration": 414,
    "start_time": "2022-05-31T18:08:13.949Z"
   },
   {
    "duration": 9,
    "start_time": "2022-05-31T18:08:14.365Z"
   },
   {
    "duration": 403,
    "start_time": "2022-05-31T18:08:14.375Z"
   },
   {
    "duration": 3,
    "start_time": "2022-05-31T18:08:14.780Z"
   },
   {
    "duration": 14,
    "start_time": "2022-05-31T18:08:14.785Z"
   },
   {
    "duration": 12,
    "start_time": "2022-05-31T18:08:14.803Z"
   },
   {
    "duration": 8,
    "start_time": "2022-05-31T18:08:14.817Z"
   },
   {
    "duration": 14,
    "start_time": "2022-05-31T18:08:14.826Z"
   },
   {
    "duration": 7,
    "start_time": "2022-05-31T18:08:14.842Z"
   },
   {
    "duration": 27,
    "start_time": "2022-05-31T18:08:14.850Z"
   },
   {
    "duration": 742,
    "start_time": "2022-05-31T18:08:14.879Z"
   },
   {
    "duration": 6,
    "start_time": "2022-05-31T18:08:15.623Z"
   },
   {
    "duration": 42,
    "start_time": "2022-05-31T18:08:15.631Z"
   },
   {
    "duration": 39,
    "start_time": "2022-05-31T18:08:15.674Z"
   },
   {
    "duration": 5,
    "start_time": "2022-05-31T18:08:15.715Z"
   },
   {
    "duration": 44,
    "start_time": "2022-05-31T18:08:15.721Z"
   },
   {
    "duration": 6,
    "start_time": "2022-05-31T18:08:15.767Z"
   },
   {
    "duration": 29,
    "start_time": "2022-05-31T18:08:15.774Z"
   },
   {
    "duration": 3,
    "start_time": "2022-05-31T18:08:15.805Z"
   },
   {
    "duration": 18,
    "start_time": "2022-05-31T18:08:15.810Z"
   },
   {
    "duration": 19,
    "start_time": "2022-05-31T18:08:15.830Z"
   },
   {
    "duration": 8,
    "start_time": "2022-05-31T18:08:15.851Z"
   },
   {
    "duration": 11,
    "start_time": "2022-05-31T18:08:15.861Z"
   },
   {
    "duration": 27,
    "start_time": "2022-05-31T18:08:15.873Z"
   },
   {
    "duration": 2,
    "start_time": "2022-05-31T18:08:15.902Z"
   },
   {
    "duration": 10,
    "start_time": "2022-05-31T18:08:15.906Z"
   },
   {
    "duration": 10,
    "start_time": "2022-05-31T18:08:15.918Z"
   },
   {
    "duration": 7,
    "start_time": "2022-05-31T18:08:15.930Z"
   },
   {
    "duration": 94839,
    "start_time": "2022-05-31T18:08:15.938Z"
   },
   {
    "duration": 4,
    "start_time": "2022-05-31T18:09:50.778Z"
   },
   {
    "duration": 16,
    "start_time": "2022-05-31T18:09:50.784Z"
   },
   {
    "duration": 10,
    "start_time": "2022-05-31T18:09:50.802Z"
   },
   {
    "duration": 17,
    "start_time": "2022-05-31T18:09:50.813Z"
   },
   {
    "duration": 74,
    "start_time": "2022-05-31T18:09:50.832Z"
   },
   {
    "duration": 194,
    "start_time": "2022-05-31T18:09:50.908Z"
   },
   {
    "duration": 5,
    "start_time": "2022-05-31T18:09:51.103Z"
   },
   {
    "duration": 139,
    "start_time": "2022-05-31T18:09:51.109Z"
   },
   {
    "duration": 0,
    "start_time": "2022-05-31T18:09:51.250Z"
   },
   {
    "duration": 0,
    "start_time": "2022-05-31T18:09:51.251Z"
   },
   {
    "duration": 0,
    "start_time": "2022-05-31T18:09:51.252Z"
   },
   {
    "duration": 0,
    "start_time": "2022-05-31T18:09:51.253Z"
   },
   {
    "duration": 0,
    "start_time": "2022-05-31T18:09:51.255Z"
   },
   {
    "duration": 0,
    "start_time": "2022-05-31T18:09:51.256Z"
   },
   {
    "duration": 0,
    "start_time": "2022-05-31T18:09:51.257Z"
   },
   {
    "duration": 2455,
    "start_time": "2022-05-31T18:10:54.262Z"
   },
   {
    "duration": 24,
    "start_time": "2022-05-31T18:11:01.858Z"
   },
   {
    "duration": 1376,
    "start_time": "2022-05-31T18:12:44.712Z"
   },
   {
    "duration": 382,
    "start_time": "2022-05-31T18:12:46.090Z"
   },
   {
    "duration": 26,
    "start_time": "2022-05-31T18:12:46.474Z"
   },
   {
    "duration": 269,
    "start_time": "2022-05-31T18:12:46.502Z"
   },
   {
    "duration": 17,
    "start_time": "2022-05-31T18:12:46.773Z"
   },
   {
    "duration": 85,
    "start_time": "2022-05-31T18:12:46.791Z"
   },
   {
    "duration": 13,
    "start_time": "2022-05-31T18:12:46.878Z"
   },
   {
    "duration": 6,
    "start_time": "2022-05-31T18:12:46.899Z"
   },
   {
    "duration": 16,
    "start_time": "2022-05-31T18:12:46.906Z"
   },
   {
    "duration": 3,
    "start_time": "2022-05-31T18:12:46.925Z"
   },
   {
    "duration": 7,
    "start_time": "2022-05-31T18:12:46.930Z"
   },
   {
    "duration": 15,
    "start_time": "2022-05-31T18:12:46.938Z"
   },
   {
    "duration": 13,
    "start_time": "2022-05-31T18:12:46.955Z"
   },
   {
    "duration": 31,
    "start_time": "2022-05-31T18:12:46.970Z"
   },
   {
    "duration": 6,
    "start_time": "2022-05-31T18:12:47.002Z"
   },
   {
    "duration": 31,
    "start_time": "2022-05-31T18:12:47.010Z"
   },
   {
    "duration": 5,
    "start_time": "2022-05-31T18:12:47.043Z"
   },
   {
    "duration": 20,
    "start_time": "2022-05-31T18:12:47.051Z"
   },
   {
    "duration": 274,
    "start_time": "2022-05-31T18:12:47.074Z"
   },
   {
    "duration": 276,
    "start_time": "2022-05-31T18:12:47.351Z"
   },
   {
    "duration": 271,
    "start_time": "2022-05-31T18:12:47.630Z"
   },
   {
    "duration": 9,
    "start_time": "2022-05-31T18:12:47.903Z"
   },
   {
    "duration": 374,
    "start_time": "2022-05-31T18:12:47.914Z"
   },
   {
    "duration": 13,
    "start_time": "2022-05-31T18:12:48.290Z"
   },
   {
    "duration": 376,
    "start_time": "2022-05-31T18:12:48.305Z"
   },
   {
    "duration": 3,
    "start_time": "2022-05-31T18:12:48.683Z"
   },
   {
    "duration": 16,
    "start_time": "2022-05-31T18:12:48.688Z"
   },
   {
    "duration": 7,
    "start_time": "2022-05-31T18:12:48.708Z"
   },
   {
    "duration": 5,
    "start_time": "2022-05-31T18:12:48.717Z"
   },
   {
    "duration": 7,
    "start_time": "2022-05-31T18:12:48.724Z"
   },
   {
    "duration": 13,
    "start_time": "2022-05-31T18:12:48.732Z"
   },
   {
    "duration": 32,
    "start_time": "2022-05-31T18:12:48.746Z"
   },
   {
    "duration": 824,
    "start_time": "2022-05-31T18:12:48.780Z"
   },
   {
    "duration": 5,
    "start_time": "2022-05-31T18:12:49.606Z"
   },
   {
    "duration": 32,
    "start_time": "2022-05-31T18:12:49.613Z"
   },
   {
    "duration": 30,
    "start_time": "2022-05-31T18:12:49.647Z"
   },
   {
    "duration": 7,
    "start_time": "2022-05-31T18:12:49.699Z"
   },
   {
    "duration": 29,
    "start_time": "2022-05-31T18:12:49.708Z"
   },
   {
    "duration": 7,
    "start_time": "2022-05-31T18:12:49.740Z"
   },
   {
    "duration": 35,
    "start_time": "2022-05-31T18:12:49.748Z"
   },
   {
    "duration": 18,
    "start_time": "2022-05-31T18:12:49.785Z"
   },
   {
    "duration": 16,
    "start_time": "2022-05-31T18:12:49.805Z"
   },
   {
    "duration": 13,
    "start_time": "2022-05-31T18:12:49.823Z"
   },
   {
    "duration": 13,
    "start_time": "2022-05-31T18:12:49.838Z"
   },
   {
    "duration": 9,
    "start_time": "2022-05-31T18:12:49.853Z"
   },
   {
    "duration": 27,
    "start_time": "2022-05-31T18:12:49.863Z"
   },
   {
    "duration": 3,
    "start_time": "2022-05-31T18:12:49.892Z"
   },
   {
    "duration": 11,
    "start_time": "2022-05-31T18:12:49.896Z"
   },
   {
    "duration": 21,
    "start_time": "2022-05-31T18:12:49.909Z"
   },
   {
    "duration": 8,
    "start_time": "2022-05-31T18:12:49.932Z"
   },
   {
    "duration": 104801,
    "start_time": "2022-05-31T18:12:49.941Z"
   },
   {
    "duration": 4,
    "start_time": "2022-05-31T18:14:34.743Z"
   },
   {
    "duration": 6,
    "start_time": "2022-05-31T18:14:34.749Z"
   },
   {
    "duration": 6,
    "start_time": "2022-05-31T18:14:34.757Z"
   },
   {
    "duration": 40,
    "start_time": "2022-05-31T18:14:34.764Z"
   },
   {
    "duration": 99,
    "start_time": "2022-05-31T18:14:34.807Z"
   },
   {
    "duration": 8,
    "start_time": "2022-05-31T18:14:34.999Z"
   },
   {
    "duration": 108,
    "start_time": "2022-05-31T18:14:35.010Z"
   },
   {
    "duration": 134,
    "start_time": "2022-05-31T18:14:35.120Z"
   },
   {
    "duration": 0,
    "start_time": "2022-05-31T18:14:35.256Z"
   },
   {
    "duration": 0,
    "start_time": "2022-05-31T18:14:35.258Z"
   },
   {
    "duration": 0,
    "start_time": "2022-05-31T18:14:35.259Z"
   },
   {
    "duration": 0,
    "start_time": "2022-05-31T18:14:35.260Z"
   },
   {
    "duration": 0,
    "start_time": "2022-05-31T18:14:35.262Z"
   },
   {
    "duration": 0,
    "start_time": "2022-05-31T18:14:35.263Z"
   },
   {
    "duration": 0,
    "start_time": "2022-05-31T18:14:35.265Z"
   },
   {
    "duration": 17,
    "start_time": "2022-05-31T18:15:39.814Z"
   },
   {
    "duration": 450,
    "start_time": "2022-05-31T18:16:10.272Z"
   },
   {
    "duration": 2625,
    "start_time": "2022-05-31T18:16:16.207Z"
   },
   {
    "duration": 17,
    "start_time": "2022-05-31T18:16:21.365Z"
   },
   {
    "duration": 38,
    "start_time": "2022-05-31T18:16:42.944Z"
   },
   {
    "duration": 63,
    "start_time": "2022-05-31T18:17:48.841Z"
   },
   {
    "duration": 604,
    "start_time": "2022-05-31T18:18:04.333Z"
   },
   {
    "duration": 3454,
    "start_time": "2022-05-31T18:20:25.909Z"
   },
   {
    "duration": 36,
    "start_time": "2022-05-31T18:20:34.616Z"
   },
   {
    "duration": 4,
    "start_time": "2022-05-31T18:22:21.117Z"
   },
   {
    "duration": 3,
    "start_time": "2022-05-31T18:22:22.363Z"
   },
   {
    "duration": 158985,
    "start_time": "2022-05-31T18:22:24.756Z"
   },
   {
    "duration": 3,
    "start_time": "2022-05-31T18:25:13.307Z"
   },
   {
    "duration": 4,
    "start_time": "2022-05-31T18:25:14.783Z"
   },
   {
    "duration": 3,
    "start_time": "2022-05-31T18:25:23.785Z"
   },
   {
    "duration": 14,
    "start_time": "2022-05-31T18:25:37.569Z"
   },
   {
    "duration": 7,
    "start_time": "2022-05-31T18:25:38.119Z"
   },
   {
    "duration": 6,
    "start_time": "2022-05-31T18:25:38.901Z"
   },
   {
    "duration": 9,
    "start_time": "2022-05-31T18:28:38.830Z"
   },
   {
    "duration": 3,
    "start_time": "2022-05-31T18:28:51.333Z"
   },
   {
    "duration": 3,
    "start_time": "2022-05-31T18:29:11.325Z"
   },
   {
    "duration": 10,
    "start_time": "2022-05-31T18:29:41.071Z"
   },
   {
    "duration": 5,
    "start_time": "2022-05-31T18:29:54.051Z"
   },
   {
    "duration": 4,
    "start_time": "2022-05-31T18:30:08.494Z"
   },
   {
    "duration": 5,
    "start_time": "2022-05-31T18:32:32.097Z"
   },
   {
    "duration": 443,
    "start_time": "2022-05-31T18:32:33.313Z"
   },
   {
    "duration": 3379,
    "start_time": "2022-05-31T18:32:35.334Z"
   },
   {
    "duration": 42,
    "start_time": "2022-05-31T18:32:41.616Z"
   },
   {
    "duration": 1332,
    "start_time": "2022-06-01T09:11:31.642Z"
   },
   {
    "duration": 329,
    "start_time": "2022-06-01T09:11:32.975Z"
   },
   {
    "duration": 19,
    "start_time": "2022-06-01T09:11:33.306Z"
   },
   {
    "duration": 234,
    "start_time": "2022-06-01T09:11:33.327Z"
   },
   {
    "duration": 17,
    "start_time": "2022-06-01T09:11:33.563Z"
   },
   {
    "duration": 78,
    "start_time": "2022-06-01T09:11:34.207Z"
   },
   {
    "duration": 13,
    "start_time": "2022-06-01T09:11:34.287Z"
   },
   {
    "duration": 6,
    "start_time": "2022-06-01T09:11:34.302Z"
   },
   {
    "duration": 6,
    "start_time": "2022-06-01T09:11:34.310Z"
   },
   {
    "duration": 4,
    "start_time": "2022-06-01T09:11:34.318Z"
   },
   {
    "duration": 5,
    "start_time": "2022-06-01T09:11:34.323Z"
   },
   {
    "duration": 6,
    "start_time": "2022-06-01T09:11:34.330Z"
   },
   {
    "duration": 37,
    "start_time": "2022-06-01T09:11:34.338Z"
   },
   {
    "duration": 17,
    "start_time": "2022-06-01T09:11:34.377Z"
   },
   {
    "duration": 6,
    "start_time": "2022-06-01T09:11:34.395Z"
   },
   {
    "duration": 17,
    "start_time": "2022-06-01T09:11:34.402Z"
   },
   {
    "duration": 4,
    "start_time": "2022-06-01T09:11:34.420Z"
   },
   {
    "duration": 16,
    "start_time": "2022-06-01T09:11:34.425Z"
   },
   {
    "duration": 259,
    "start_time": "2022-06-01T09:11:34.443Z"
   },
   {
    "duration": 220,
    "start_time": "2022-06-01T09:11:34.937Z"
   },
   {
    "duration": 232,
    "start_time": "2022-06-01T09:11:35.160Z"
   },
   {
    "duration": 9,
    "start_time": "2022-06-01T09:11:35.393Z"
   },
   {
    "duration": 342,
    "start_time": "2022-06-01T09:11:35.404Z"
   },
   {
    "duration": 8,
    "start_time": "2022-06-01T09:11:35.749Z"
   },
   {
    "duration": 383,
    "start_time": "2022-06-01T09:11:35.760Z"
   },
   {
    "duration": 3,
    "start_time": "2022-06-01T09:11:36.144Z"
   },
   {
    "duration": 8,
    "start_time": "2022-06-01T09:11:36.149Z"
   },
   {
    "duration": 17,
    "start_time": "2022-06-01T09:11:36.158Z"
   },
   {
    "duration": 5,
    "start_time": "2022-06-01T09:11:36.176Z"
   },
   {
    "duration": 5,
    "start_time": "2022-06-01T09:11:36.182Z"
   },
   {
    "duration": 7,
    "start_time": "2022-06-01T09:11:36.189Z"
   },
   {
    "duration": 22,
    "start_time": "2022-06-01T09:11:36.197Z"
   },
   {
    "duration": 661,
    "start_time": "2022-06-01T09:11:36.222Z"
   },
   {
    "duration": 5,
    "start_time": "2022-06-01T09:11:36.884Z"
   },
   {
    "duration": 28,
    "start_time": "2022-06-01T09:11:36.890Z"
   },
   {
    "duration": 26,
    "start_time": "2022-06-01T09:11:36.919Z"
   },
   {
    "duration": 5,
    "start_time": "2022-06-01T09:11:36.946Z"
   },
   {
    "duration": 22,
    "start_time": "2022-06-01T09:11:36.975Z"
   },
   {
    "duration": 4,
    "start_time": "2022-06-01T09:11:36.999Z"
   },
   {
    "duration": 32,
    "start_time": "2022-06-01T09:11:37.005Z"
   },
   {
    "duration": 7,
    "start_time": "2022-06-01T09:11:37.039Z"
   },
   {
    "duration": 12,
    "start_time": "2022-06-01T09:11:37.048Z"
   },
   {
    "duration": 11,
    "start_time": "2022-06-01T09:11:37.061Z"
   },
   {
    "duration": 5,
    "start_time": "2022-06-01T09:11:37.073Z"
   },
   {
    "duration": 10,
    "start_time": "2022-06-01T09:11:37.079Z"
   },
   {
    "duration": 19,
    "start_time": "2022-06-01T09:11:37.091Z"
   },
   {
    "duration": 3,
    "start_time": "2022-06-01T09:11:37.111Z"
   },
   {
    "duration": 8,
    "start_time": "2022-06-01T09:11:37.115Z"
   },
   {
    "duration": 11,
    "start_time": "2022-06-01T09:11:37.124Z"
   },
   {
    "duration": 9,
    "start_time": "2022-06-01T09:11:37.136Z"
   },
   {
    "duration": 148018,
    "start_time": "2022-06-01T09:11:37.146Z"
   },
   {
    "duration": 4,
    "start_time": "2022-06-01T09:14:05.165Z"
   },
   {
    "duration": 7,
    "start_time": "2022-06-01T09:14:05.175Z"
   },
   {
    "duration": 10,
    "start_time": "2022-06-01T09:14:05.183Z"
   },
   {
    "duration": 7,
    "start_time": "2022-06-01T09:14:05.195Z"
   },
   {
    "duration": 18,
    "start_time": "2022-06-01T09:14:05.203Z"
   },
   {
    "duration": 107,
    "start_time": "2022-06-01T09:14:05.276Z"
   },
   {
    "duration": 88,
    "start_time": "2022-06-01T09:14:05.389Z"
   },
   {
    "duration": 96,
    "start_time": "2022-06-01T09:14:05.482Z"
   },
   {
    "duration": 633,
    "start_time": "2022-06-01T09:14:05.584Z"
   },
   {
    "duration": 3508,
    "start_time": "2022-06-01T09:14:06.219Z"
   },
   {
    "duration": 46,
    "start_time": "2022-06-01T09:14:09.729Z"
   },
   {
    "duration": 5,
    "start_time": "2022-06-01T09:14:09.777Z"
   },
   {
    "duration": 6,
    "start_time": "2022-06-01T09:14:09.783Z"
   },
   {
    "duration": 7,
    "start_time": "2022-06-01T09:14:09.791Z"
   },
   {
    "duration": 22,
    "start_time": "2022-06-01T09:14:09.799Z"
   },
   {
    "duration": 3,
    "start_time": "2022-06-01T09:14:09.823Z"
   },
   {
    "duration": 423,
    "start_time": "2022-06-01T11:43:27.185Z"
   },
   {
    "duration": 4,
    "start_time": "2022-06-01T13:05:14.198Z"
   },
   {
    "duration": 1366,
    "start_time": "2022-06-03T09:44:12.087Z"
   },
   {
    "duration": 1803,
    "start_time": "2022-06-03T09:44:13.455Z"
   },
   {
    "duration": 20,
    "start_time": "2022-06-03T09:44:15.260Z"
   },
   {
    "duration": 803,
    "start_time": "2022-06-03T09:44:15.282Z"
   },
   {
    "duration": 16,
    "start_time": "2022-06-03T09:44:16.087Z"
   },
   {
    "duration": 355,
    "start_time": "2022-06-03T09:44:16.105Z"
   },
   {
    "duration": 16,
    "start_time": "2022-06-03T09:44:16.462Z"
   },
   {
    "duration": 12,
    "start_time": "2022-06-03T09:44:16.480Z"
   },
   {
    "duration": 26,
    "start_time": "2022-06-03T09:44:16.494Z"
   },
   {
    "duration": 13,
    "start_time": "2022-06-03T09:44:16.523Z"
   },
   {
    "duration": 14,
    "start_time": "2022-06-03T09:44:16.538Z"
   },
   {
    "duration": 19,
    "start_time": "2022-06-03T09:44:16.554Z"
   },
   {
    "duration": 25,
    "start_time": "2022-06-03T09:44:16.575Z"
   },
   {
    "duration": 24,
    "start_time": "2022-06-03T09:44:16.602Z"
   },
   {
    "duration": 6,
    "start_time": "2022-06-03T09:44:16.628Z"
   },
   {
    "duration": 21,
    "start_time": "2022-06-03T09:44:16.635Z"
   },
   {
    "duration": 4,
    "start_time": "2022-06-03T09:44:16.658Z"
   },
   {
    "duration": 15,
    "start_time": "2022-06-03T09:44:16.663Z"
   },
   {
    "duration": 251,
    "start_time": "2022-06-03T09:44:16.680Z"
   },
   {
    "duration": 237,
    "start_time": "2022-06-03T09:44:16.933Z"
   },
   {
    "duration": 248,
    "start_time": "2022-06-03T09:44:17.171Z"
   },
   {
    "duration": 12,
    "start_time": "2022-06-03T09:44:17.421Z"
   },
   {
    "duration": 352,
    "start_time": "2022-06-03T09:44:17.434Z"
   },
   {
    "duration": 9,
    "start_time": "2022-06-03T09:44:17.788Z"
   },
   {
    "duration": 393,
    "start_time": "2022-06-03T09:44:17.798Z"
   },
   {
    "duration": 3,
    "start_time": "2022-06-03T09:44:18.192Z"
   },
   {
    "duration": 31,
    "start_time": "2022-06-03T09:44:18.197Z"
   },
   {
    "duration": 8,
    "start_time": "2022-06-03T09:44:18.232Z"
   },
   {
    "duration": 6,
    "start_time": "2022-06-03T09:44:18.242Z"
   },
   {
    "duration": 7,
    "start_time": "2022-06-03T09:44:18.250Z"
   },
   {
    "duration": 12,
    "start_time": "2022-06-03T09:44:18.259Z"
   },
   {
    "duration": 27,
    "start_time": "2022-06-03T09:44:18.272Z"
   },
   {
    "duration": 728,
    "start_time": "2022-06-03T09:44:18.300Z"
   },
   {
    "duration": 5,
    "start_time": "2022-06-03T09:44:19.030Z"
   },
   {
    "duration": 33,
    "start_time": "2022-06-03T09:44:19.037Z"
   },
   {
    "duration": 33,
    "start_time": "2022-06-03T09:44:19.071Z"
   },
   {
    "duration": 24,
    "start_time": "2022-06-03T09:44:19.106Z"
   },
   {
    "duration": 33,
    "start_time": "2022-06-03T09:44:19.132Z"
   },
   {
    "duration": 5,
    "start_time": "2022-06-03T09:44:19.167Z"
   },
   {
    "duration": 24,
    "start_time": "2022-06-03T09:44:19.174Z"
   },
   {
    "duration": 3,
    "start_time": "2022-06-03T09:44:19.199Z"
   },
   {
    "duration": 6,
    "start_time": "2022-06-03T09:44:19.204Z"
   },
   {
    "duration": 6,
    "start_time": "2022-06-03T09:44:19.227Z"
   },
   {
    "duration": 9,
    "start_time": "2022-06-03T09:44:19.234Z"
   },
   {
    "duration": 11,
    "start_time": "2022-06-03T09:44:19.245Z"
   },
   {
    "duration": 23,
    "start_time": "2022-06-03T09:44:19.258Z"
   },
   {
    "duration": 3,
    "start_time": "2022-06-03T09:44:19.283Z"
   },
   {
    "duration": 8,
    "start_time": "2022-06-03T09:44:19.288Z"
   },
   {
    "duration": 9,
    "start_time": "2022-06-03T09:44:19.298Z"
   },
   {
    "duration": 14,
    "start_time": "2022-06-03T09:44:19.309Z"
   },
   {
    "duration": 483129,
    "start_time": "2022-06-03T09:44:19.326Z"
   },
   {
    "duration": 4,
    "start_time": "2022-06-03T09:52:22.457Z"
   },
   {
    "duration": 66,
    "start_time": "2022-06-03T09:52:22.463Z"
   },
   {
    "duration": 10,
    "start_time": "2022-06-03T09:52:22.531Z"
   },
   {
    "duration": 9,
    "start_time": "2022-06-03T09:52:22.543Z"
   },
   {
    "duration": 2173,
    "start_time": "2022-06-03T09:52:22.553Z"
   },
   {
    "duration": 5,
    "start_time": "2022-06-03T09:52:24.729Z"
   },
   {
    "duration": 199,
    "start_time": "2022-06-03T09:52:24.736Z"
   },
   {
    "duration": 2110,
    "start_time": "2022-06-03T09:52:24.937Z"
   },
   {
    "duration": 6595,
    "start_time": "2022-06-03T09:52:27.049Z"
   },
   {
    "duration": 98,
    "start_time": "2022-06-03T09:52:33.646Z"
   },
   {
    "duration": 5,
    "start_time": "2022-06-03T09:52:33.746Z"
   },
   {
    "duration": 15,
    "start_time": "2022-06-03T09:52:33.752Z"
   },
   {
    "duration": 61,
    "start_time": "2022-06-03T09:52:33.768Z"
   },
   {
    "duration": 37,
    "start_time": "2022-06-03T09:52:33.831Z"
   },
   {
    "duration": 3,
    "start_time": "2022-06-03T09:52:33.870Z"
   },
   {
    "duration": 58,
    "start_time": "2022-06-03T09:52:33.875Z"
   },
   {
    "duration": 492319,
    "start_time": "2022-06-03T09:52:33.935Z"
   },
   {
    "duration": 4,
    "start_time": "2022-06-03T10:00:46.257Z"
   },
   {
    "duration": 66,
    "start_time": "2022-06-03T10:00:46.263Z"
   },
   {
    "duration": 35,
    "start_time": "2022-06-03T10:00:46.331Z"
   },
   {
    "duration": 2275,
    "start_time": "2022-06-03T10:00:46.368Z"
   },
   {
    "duration": 81,
    "start_time": "2022-06-03T10:00:48.648Z"
   },
   {
    "duration": 200,
    "start_time": "2022-06-03T10:00:48.732Z"
   },
   {
    "duration": 983,
    "start_time": "2022-06-03T10:00:48.946Z"
   },
   {
    "duration": 7540,
    "start_time": "2022-06-03T10:00:49.931Z"
   },
   {
    "duration": 1006,
    "start_time": "2022-06-03T10:00:57.527Z"
   },
   {
    "duration": 1728,
    "start_time": "2022-06-03T10:00:58.535Z"
   },
   {
    "duration": 13,
    "start_time": "2022-06-03T11:55:02.886Z"
   },
   {
    "duration": 112,
    "start_time": "2022-06-03T12:05:28.531Z"
   },
   {
    "duration": 11,
    "start_time": "2022-06-03T12:05:41.407Z"
   },
   {
    "duration": 131,
    "start_time": "2022-06-03T12:05:44.587Z"
   },
   {
    "duration": 168,
    "start_time": "2022-06-03T12:06:27.904Z"
   },
   {
    "duration": 5,
    "start_time": "2022-06-03T12:36:04.729Z"
   }
  ],
  "kernelspec": {
   "display_name": "Python 3 (ipykernel)",
   "language": "python",
   "name": "python3"
  },
  "language_info": {
   "codemirror_mode": {
    "name": "ipython",
    "version": 3
   },
   "file_extension": ".py",
   "mimetype": "text/x-python",
   "name": "python",
   "nbconvert_exporter": "python",
   "pygments_lexer": "ipython3",
   "version": "3.9.7"
  },
  "toc": {
   "base_numbering": 1,
   "nav_menu": {},
   "number_sections": true,
   "sideBar": true,
   "skip_h1_title": true,
   "title_cell": "Table of Contents",
   "title_sidebar": "Contents",
   "toc_cell": false,
   "toc_position": {
    "height": "calc(100% - 180px)",
    "left": "10px",
    "top": "150px",
    "width": "287.188px"
   },
   "toc_section_display": true,
   "toc_window_display": true
  },
  "toc-autonumbering": true
 },
 "nbformat": 4,
 "nbformat_minor": 5
}
