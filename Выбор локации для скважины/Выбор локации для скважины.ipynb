{
 "cells": [
  {
   "cell_type": "markdown",
   "id": "b9e460d7-a76b-4e03-8fc8-955923c10ce0",
   "metadata": {},
   "source": [
    "# Выбор локации для скважины"
   ]
  },
  {
   "cell_type": "markdown",
   "id": "5426143d-c4e2-4738-9399-7a05183205da",
   "metadata": {
    "tags": []
   },
   "source": [
    "## Загрузка и подготовка данных"
   ]
  },
  {
   "cell_type": "code",
   "execution_count": 1,
   "id": "131d3a86-385b-4a19-9e0e-5efc5cb1c8f7",
   "metadata": {},
   "outputs": [],
   "source": [
    "import pandas as pd\n",
    "from sklearn.model_selection import train_test_split\n",
    "from sklearn.linear_model import LinearRegression\n",
    "from sklearn.metrics import mean_squared_error\n",
    "import numpy as np"
   ]
  },
  {
   "cell_type": "code",
   "execution_count": 3,
   "id": "2edfd0fc-d072-40fa-861e-71dd5368574e",
   "metadata": {},
   "outputs": [
    {
     "name": "stdout",
     "output_type": "stream",
     "text": [
      "<class 'pandas.core.frame.DataFrame'>\n",
      "RangeIndex: 100000 entries, 0 to 99999\n",
      "Data columns (total 5 columns):\n",
      " #   Column   Non-Null Count   Dtype  \n",
      "---  ------   --------------   -----  \n",
      " 0   id       100000 non-null  object \n",
      " 1   f0       100000 non-null  float64\n",
      " 2   f1       100000 non-null  float64\n",
      " 3   f2       100000 non-null  float64\n",
      " 4   product  100000 non-null  float64\n",
      "dtypes: float64(4), object(1)\n",
      "memory usage: 3.8+ MB\n"
     ]
    }
   ],
   "source": [
    "# данные по региону №1\n",
    "data_1.info()"
   ]
  },
  {
   "cell_type": "code",
   "execution_count": 4,
   "id": "1496e327-3791-4351-9c0b-87dfe27e4c88",
   "metadata": {},
   "outputs": [
    {
     "data": {
      "text/html": [
       "<div>\n",
       "<style scoped>\n",
       "    .dataframe tbody tr th:only-of-type {\n",
       "        vertical-align: middle;\n",
       "    }\n",
       "\n",
       "    .dataframe tbody tr th {\n",
       "        vertical-align: top;\n",
       "    }\n",
       "\n",
       "    .dataframe thead th {\n",
       "        text-align: right;\n",
       "    }\n",
       "</style>\n",
       "<table border=\"1\" class=\"dataframe\">\n",
       "  <thead>\n",
       "    <tr style=\"text-align: right;\">\n",
       "      <th></th>\n",
       "      <th>id</th>\n",
       "      <th>f0</th>\n",
       "      <th>f1</th>\n",
       "      <th>f2</th>\n",
       "      <th>product</th>\n",
       "    </tr>\n",
       "  </thead>\n",
       "  <tbody>\n",
       "    <tr>\n",
       "      <th>0</th>\n",
       "      <td>txEyH</td>\n",
       "      <td>0.705745</td>\n",
       "      <td>-0.497823</td>\n",
       "      <td>1.221170</td>\n",
       "      <td>105.280062</td>\n",
       "    </tr>\n",
       "    <tr>\n",
       "      <th>1</th>\n",
       "      <td>2acmU</td>\n",
       "      <td>1.334711</td>\n",
       "      <td>-0.340164</td>\n",
       "      <td>4.365080</td>\n",
       "      <td>73.037750</td>\n",
       "    </tr>\n",
       "    <tr>\n",
       "      <th>2</th>\n",
       "      <td>409Wp</td>\n",
       "      <td>1.022732</td>\n",
       "      <td>0.151990</td>\n",
       "      <td>1.419926</td>\n",
       "      <td>85.265647</td>\n",
       "    </tr>\n",
       "    <tr>\n",
       "      <th>3</th>\n",
       "      <td>iJLyR</td>\n",
       "      <td>-0.032172</td>\n",
       "      <td>0.139033</td>\n",
       "      <td>2.978566</td>\n",
       "      <td>168.620776</td>\n",
       "    </tr>\n",
       "    <tr>\n",
       "      <th>4</th>\n",
       "      <td>Xdl7t</td>\n",
       "      <td>1.988431</td>\n",
       "      <td>0.155413</td>\n",
       "      <td>4.751769</td>\n",
       "      <td>154.036647</td>\n",
       "    </tr>\n",
       "  </tbody>\n",
       "</table>\n",
       "</div>"
      ],
      "text/plain": [
       "      id        f0        f1        f2     product\n",
       "0  txEyH  0.705745 -0.497823  1.221170  105.280062\n",
       "1  2acmU  1.334711 -0.340164  4.365080   73.037750\n",
       "2  409Wp  1.022732  0.151990  1.419926   85.265647\n",
       "3  iJLyR -0.032172  0.139033  2.978566  168.620776\n",
       "4  Xdl7t  1.988431  0.155413  4.751769  154.036647"
      ]
     },
     "execution_count": 4,
     "metadata": {},
     "output_type": "execute_result"
    }
   ],
   "source": [
    "data_1.head()"
   ]
  },
  {
   "cell_type": "code",
   "execution_count": 5,
   "id": "ad491425-7fc1-46ec-bdda-0396db9678e9",
   "metadata": {},
   "outputs": [
    {
     "data": {
      "text/plain": [
       "10"
      ]
     },
     "execution_count": 5,
     "metadata": {},
     "output_type": "execute_result"
    }
   ],
   "source": [
    "data_1.duplicated('id').sum()"
   ]
  },
  {
   "cell_type": "code",
   "execution_count": 6,
   "id": "92ad37f1-ff62-4ba1-ba86-d68fedc02664",
   "metadata": {},
   "outputs": [
    {
     "data": {
      "text/html": [
       "<div>\n",
       "<style scoped>\n",
       "    .dataframe tbody tr th:only-of-type {\n",
       "        vertical-align: middle;\n",
       "    }\n",
       "\n",
       "    .dataframe tbody tr th {\n",
       "        vertical-align: top;\n",
       "    }\n",
       "\n",
       "    .dataframe thead th {\n",
       "        text-align: right;\n",
       "    }\n",
       "</style>\n",
       "<table border=\"1\" class=\"dataframe\">\n",
       "  <thead>\n",
       "    <tr style=\"text-align: right;\">\n",
       "      <th></th>\n",
       "      <th>id</th>\n",
       "      <th>f0</th>\n",
       "      <th>f1</th>\n",
       "      <th>f2</th>\n",
       "      <th>product</th>\n",
       "    </tr>\n",
       "  </thead>\n",
       "  <tbody>\n",
       "    <tr>\n",
       "      <th>7530</th>\n",
       "      <td>HZww2</td>\n",
       "      <td>1.061194</td>\n",
       "      <td>-0.373969</td>\n",
       "      <td>10.430210</td>\n",
       "      <td>158.828695</td>\n",
       "    </tr>\n",
       "    <tr>\n",
       "      <th>41724</th>\n",
       "      <td>bxg6G</td>\n",
       "      <td>-0.823752</td>\n",
       "      <td>0.546319</td>\n",
       "      <td>3.630479</td>\n",
       "      <td>93.007798</td>\n",
       "    </tr>\n",
       "    <tr>\n",
       "      <th>51970</th>\n",
       "      <td>A5aEY</td>\n",
       "      <td>-0.180335</td>\n",
       "      <td>0.935548</td>\n",
       "      <td>-2.094773</td>\n",
       "      <td>33.020205</td>\n",
       "    </tr>\n",
       "    <tr>\n",
       "      <th>63593</th>\n",
       "      <td>QcMuo</td>\n",
       "      <td>0.635635</td>\n",
       "      <td>-0.473422</td>\n",
       "      <td>0.862670</td>\n",
       "      <td>64.578675</td>\n",
       "    </tr>\n",
       "    <tr>\n",
       "      <th>66136</th>\n",
       "      <td>74z30</td>\n",
       "      <td>1.084962</td>\n",
       "      <td>-0.312358</td>\n",
       "      <td>6.990771</td>\n",
       "      <td>127.643327</td>\n",
       "    </tr>\n",
       "    <tr>\n",
       "      <th>69163</th>\n",
       "      <td>AGS9W</td>\n",
       "      <td>-0.933795</td>\n",
       "      <td>0.116194</td>\n",
       "      <td>-3.655896</td>\n",
       "      <td>19.230453</td>\n",
       "    </tr>\n",
       "    <tr>\n",
       "      <th>75715</th>\n",
       "      <td>Tdehs</td>\n",
       "      <td>0.112079</td>\n",
       "      <td>0.430296</td>\n",
       "      <td>3.218993</td>\n",
       "      <td>60.964018</td>\n",
       "    </tr>\n",
       "    <tr>\n",
       "      <th>90815</th>\n",
       "      <td>fiKDv</td>\n",
       "      <td>0.049883</td>\n",
       "      <td>0.841313</td>\n",
       "      <td>6.394613</td>\n",
       "      <td>137.346586</td>\n",
       "    </tr>\n",
       "    <tr>\n",
       "      <th>92341</th>\n",
       "      <td>TtcGQ</td>\n",
       "      <td>0.110711</td>\n",
       "      <td>1.022689</td>\n",
       "      <td>0.911381</td>\n",
       "      <td>101.318008</td>\n",
       "    </tr>\n",
       "    <tr>\n",
       "      <th>97785</th>\n",
       "      <td>bsk9y</td>\n",
       "      <td>0.378429</td>\n",
       "      <td>0.005837</td>\n",
       "      <td>0.160827</td>\n",
       "      <td>160.637302</td>\n",
       "    </tr>\n",
       "  </tbody>\n",
       "</table>\n",
       "</div>"
      ],
      "text/plain": [
       "          id        f0        f1         f2     product\n",
       "7530   HZww2  1.061194 -0.373969  10.430210  158.828695\n",
       "41724  bxg6G -0.823752  0.546319   3.630479   93.007798\n",
       "51970  A5aEY -0.180335  0.935548  -2.094773   33.020205\n",
       "63593  QcMuo  0.635635 -0.473422   0.862670   64.578675\n",
       "66136  74z30  1.084962 -0.312358   6.990771  127.643327\n",
       "69163  AGS9W -0.933795  0.116194  -3.655896   19.230453\n",
       "75715  Tdehs  0.112079  0.430296   3.218993   60.964018\n",
       "90815  fiKDv  0.049883  0.841313   6.394613  137.346586\n",
       "92341  TtcGQ  0.110711  1.022689   0.911381  101.318008\n",
       "97785  bsk9y  0.378429  0.005837   0.160827  160.637302"
      ]
     },
     "execution_count": 6,
     "metadata": {},
     "output_type": "execute_result"
    }
   ],
   "source": [
    "data_1[data_1.duplicated('id') == True]"
   ]
  },
  {
   "cell_type": "code",
   "execution_count": 7,
   "id": "6be453cc-d0c1-4b22-a27b-4d095ffa7be6",
   "metadata": {},
   "outputs": [
    {
     "data": {
      "text/plain": [
       "0"
      ]
     },
     "execution_count": 7,
     "metadata": {},
     "output_type": "execute_result"
    }
   ],
   "source": [
    "#удалим дубликаты, сохранив в таблице последние значения, так как данные по скважине могли быть обновлены\n",
    "data_1=data_1.drop_duplicates(subset='id', keep='last').reset_index(drop=True)\n",
    "data_1.duplicated('id').sum()"
   ]
  },
  {
   "cell_type": "code",
   "execution_count": 8,
   "id": "4ed2f9c8-2dd8-4b6d-8c06-df41bdd461fa",
   "metadata": {},
   "outputs": [],
   "source": [
    "#сохраним признаки и таргет в х_1, у_1\n",
    "x_1 = data_1.drop(['id','product'], axis=1)\n",
    "y_1 = data_1['product']"
   ]
  },
  {
   "cell_type": "code",
   "execution_count": 10,
   "id": "47179692-bb81-4401-940c-9312299e791d",
   "metadata": {},
   "outputs": [
    {
     "name": "stdout",
     "output_type": "stream",
     "text": [
      "<class 'pandas.core.frame.DataFrame'>\n",
      "RangeIndex: 100000 entries, 0 to 99999\n",
      "Data columns (total 5 columns):\n",
      " #   Column   Non-Null Count   Dtype  \n",
      "---  ------   --------------   -----  \n",
      " 0   id       100000 non-null  object \n",
      " 1   f0       100000 non-null  float64\n",
      " 2   f1       100000 non-null  float64\n",
      " 3   f2       100000 non-null  float64\n",
      " 4   product  100000 non-null  float64\n",
      "dtypes: float64(4), object(1)\n",
      "memory usage: 3.8+ MB\n"
     ]
    }
   ],
   "source": [
    "# данные по региону №2\n",
    "data_2.info()"
   ]
  },
  {
   "cell_type": "code",
   "execution_count": 11,
   "id": "86ceb33a-2ad2-4ac2-8677-e8f844413151",
   "metadata": {},
   "outputs": [
    {
     "data": {
      "text/html": [
       "<div>\n",
       "<style scoped>\n",
       "    .dataframe tbody tr th:only-of-type {\n",
       "        vertical-align: middle;\n",
       "    }\n",
       "\n",
       "    .dataframe tbody tr th {\n",
       "        vertical-align: top;\n",
       "    }\n",
       "\n",
       "    .dataframe thead th {\n",
       "        text-align: right;\n",
       "    }\n",
       "</style>\n",
       "<table border=\"1\" class=\"dataframe\">\n",
       "  <thead>\n",
       "    <tr style=\"text-align: right;\">\n",
       "      <th></th>\n",
       "      <th>id</th>\n",
       "      <th>f0</th>\n",
       "      <th>f1</th>\n",
       "      <th>f2</th>\n",
       "      <th>product</th>\n",
       "    </tr>\n",
       "  </thead>\n",
       "  <tbody>\n",
       "    <tr>\n",
       "      <th>0</th>\n",
       "      <td>kBEdx</td>\n",
       "      <td>-15.001348</td>\n",
       "      <td>-8.276000</td>\n",
       "      <td>-0.005876</td>\n",
       "      <td>3.179103</td>\n",
       "    </tr>\n",
       "    <tr>\n",
       "      <th>1</th>\n",
       "      <td>62mP7</td>\n",
       "      <td>14.272088</td>\n",
       "      <td>-3.475083</td>\n",
       "      <td>0.999183</td>\n",
       "      <td>26.953261</td>\n",
       "    </tr>\n",
       "    <tr>\n",
       "      <th>2</th>\n",
       "      <td>vyE1P</td>\n",
       "      <td>6.263187</td>\n",
       "      <td>-5.948386</td>\n",
       "      <td>5.001160</td>\n",
       "      <td>134.766305</td>\n",
       "    </tr>\n",
       "    <tr>\n",
       "      <th>3</th>\n",
       "      <td>KcrkZ</td>\n",
       "      <td>-13.081196</td>\n",
       "      <td>-11.506057</td>\n",
       "      <td>4.999415</td>\n",
       "      <td>137.945408</td>\n",
       "    </tr>\n",
       "    <tr>\n",
       "      <th>4</th>\n",
       "      <td>AHL4O</td>\n",
       "      <td>12.702195</td>\n",
       "      <td>-8.147433</td>\n",
       "      <td>5.004363</td>\n",
       "      <td>134.766305</td>\n",
       "    </tr>\n",
       "  </tbody>\n",
       "</table>\n",
       "</div>"
      ],
      "text/plain": [
       "      id         f0         f1        f2     product\n",
       "0  kBEdx -15.001348  -8.276000 -0.005876    3.179103\n",
       "1  62mP7  14.272088  -3.475083  0.999183   26.953261\n",
       "2  vyE1P   6.263187  -5.948386  5.001160  134.766305\n",
       "3  KcrkZ -13.081196 -11.506057  4.999415  137.945408\n",
       "4  AHL4O  12.702195  -8.147433  5.004363  134.766305"
      ]
     },
     "execution_count": 11,
     "metadata": {},
     "output_type": "execute_result"
    }
   ],
   "source": [
    "data_2.head()"
   ]
  },
  {
   "cell_type": "code",
   "execution_count": 12,
   "id": "47886675-b18f-4c68-9aed-04b802637260",
   "metadata": {},
   "outputs": [
    {
     "data": {
      "text/plain": [
       "4"
      ]
     },
     "execution_count": 12,
     "metadata": {},
     "output_type": "execute_result"
    }
   ],
   "source": [
    "data_2.duplicated('id').sum()"
   ]
  },
  {
   "cell_type": "code",
   "execution_count": 13,
   "id": "2a808efb-7f1a-4175-b0be-ac47db00197c",
   "metadata": {},
   "outputs": [
    {
     "data": {
      "text/html": [
       "<div>\n",
       "<style scoped>\n",
       "    .dataframe tbody tr th:only-of-type {\n",
       "        vertical-align: middle;\n",
       "    }\n",
       "\n",
       "    .dataframe tbody tr th {\n",
       "        vertical-align: top;\n",
       "    }\n",
       "\n",
       "    .dataframe thead th {\n",
       "        text-align: right;\n",
       "    }\n",
       "</style>\n",
       "<table border=\"1\" class=\"dataframe\">\n",
       "  <thead>\n",
       "    <tr style=\"text-align: right;\">\n",
       "      <th></th>\n",
       "      <th>id</th>\n",
       "      <th>f0</th>\n",
       "      <th>f1</th>\n",
       "      <th>f2</th>\n",
       "      <th>product</th>\n",
       "    </tr>\n",
       "  </thead>\n",
       "  <tbody>\n",
       "    <tr>\n",
       "      <th>41906</th>\n",
       "      <td>LHZR0</td>\n",
       "      <td>-8.989672</td>\n",
       "      <td>-4.286607</td>\n",
       "      <td>2.009139</td>\n",
       "      <td>57.085625</td>\n",
       "    </tr>\n",
       "    <tr>\n",
       "      <th>82178</th>\n",
       "      <td>bfPNe</td>\n",
       "      <td>-6.202799</td>\n",
       "      <td>-4.820045</td>\n",
       "      <td>2.995107</td>\n",
       "      <td>84.038886</td>\n",
       "    </tr>\n",
       "    <tr>\n",
       "      <th>82873</th>\n",
       "      <td>wt4Uk</td>\n",
       "      <td>10.259972</td>\n",
       "      <td>-9.376355</td>\n",
       "      <td>4.994297</td>\n",
       "      <td>134.766305</td>\n",
       "    </tr>\n",
       "    <tr>\n",
       "      <th>84461</th>\n",
       "      <td>5ltQ6</td>\n",
       "      <td>18.213839</td>\n",
       "      <td>2.191999</td>\n",
       "      <td>3.993869</td>\n",
       "      <td>107.813044</td>\n",
       "    </tr>\n",
       "  </tbody>\n",
       "</table>\n",
       "</div>"
      ],
      "text/plain": [
       "          id         f0        f1        f2     product\n",
       "41906  LHZR0  -8.989672 -4.286607  2.009139   57.085625\n",
       "82178  bfPNe  -6.202799 -4.820045  2.995107   84.038886\n",
       "82873  wt4Uk  10.259972 -9.376355  4.994297  134.766305\n",
       "84461  5ltQ6  18.213839  2.191999  3.993869  107.813044"
      ]
     },
     "execution_count": 13,
     "metadata": {},
     "output_type": "execute_result"
    }
   ],
   "source": [
    "data_2[data_2.duplicated('id') == True]"
   ]
  },
  {
   "cell_type": "code",
   "execution_count": 14,
   "id": "239c4d7e-e2ba-4645-b3e6-0367531e48ec",
   "metadata": {},
   "outputs": [
    {
     "data": {
      "text/plain": [
       "0"
      ]
     },
     "execution_count": 14,
     "metadata": {},
     "output_type": "execute_result"
    }
   ],
   "source": [
    "#удалим дубликаты, сохранив в таблице последние значения, так как данные по скважине могли быть обновлены\n",
    "data_2=data_2.drop_duplicates(subset='id', keep='last').reset_index(drop=True)\n",
    "data_2.duplicated('id').sum()"
   ]
  },
  {
   "cell_type": "code",
   "execution_count": 15,
   "id": "e2d3adb8-2c9c-4f65-8e57-9a5ce1d396e0",
   "metadata": {},
   "outputs": [],
   "source": [
    "#сохраним признаки и таргет в х_2, у_2\n",
    "x_2 = data_2.drop(['id','product'], axis=1)\n",
    "y_2 = data_2['product']"
   ]
  },
  {
   "cell_type": "code",
   "execution_count": 17,
   "id": "cc5db513-cc24-4526-acad-4fb9a860eb63",
   "metadata": {},
   "outputs": [
    {
     "name": "stdout",
     "output_type": "stream",
     "text": [
      "<class 'pandas.core.frame.DataFrame'>\n",
      "RangeIndex: 100000 entries, 0 to 99999\n",
      "Data columns (total 5 columns):\n",
      " #   Column   Non-Null Count   Dtype  \n",
      "---  ------   --------------   -----  \n",
      " 0   id       100000 non-null  object \n",
      " 1   f0       100000 non-null  float64\n",
      " 2   f1       100000 non-null  float64\n",
      " 3   f2       100000 non-null  float64\n",
      " 4   product  100000 non-null  float64\n",
      "dtypes: float64(4), object(1)\n",
      "memory usage: 3.8+ MB\n"
     ]
    }
   ],
   "source": [
    "# данные по региону №3\n",
    "data_3.info()"
   ]
  },
  {
   "cell_type": "code",
   "execution_count": 18,
   "id": "7f2c5d32-6344-4bea-b0a7-2d7d59450430",
   "metadata": {},
   "outputs": [
    {
     "data": {
      "text/html": [
       "<div>\n",
       "<style scoped>\n",
       "    .dataframe tbody tr th:only-of-type {\n",
       "        vertical-align: middle;\n",
       "    }\n",
       "\n",
       "    .dataframe tbody tr th {\n",
       "        vertical-align: top;\n",
       "    }\n",
       "\n",
       "    .dataframe thead th {\n",
       "        text-align: right;\n",
       "    }\n",
       "</style>\n",
       "<table border=\"1\" class=\"dataframe\">\n",
       "  <thead>\n",
       "    <tr style=\"text-align: right;\">\n",
       "      <th></th>\n",
       "      <th>id</th>\n",
       "      <th>f0</th>\n",
       "      <th>f1</th>\n",
       "      <th>f2</th>\n",
       "      <th>product</th>\n",
       "    </tr>\n",
       "  </thead>\n",
       "  <tbody>\n",
       "    <tr>\n",
       "      <th>0</th>\n",
       "      <td>fwXo0</td>\n",
       "      <td>-1.146987</td>\n",
       "      <td>0.963328</td>\n",
       "      <td>-0.828965</td>\n",
       "      <td>27.758673</td>\n",
       "    </tr>\n",
       "    <tr>\n",
       "      <th>1</th>\n",
       "      <td>WJtFt</td>\n",
       "      <td>0.262778</td>\n",
       "      <td>0.269839</td>\n",
       "      <td>-2.530187</td>\n",
       "      <td>56.069697</td>\n",
       "    </tr>\n",
       "    <tr>\n",
       "      <th>2</th>\n",
       "      <td>ovLUW</td>\n",
       "      <td>0.194587</td>\n",
       "      <td>0.289035</td>\n",
       "      <td>-5.586433</td>\n",
       "      <td>62.871910</td>\n",
       "    </tr>\n",
       "    <tr>\n",
       "      <th>3</th>\n",
       "      <td>q6cA6</td>\n",
       "      <td>2.236060</td>\n",
       "      <td>-0.553760</td>\n",
       "      <td>0.930038</td>\n",
       "      <td>114.572842</td>\n",
       "    </tr>\n",
       "    <tr>\n",
       "      <th>4</th>\n",
       "      <td>WPMUX</td>\n",
       "      <td>-0.515993</td>\n",
       "      <td>1.716266</td>\n",
       "      <td>5.899011</td>\n",
       "      <td>149.600746</td>\n",
       "    </tr>\n",
       "  </tbody>\n",
       "</table>\n",
       "</div>"
      ],
      "text/plain": [
       "      id        f0        f1        f2     product\n",
       "0  fwXo0 -1.146987  0.963328 -0.828965   27.758673\n",
       "1  WJtFt  0.262778  0.269839 -2.530187   56.069697\n",
       "2  ovLUW  0.194587  0.289035 -5.586433   62.871910\n",
       "3  q6cA6  2.236060 -0.553760  0.930038  114.572842\n",
       "4  WPMUX -0.515993  1.716266  5.899011  149.600746"
      ]
     },
     "execution_count": 18,
     "metadata": {},
     "output_type": "execute_result"
    }
   ],
   "source": [
    "data_3.head()"
   ]
  },
  {
   "cell_type": "code",
   "execution_count": 19,
   "id": "a5f178b2-5d53-47be-9487-167cb169c28c",
   "metadata": {},
   "outputs": [
    {
     "data": {
      "text/plain": [
       "4"
      ]
     },
     "execution_count": 19,
     "metadata": {},
     "output_type": "execute_result"
    }
   ],
   "source": [
    "data_3.duplicated('id').sum()"
   ]
  },
  {
   "cell_type": "code",
   "execution_count": 20,
   "id": "6946ce83-de75-47fb-9c9b-d0fed371158d",
   "metadata": {},
   "outputs": [
    {
     "data": {
      "text/html": [
       "<div>\n",
       "<style scoped>\n",
       "    .dataframe tbody tr th:only-of-type {\n",
       "        vertical-align: middle;\n",
       "    }\n",
       "\n",
       "    .dataframe tbody tr th {\n",
       "        vertical-align: top;\n",
       "    }\n",
       "\n",
       "    .dataframe thead th {\n",
       "        text-align: right;\n",
       "    }\n",
       "</style>\n",
       "<table border=\"1\" class=\"dataframe\">\n",
       "  <thead>\n",
       "    <tr style=\"text-align: right;\">\n",
       "      <th></th>\n",
       "      <th>id</th>\n",
       "      <th>f0</th>\n",
       "      <th>f1</th>\n",
       "      <th>f2</th>\n",
       "      <th>product</th>\n",
       "    </tr>\n",
       "  </thead>\n",
       "  <tbody>\n",
       "    <tr>\n",
       "      <th>43233</th>\n",
       "      <td>xCHr8</td>\n",
       "      <td>-0.847066</td>\n",
       "      <td>2.101796</td>\n",
       "      <td>5.597130</td>\n",
       "      <td>184.388641</td>\n",
       "    </tr>\n",
       "    <tr>\n",
       "      <th>49564</th>\n",
       "      <td>VF7Jo</td>\n",
       "      <td>-0.883115</td>\n",
       "      <td>0.560537</td>\n",
       "      <td>0.723601</td>\n",
       "      <td>136.233420</td>\n",
       "    </tr>\n",
       "    <tr>\n",
       "      <th>55967</th>\n",
       "      <td>KUPhW</td>\n",
       "      <td>1.211150</td>\n",
       "      <td>3.176408</td>\n",
       "      <td>5.543540</td>\n",
       "      <td>132.831802</td>\n",
       "    </tr>\n",
       "    <tr>\n",
       "      <th>95090</th>\n",
       "      <td>Vcm5J</td>\n",
       "      <td>2.587702</td>\n",
       "      <td>1.986875</td>\n",
       "      <td>2.482245</td>\n",
       "      <td>92.327572</td>\n",
       "    </tr>\n",
       "  </tbody>\n",
       "</table>\n",
       "</div>"
      ],
      "text/plain": [
       "          id        f0        f1        f2     product\n",
       "43233  xCHr8 -0.847066  2.101796  5.597130  184.388641\n",
       "49564  VF7Jo -0.883115  0.560537  0.723601  136.233420\n",
       "55967  KUPhW  1.211150  3.176408  5.543540  132.831802\n",
       "95090  Vcm5J  2.587702  1.986875  2.482245   92.327572"
      ]
     },
     "execution_count": 20,
     "metadata": {},
     "output_type": "execute_result"
    }
   ],
   "source": [
    "data_3[data_3.duplicated('id')==True]"
   ]
  },
  {
   "cell_type": "code",
   "execution_count": 21,
   "id": "67bfe0aa-a632-4238-a042-3ffb187fbc3f",
   "metadata": {},
   "outputs": [
    {
     "data": {
      "text/plain": [
       "0"
      ]
     },
     "execution_count": 21,
     "metadata": {},
     "output_type": "execute_result"
    }
   ],
   "source": [
    "#удалим дубликаты, сохранив в таблице последние значения, так как данные по скважине могли быть обновлены\n",
    "data_3=data_3.drop_duplicates(subset='id', keep='last').reset_index(drop=True)\n",
    "data_3.duplicated('id').sum()"
   ]
  },
  {
   "cell_type": "code",
   "execution_count": 22,
   "id": "ebe5e383-a32f-46a9-aff8-4c22adb5ebd8",
   "metadata": {},
   "outputs": [],
   "source": [
    "#сохраним признаки и таргет в х_3, у_3\n",
    "x_3 = data_3.drop(['id','product'], axis=1)\n",
    "y_3 = data_3['product']"
   ]
  },
  {
   "cell_type": "markdown",
   "id": "825c39c0-a0db-4d5b-b04a-982620658caa",
   "metadata": {},
   "source": [
    "### Вывод:\n",
    "- На этапе предобработки данных были удалены дубликаты id скважин из трех таблиц\n",
    "- были выделены признаки для обучения (х1,х2,х3) и целевой признак(у1,у2,у3)"
   ]
  },
  {
   "cell_type": "markdown",
   "id": "b09dc384-01ae-4ee6-a6af-4fedb94c033a",
   "metadata": {},
   "source": [
    "## Обучение и проверка модели"
   ]
  },
  {
   "cell_type": "markdown",
   "id": "4e5e96da-8614-40e9-af7f-8454e7231923",
   "metadata": {},
   "source": [
    "### Исследование региона №1"
   ]
  },
  {
   "cell_type": "code",
   "execution_count": 23,
   "id": "ab31bfa3-9078-4af9-8735-4cf4bbf9725d",
   "metadata": {},
   "outputs": [],
   "source": [
    "def lin_reg(x_train, y_train,x_valid,y_valid):\n",
    "    model = LinearRegression()\n",
    "    model.fit(x_train, y_train)\n",
    "    y_predicted = model.predict(x_valid)\n",
    "    print('Значение RMSE - ', mean_squared_error(y_valid, y_predicted,squared=False))\n",
    "    print('Средний запас сырья - ', y_predicted.mean())\n",
    "    return model,y_predicted"
   ]
  },
  {
   "cell_type": "code",
   "execution_count": 24,
   "id": "5c47cbc5-585f-4413-8aff-a79ed39e3562",
   "metadata": {},
   "outputs": [],
   "source": [
    "#разделение на тренировочную и валидационную выборки\n",
    "x_train_1, x_valid_1, y_train_1, y_valid_1 = train_test_split(x_1, y_1, test_size=0.25, random_state=83749)"
   ]
  },
  {
   "cell_type": "code",
   "execution_count": 25,
   "id": "97024c8c-daa6-4b4d-88c7-7496fd8283f9",
   "metadata": {},
   "outputs": [
    {
     "data": {
      "text/plain": [
       "(74992, 3)"
      ]
     },
     "execution_count": 25,
     "metadata": {},
     "output_type": "execute_result"
    }
   ],
   "source": [
    "x_train_1.shape"
   ]
  },
  {
   "cell_type": "code",
   "execution_count": 26,
   "id": "6505bac4-06ec-4729-942f-dfd4123f3d41",
   "metadata": {},
   "outputs": [
    {
     "data": {
      "text/plain": [
       "(24998, 3)"
      ]
     },
     "execution_count": 26,
     "metadata": {},
     "output_type": "execute_result"
    }
   ],
   "source": [
    "x_valid_1.shape"
   ]
  },
  {
   "cell_type": "code",
   "execution_count": 27,
   "id": "f5400265-0367-4913-bc56-5fea0234b092",
   "metadata": {},
   "outputs": [
    {
     "name": "stdout",
     "output_type": "stream",
     "text": [
      "Значение RMSE -  37.72327730546291\n",
      "Средний запас сырья -  92.48439164533188\n"
     ]
    }
   ],
   "source": [
    "#обучение модели №1\n",
    "model_1, y_predicted_1 = lin_reg(x_train_1, y_train_1,x_valid_1,y_valid_1)"
   ]
  },
  {
   "cell_type": "markdown",
   "id": "8bc3f009-cae5-41e6-b22d-93e8d09da7e4",
   "metadata": {},
   "source": [
    "### Исследование региона №2"
   ]
  },
  {
   "cell_type": "code",
   "execution_count": 28,
   "id": "7cfbc1a4-e8d3-4d9c-bbf5-f950e16f3cf5",
   "metadata": {},
   "outputs": [],
   "source": [
    "#разделение на тренировочную и валидационную выборки\n",
    "x_train_2, x_valid_2, y_train_2, y_valid_2 = train_test_split(x_2, y_2, test_size=0.25, random_state=83749)"
   ]
  },
  {
   "cell_type": "code",
   "execution_count": 29,
   "id": "8a64584b-94d0-4a7c-958a-9ce660eff5fd",
   "metadata": {},
   "outputs": [
    {
     "data": {
      "text/plain": [
       "(74997, 3)"
      ]
     },
     "execution_count": 29,
     "metadata": {},
     "output_type": "execute_result"
    }
   ],
   "source": [
    "x_train_2.shape"
   ]
  },
  {
   "cell_type": "code",
   "execution_count": 30,
   "id": "4690cb74-1b4e-4c4c-b206-26f4acde35d5",
   "metadata": {},
   "outputs": [
    {
     "data": {
      "text/plain": [
       "(24999, 3)"
      ]
     },
     "execution_count": 30,
     "metadata": {},
     "output_type": "execute_result"
    }
   ],
   "source": [
    "x_valid_2.shape"
   ]
  },
  {
   "cell_type": "code",
   "execution_count": 31,
   "id": "803280a1-7528-4895-9560-50449fe547f7",
   "metadata": {},
   "outputs": [
    {
     "name": "stdout",
     "output_type": "stream",
     "text": [
      "Значение RMSE -  0.8913859604863702\n",
      "Средний запас сырья -  69.10185714816008\n"
     ]
    }
   ],
   "source": [
    "#обучение модели №2\n",
    "model_2,y_predicted_2 = lin_reg(x_train_2, y_train_2,x_valid_2,y_valid_2)"
   ]
  },
  {
   "cell_type": "markdown",
   "id": "f203531b-5c92-490f-a966-cdd9636b941a",
   "metadata": {},
   "source": [
    "### Исследование региона №3"
   ]
  },
  {
   "cell_type": "code",
   "execution_count": 32,
   "id": "11e8b510-f7fe-4eb4-9d98-1acd7b332cf3",
   "metadata": {},
   "outputs": [],
   "source": [
    "#разделение на тренировочную и валидационную выборки\n",
    "x_train_3, x_valid_3, y_train_3, y_valid_3 = train_test_split(x_3, y_3, test_size=0.25, random_state=83749)"
   ]
  },
  {
   "cell_type": "code",
   "execution_count": 33,
   "id": "9e99f7f0-1f3b-4282-80b4-5bc4c3753bc7",
   "metadata": {},
   "outputs": [
    {
     "data": {
      "text/plain": [
       "(74997, 3)"
      ]
     },
     "execution_count": 33,
     "metadata": {},
     "output_type": "execute_result"
    }
   ],
   "source": [
    "x_train_3.shape"
   ]
  },
  {
   "cell_type": "code",
   "execution_count": 34,
   "id": "6fef8252-a79a-41d6-8217-5839c2e0cb61",
   "metadata": {},
   "outputs": [
    {
     "data": {
      "text/plain": [
       "(24999, 3)"
      ]
     },
     "execution_count": 34,
     "metadata": {},
     "output_type": "execute_result"
    }
   ],
   "source": [
    "x_valid_3.shape"
   ]
  },
  {
   "cell_type": "code",
   "execution_count": 35,
   "id": "b1123b3c-a20b-43fc-a978-de2178d96de1",
   "metadata": {},
   "outputs": [
    {
     "name": "stdout",
     "output_type": "stream",
     "text": [
      "Значение RMSE -  39.87026996897062\n",
      "Средний запас сырья -  94.8417425499871\n"
     ]
    }
   ],
   "source": [
    "#обучение модели №3\n",
    "model_3, y_predicted_3 = lin_reg(x_train_3, y_train_3,x_valid_3,y_valid_3)"
   ]
  },
  {
   "cell_type": "markdown",
   "id": "d578f50e-e34c-495c-8b83-cf31583d1a72",
   "metadata": {},
   "source": [
    "### Вывод:\n",
    " - были построены модели линейной регрессии для 3 регионов\n",
    " - для каждой модели было рассчитано RMSE (37.72, 0.89, 39.87)\n",
    " - был рассчитан средний запас сырья для каждого региона\n",
    " - Наиболее благоприятные регионы сточки зрения средних запасов сырья 1 и 3, но 2 регион имеет значительно меньшее среднеквадратическое отклонение, следовательно более узкое распределение"
   ]
  },
  {
   "cell_type": "markdown",
   "id": "21cfa35e-2c89-43a7-bc63-920d747c7286",
   "metadata": {},
   "source": [
    "## Подготовка к расчёту прибыли"
   ]
  },
  {
   "cell_type": "markdown",
   "id": "a09c9bbf-46bf-4687-a5a0-013347ca2a3e",
   "metadata": {},
   "source": [
    "3.1. Все ключевые значения для расчётов сохраните в отдельных переменных.\n",
    "3.2. Рассчитайте достаточный объём сырья для безубыточной разработки новой скважины. Сравните полученный объём сырья со средним запасом в каждом регионе.\n",
    "3.3. Напишите выводы по этапу подготовки расчёта прибыли."
   ]
  },
  {
   "cell_type": "code",
   "execution_count": 36,
   "id": "3967bf4f-79d2-4834-bfb8-8298b9856129",
   "metadata": {},
   "outputs": [],
   "source": [
    "budget = 10*10**9\n",
    "price_per_barrel = 450\n",
    "price_per_product = 450*10**3\n",
    "quantity = 500\n",
    "best_quantity = 200"
   ]
  },
  {
   "cell_type": "code",
   "execution_count": 37,
   "id": "254d7950-c453-4513-83e8-0a3b57c44975",
   "metadata": {},
   "outputs": [
    {
     "data": {
      "text/plain": [
       "111.11111111111111"
      ]
     },
     "execution_count": 37,
     "metadata": {},
     "output_type": "execute_result"
    }
   ],
   "source": [
    "product_volume = budget/best_quantity/price_per_product\n",
    "product_volume"
   ]
  },
  {
   "cell_type": "markdown",
   "id": "46451a85-1edf-4957-b519-52f39588c051",
   "metadata": {},
   "source": [
    "### Выовод:\n",
    "- Был рассчитан достаточный объём сырья для безубыточной разработки новой скважины - 111,11\n",
    "- наиболее близки к данному значению средние запасы скважин из региново №1 и 3"
   ]
  },
  {
   "cell_type": "markdown",
   "id": "16938f6f-a6c8-4baa-bed5-6355572cda71",
   "metadata": {},
   "source": [
    "## Расчёт прибыли и рисков "
   ]
  },
  {
   "cell_type": "markdown",
   "id": "10380838-080d-41fe-8894-4e5ff0a9fe2a",
   "metadata": {},
   "source": [
    "ри разведке региона исследуют 500 точек, из которых с помощью машинного обучения выбирают 200 лучших для разработки.\n",
    "Бюджет на разработку скважин в регионе — 10 млрд рублей.\n",
    "При нынешних ценах один баррель сырья приносит 450 рублей дохода. Доход с каждой единицы продукта составляет 450 тыс. рублей, поскольку объём указан в тысячах баррелей.\n",
    "После оценки рисков нужно оставить лишь те регионы, в которых вероятность убытков меньше 2.5%. Среди них выбирают регион с наибольшей средней прибылью."
   ]
  },
  {
   "cell_type": "code",
   "execution_count": 38,
   "id": "70b91314-8106-4f8f-b2d4-163650ceead6",
   "metadata": {},
   "outputs": [],
   "source": [
    "#функция для расчета прибыли\n",
    "def profit (target, probabilities, best_quantity):\n",
    "    probs_sorted = pd.Series(probabilities).sort_values(ascending=False)\n",
    "    target=target.reset_index(drop=True)\n",
    "    selected = target[probs_sorted.index][:best_quantity]\n",
    "    return selected.sum()*price_per_product - budget"
   ]
  },
  {
   "cell_type": "code",
   "execution_count": 39,
   "id": "0b0c8737-424f-4d21-9b5b-090bb19e4d3f",
   "metadata": {},
   "outputs": [
    {
     "data": {
      "text/plain": [
       "'объем сырья - 7530.241862788387, прибыль - 3388608838.254774'"
      ]
     },
     "execution_count": 39,
     "metadata": {},
     "output_type": "execute_result"
    }
   ],
   "source": [
    "#расчет прибыли для региона №1\n",
    "f\"объем сырья - {profit(y_valid_1,y_predicted_1,best_quantity)/price_per_product}, прибыль - {profit(y_valid_1,y_predicted_1,best_quantity)}\"\n"
   ]
  },
  {
   "cell_type": "code",
   "execution_count": 40,
   "id": "69dcdd9a-da40-4028-a248-2752fc19476a",
   "metadata": {},
   "outputs": [
    {
     "data": {
      "text/plain": [
       "'объем сырья - 5366.859325958913, прибыль - 2415086696.681511'"
      ]
     },
     "execution_count": 40,
     "metadata": {},
     "output_type": "execute_result"
    }
   ],
   "source": [
    "#расчет прибыли для региона №2\n",
    "f\"объем сырья - {profit(y_valid_2,y_predicted_2,best_quantity)/price_per_product}, прибыль - {profit(y_valid_2,y_predicted_2,best_quantity)}\"\n"
   ]
  },
  {
   "cell_type": "code",
   "execution_count": 41,
   "id": "c94ec850-1806-4892-a8b2-c92bd127effc",
   "metadata": {},
   "outputs": [
    {
     "data": {
      "text/plain": [
       "'объем сырья - 6360.594720253461, прибыль - 2862267624.1140575'"
      ]
     },
     "execution_count": 41,
     "metadata": {},
     "output_type": "execute_result"
    }
   ],
   "source": [
    "#расчет прибыли для региона №3\n",
    "f\"объем сырья - {profit(y_valid_3,y_predicted_3,best_quantity)/price_per_product}, прибыль - {profit(y_valid_3,y_predicted_3,best_quantity)}\"\n"
   ]
  },
  {
   "cell_type": "code",
   "execution_count": 65,
   "id": "ed136b9f-603f-4e7c-962b-86efd0462e2d",
   "metadata": {},
   "outputs": [],
   "source": [
    "state = np.random.RandomState(12345)\n",
    "def profit_riscks(y_valid,y_predicted,quantity):\n",
    "    values = []\n",
    "    count=0\n",
    "    for i in range(1000):\n",
    "        target_sample=y_valid.reset_index(drop=True).sample(n=quantity, replace=True, random_state=state)\n",
    "        prob_sample = y_predicted[target_sample.index]\n",
    "        cost=profit(target_sample, prob_sample, best_quantity) \n",
    "        \n",
    "        if cost < 0:\n",
    "            count+=1\n",
    "            \n",
    "        values.append(cost)\n",
    "    \n",
    "    values = pd.Series(values)\n",
    "    print('Среднее значение:',values.mean())\n",
    "    print('Нижняя граница доверительного интервала: {}, верхняя граница: {}'.format(values.quantile(.025),values.quantile(.975)))\n",
    "    print('Доля, отрицательных случаев:', count/1000)\n",
    "    "
   ]
  },
  {
   "cell_type": "code",
   "execution_count": 66,
   "id": "7e495cf2-73d1-47e1-b05b-3a0256d24b4e",
   "metadata": {},
   "outputs": [
    {
     "name": "stdout",
     "output_type": "stream",
     "text": [
      "Среднее значение: 435112093.09817004\n",
      "Нижняя граница доверительного интервала: -36607990.427381516, верхняя граница: 914232471.7498555\n",
      "Доля, отрицательных случаев: 0.038\n"
     ]
    }
   ],
   "source": [
    "# region1\n",
    "profit_riscks (y_valid_1,y_predicted_1,quantity)"
   ]
  },
  {
   "cell_type": "code",
   "execution_count": 67,
   "id": "2d5bded7-87f0-4991-9dac-82f2f78cf901",
   "metadata": {},
   "outputs": [
    {
     "name": "stdout",
     "output_type": "stream",
     "text": [
      "Среднее значение: 472834582.34909505\n",
      "Нижняя граница доверительного интервала: 71067324.48485808, верхняя граница: 881540480.4005146\n",
      "Доля, отрицательных случаев: 0.01\n"
     ]
    }
   ],
   "source": [
    "# region2\n",
    "profit_riscks (y_valid_2,y_predicted_2,quantity)"
   ]
  },
  {
   "cell_type": "code",
   "execution_count": 68,
   "id": "e48ae687-0507-4c5d-9144-2c4688b26435",
   "metadata": {},
   "outputs": [
    {
     "name": "stdout",
     "output_type": "stream",
     "text": [
      "Среднее значение: 404371589.41181207\n",
      "Нижняя граница доверительного интервала: -62689473.6003538, верхняя граница: 873375183.295743\n",
      "Доля, отрицательных случаев: 0.064\n"
     ]
    }
   ],
   "source": [
    "# region3\n",
    "profit_riscks (y_valid_3,y_predicted_3,quantity)"
   ]
  },
  {
   "cell_type": "markdown",
   "id": "13625ec0-239f-4aa6-af03-7805f7dcc8a7",
   "metadata": {},
   "source": [
    "## Вывод:\n",
    "- На этапе предобработки данных были удалены дубликаты id скважин из трех таблиц\n",
    "- были выделены признаки для обучения (х1,х2,х3) и целевой признак(у1,у2,у3)\n",
    "- были построены модели линейной регрессии для 3 регионов\n",
    "- для каждой модели было рассчитано RMSE (37.72, 0.89, 39.87)\n",
    "- был рассчитан средний запас сырья для каждого региона\n",
    "- Наиболее благоприятные регионы сточки зрения средних запасов сырья 1 и 3, но 2 регион имеет значительно меньшее среднеквадратическое отклонение, следовательно более узкое распределение\n",
    "- Был рассчитан достаточный объём сырья для безубыточной разработки новой скважины - 111,11\n",
    "- наиболее близки к данному значению средние запасы скважин из региново №1 и 3\n",
    "- Были расссчитаны прибыль и доверительный интервалы по 200 скважинам из каждого региона\n",
    "- По результатам провеенного анализа наиболее благоприятным для разработки был выбран 2 регион, так как имеет наименьшее среднеквадратичное отклонение, наибольшее значение прибыли из 3 регионов и положительные границы доверительного интервала. А также наименьшую долю риска 0.01"
   ]
  }
 ],
 "metadata": {
  "kernelspec": {
   "display_name": "Python 3 (ipykernel)",
   "language": "python",
   "name": "python3"
  },
  "language_info": {
   "codemirror_mode": {
    "name": "ipython",
    "version": 3
   },
   "file_extension": ".py",
   "mimetype": "text/x-python",
   "name": "python",
   "nbconvert_exporter": "python",
   "pygments_lexer": "ipython3",
   "version": "3.9.7"
  },
  "toc": {
   "base_numbering": 1,
   "nav_menu": {},
   "number_sections": true,
   "sideBar": true,
   "skip_h1_title": true,
   "title_cell": "Table of Contents",
   "title_sidebar": "Contents",
   "toc_cell": false,
   "toc_position": {},
   "toc_section_display": true,
   "toc_window_display": false
  },
  "toc-autonumbering": true
 },
 "nbformat": 4,
 "nbformat_minor": 5
}
